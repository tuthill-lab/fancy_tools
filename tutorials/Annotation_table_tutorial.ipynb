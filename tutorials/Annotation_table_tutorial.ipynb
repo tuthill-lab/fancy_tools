{
 "cells": [
  {
   "cell_type": "markdown",
   "id": "b247cefc",
   "metadata": {},
   "source": [
    "## CAVEclient Annotation Table tutorial\n",
    "\n",
    "Uploading your annotations as an annotation table is a great way to be able to store neurons of interest in the FANC EM dataset. Tables allow you to track your neurons through changes in the segmentation (whether that be from proofreading or new versions), it also allows you to share your work at the benefit of the greater FANC community. This tutorial provides a few examples on how to create and upload annotations, how to add new annotations or edit existing annotations, and how to delete annotations."
   ]
  },
  {
   "cell_type": "code",
   "execution_count": 1,
   "id": "1fb836c2",
   "metadata": {},
   "outputs": [],
   "source": [
    "#importing helpful packages\n",
    "from caveclient import CAVEclient\n",
    "import pandas as pd\n",
    "import numpy as np "
   ]
  },
  {
   "cell_type": "markdown",
   "id": "79650bcf",
   "metadata": {},
   "source": [
    "If you have not registered an email with CAVEclient, please do this first. You can find an example for this here: https://github.com/htem/FANC_auto_recon/blob/main/example_notebooks/FANC_Connectomics_General_Intro.ipynb\n",
    "\n",
    "If you are already registered, you are all set!"
   ]
  },
  {
   "cell_type": "code",
   "execution_count": 3,
   "id": "6b982408",
   "metadata": {},
   "outputs": [],
   "source": [
    "client = CAVEclient()\n",
    "dataset = 'fanc_production_mar2021'\n",
    "client = CAVEclient(dataset)"
   ]
  },
  {
   "cell_type": "markdown",
   "id": "04b5db62",
   "metadata": {},
   "source": [
    "### Creating A Table"
   ]
  },
  {
   "cell_type": "markdown",
   "id": "792f3984",
   "metadata": {},
   "source": [
    "It is very important to provide a meaningful description for your table. This table will be visible for the FANC community, so the more information the better. At minimum, please include:\n",
    "- what the data represents, \n",
    "- how the data was collected (if automated, which method was used), \n",
    "- when it was created or if it comes from a particular publication/submission. \n",
    "- who is managing the table and the home lab."
   ]
  },
  {
   "cell_type": "code",
   "execution_count": 5,
   "id": "bb4c2533",
   "metadata": {},
   "outputs": [],
   "source": [
    "description = ''"
   ]
  },
  {
   "cell_type": "markdown",
   "id": "b6fa87f8",
   "metadata": {},
   "source": [
    "The following parameters are required to create the table, you will only need to run create_table() once for each new table, so please me sure the information is correct.\n",
    "\n",
    "Schema refers to the format of the table, different schemas require different information. Please refer to this link to see the available schemas and the minimal required information: https://global.daf-apis.com/schema/views/"
   ]
  },
  {
   "cell_type": "code",
   "execution_count": null,
   "id": "90f228cf",
   "metadata": {},
   "outputs": [],
   "source": [
    "#schema to be used for the table \n",
    "schema = ''\n",
    "\n",
    "table_name = '' #e.g. motor_neuron_table_v0 \n",
    "\n",
    "#a list of the resolution that these annotations were done in. \n",
    "#for reference, FANC image resolution is [4.3,4.3,45]\n",
    "voxel_resolution = []"
   ]
  },
  {
   "cell_type": "code",
   "execution_count": 6,
   "id": "58e9b218",
   "metadata": {},
   "outputs": [],
   "source": [
    "client.annotation.create_table(table_name=table_name,\n",
    "                               schema_name=schema,\n",
    "                              voxel_resolution=voxel_resolution,\n",
    "                              description = description)"
   ]
  },
  {
   "cell_type": "markdown",
   "id": "2bcb2ccb",
   "metadata": {},
   "source": [
    "### Uploading Annotations\n",
    "\n",
    "Now that you've created a table, you will want to upload annotations. The format of the table will vary depending on your schema but the caveclient functions will be the same. \n",
    "\n",
    "Using the stage tool is very helpful in making sure that your data is in the proper format. You can find more documentation here: https://caveclient.readthedocs.io/en/latest/guide/annotation.html#staged-annotations"
   ]
  },
  {
   "cell_type": "code",
   "execution_count": 7,
   "id": "fcdd1396",
   "metadata": {},
   "outputs": [],
   "source": [
    "#here we are using the same parameters we used to create the table above\n",
    "stage = client.annotation.stage_annotations(table_name=table_name,\n",
    "                                    schema_name = schema,\n",
    "                                    table_resolution=voxel_resolution)"
   ]
  },
  {
   "cell_type": "markdown",
   "id": "d92a2ba6",
   "metadata": {},
   "source": [
    "Here is a sample dataframe for the 'bound_tag' schema. Please make sure to change this depending on your data and chosen table schema"
   ]
  },
  {
   "cell_type": "code",
   "execution_count": 9,
   "id": "ca4c3787",
   "metadata": {},
   "outputs": [
    {
     "data": {
      "text/html": [
       "<div>\n",
       "<style scoped>\n",
       "    .dataframe tbody tr th:only-of-type {\n",
       "        vertical-align: middle;\n",
       "    }\n",
       "\n",
       "    .dataframe tbody tr th {\n",
       "        vertical-align: top;\n",
       "    }\n",
       "\n",
       "    .dataframe thead th {\n",
       "        text-align: right;\n",
       "    }\n",
       "</style>\n",
       "<table border=\"1\" class=\"dataframe\">\n",
       "  <thead>\n",
       "    <tr style=\"text-align: right;\">\n",
       "      <th></th>\n",
       "      <th>pt_position</th>\n",
       "      <th>tag</th>\n",
       "    </tr>\n",
       "  </thead>\n",
       "  <tbody>\n",
       "    <tr>\n",
       "      <th>0</th>\n",
       "      <td>[13329, 114635, 1861]</td>\n",
       "      <td>MN_A101_T1L</td>\n",
       "    </tr>\n",
       "    <tr>\n",
       "      <th>1</th>\n",
       "      <td>[63394, 114393, 2304]</td>\n",
       "      <td>MN_A101_T1R</td>\n",
       "    </tr>\n",
       "    <tr>\n",
       "      <th>2</th>\n",
       "      <td>[11729, 116735, 1478]</td>\n",
       "      <td>MN_A102_T1L</td>\n",
       "    </tr>\n",
       "    <tr>\n",
       "      <th>3</th>\n",
       "      <td>[63084, 116459, 2863]</td>\n",
       "      <td>MN_A102_T1R</td>\n",
       "    </tr>\n",
       "    <tr>\n",
       "      <th>4</th>\n",
       "      <td>[59659, 115855, 2065]</td>\n",
       "      <td>MN_A103_T1R</td>\n",
       "    </tr>\n",
       "  </tbody>\n",
       "</table>\n",
       "</div>"
      ],
      "text/plain": [
       "             pt_position          tag\n",
       "0  [13329, 114635, 1861]  MN_A101_T1L\n",
       "1  [63394, 114393, 2304]  MN_A101_T1R\n",
       "2  [11729, 116735, 1478]  MN_A102_T1L\n",
       "3  [63084, 116459, 2863]  MN_A102_T1R\n",
       "4  [59659, 115855, 2065]  MN_A103_T1R"
      ]
     },
     "execution_count": 9,
     "metadata": {},
     "output_type": "execute_result"
    }
   ],
   "source": [
    "sample_df = pd.DataFrame()\n",
    "\n",
    "pt_positions = [[ 13329, 114635,   1861],\n",
    "                [ 63394, 114393,   2304],\n",
    "                [ 11729, 116735,   1478],\n",
    "                [ 63084, 116459,   2863],\n",
    "                [ 59659, 115855,   2065]]\n",
    "\n",
    "tags = ['MN_A101_T1L', 'MN_A101_T1R', 'MN_A102_T1L', 'MN_A102_T1R', 'MN_A103_T1R']\n",
    "\n",
    "sample_df['pt_position'] = pt_positions\n",
    "sample_df['tag'] = tags\n",
    "\n",
    "sample_df"
   ]
  },
  {
   "cell_type": "code",
   "execution_count": null,
   "id": "a9f26ae8",
   "metadata": {},
   "outputs": [],
   "source": [
    "#Once our data is in the right format, we can add the dataframe to our staging object\n",
    "stage.add_dataframe(sample_df)"
   ]
  },
  {
   "cell_type": "code",
   "execution_count": null,
   "id": "de662131",
   "metadata": {},
   "outputs": [],
   "source": [
    "#This allows you to list out the staged annotation before uploading to the client\n",
    "stage.annotation_list"
   ]
  },
  {
   "cell_type": "markdown",
   "id": "11b97129",
   "metadata": {},
   "source": [
    "If everything looks good, upload the annotations using the line below. Note that if it is successful, you will see a list of numbers that correspond to the ids of these newly updated annotations."
   ]
  },
  {
   "cell_type": "code",
   "execution_count": null,
   "id": "cd5aa4b9",
   "metadata": {},
   "outputs": [],
   "source": [
    "client.annotation.upload_staged_annotations(stage)"
   ]
  },
  {
   "cell_type": "markdown",
   "id": "c32c7527",
   "metadata": {},
   "source": [
    "### Adding New Annotations\n",
    "\n",
    "Adding new annotations to an existing table is the same as above, you just skip create_table() and call your table of interest when setting up your stage object. Note that these annotations will be added as new rows to your table. "
   ]
  },
  {
   "cell_type": "markdown",
   "id": "1e78b40f",
   "metadata": {},
   "source": [
    "### Updating Existing Annotations\n",
    "\n",
    "Updating existing annotation is very similar to uploading new annotations except for two things:\n",
    "- set the update parameter as True\n",
    "- add an id column to your dataframe that should match the annotation you plan to update"
   ]
  },
  {
   "cell_type": "code",
   "execution_count": 8,
   "id": "9c179f1e",
   "metadata": {},
   "outputs": [],
   "source": [
    "update_stage = client.annotation.stage_annotations(table_name, update=True)"
   ]
  },
  {
   "cell_type": "code",
   "execution_count": 10,
   "id": "5ab06a9c",
   "metadata": {},
   "outputs": [
    {
     "data": {
      "text/html": [
       "<div>\n",
       "<style scoped>\n",
       "    .dataframe tbody tr th:only-of-type {\n",
       "        vertical-align: middle;\n",
       "    }\n",
       "\n",
       "    .dataframe tbody tr th {\n",
       "        vertical-align: top;\n",
       "    }\n",
       "\n",
       "    .dataframe thead th {\n",
       "        text-align: right;\n",
       "    }\n",
       "</style>\n",
       "<table border=\"1\" class=\"dataframe\">\n",
       "  <thead>\n",
       "    <tr style=\"text-align: right;\">\n",
       "      <th></th>\n",
       "      <th>pt_position</th>\n",
       "      <th>tag</th>\n",
       "      <th>id</th>\n",
       "    </tr>\n",
       "  </thead>\n",
       "  <tbody>\n",
       "    <tr>\n",
       "      <th>0</th>\n",
       "      <td>[13329, 114635, 1861]</td>\n",
       "      <td>MN_A104_T1L</td>\n",
       "      <td>0</td>\n",
       "    </tr>\n",
       "    <tr>\n",
       "      <th>1</th>\n",
       "      <td>[11729, 116735, 1478]</td>\n",
       "      <td>MN_A105_T1L</td>\n",
       "      <td>2</td>\n",
       "    </tr>\n",
       "  </tbody>\n",
       "</table>\n",
       "</div>"
      ],
      "text/plain": [
       "             pt_position          tag  id\n",
       "0  [13329, 114635, 1861]  MN_A104_T1L   0\n",
       "1  [11729, 116735, 1478]  MN_A105_T1L   2"
      ]
     },
     "execution_count": 10,
     "metadata": {},
     "output_type": "execute_result"
    }
   ],
   "source": [
    "#sample dataframe, let's say we're updating the tag for two neurons, with ID 0 and 2 \n",
    "update_df = pd.DataFrame()\n",
    "\n",
    "pt_positions = [[ 13329, 114635,   1861],\n",
    "                [ 11729, 116735,   1478]]\n",
    "tags = ['MN_A104_T1L', 'MN_A105_T1L']\n",
    "ids = [0,2]\n",
    "\n",
    "update_df['pt_position'] = pt_positions\n",
    "update_df['tag'] = tags\n",
    "update_df['id'] = ids\n",
    "\n",
    "update_df"
   ]
  },
  {
   "cell_type": "code",
   "execution_count": null,
   "id": "717a9a88",
   "metadata": {},
   "outputs": [],
   "source": [
    "update_stage.add_dataframe(update_df)"
   ]
  },
  {
   "cell_type": "code",
   "execution_count": null,
   "id": "9e4e5114",
   "metadata": {},
   "outputs": [],
   "source": [
    "update_stage.annotation_list"
   ]
  },
  {
   "cell_type": "markdown",
   "id": "3ce1d391",
   "metadata": {},
   "source": [
    "#### Note about IDs. \n",
    "As before, once uploaded you will see a list of the updated IDs. Note that these new IDs will be different to the original IDs you just input. This is because every time there is a change to an annotation, it gets a new ID. That said, the caveclient keeps track of these changes so you can always go back and check the history of a given annotation."
   ]
  },
  {
   "cell_type": "code",
   "execution_count": 11,
   "id": "33b5695b",
   "metadata": {},
   "outputs": [],
   "source": [
    "#update your annotations\n",
    "client.annotation.upload_staged_annotations(update_stage)"
   ]
  },
  {
   "cell_type": "markdown",
   "id": "72f34a51",
   "metadata": {},
   "source": [
    "### Delete Annotations\n",
    "\n",
    "If you want to remove individual annotations, you can do so by specifying the id you want removed. Note that annotations that are deleted are labelled as non-valid (so you will not see them in future queries) but they are not deleted from the table itself. Let's say we want to remove the annotation in the sample df above from ID 1, we would do the following:"
   ]
  },
  {
   "cell_type": "code",
   "execution_count": 17,
   "id": "30dfe5e5",
   "metadata": {},
   "outputs": [],
   "source": [
    "#a list of the ids to be removed\n",
    "to_remove = [1]\n",
    "table_name = ''"
   ]
  },
  {
   "cell_type": "code",
   "execution_count": null,
   "id": "fc83001f",
   "metadata": {},
   "outputs": [],
   "source": [
    "#if successful, the ids you deleted will be printed below\n",
    "client.annotation.delete_annotation(table_name=table_name, annotation_ids = to_remove)"
   ]
  },
  {
   "cell_type": "code",
   "execution_count": null,
   "id": "e1fed2a9",
   "metadata": {},
   "outputs": [],
   "source": []
  },
  {
   "cell_type": "code",
   "execution_count": null,
   "id": "f5f8858b",
   "metadata": {},
   "outputs": [],
   "source": []
  }
 ],
 "metadata": {
  "kernelspec": {
   "display_name": "Python 3",
   "language": "python",
   "name": "python3"
  },
  "language_info": {
   "codemirror_mode": {
    "name": "ipython",
    "version": 3
   },
   "file_extension": ".py",
   "mimetype": "text/x-python",
   "name": "python",
   "nbconvert_exporter": "python",
   "pygments_lexer": "ipython3",
   "version": "3.7.10"
  }
 },
 "nbformat": 4,
 "nbformat_minor": 5
}
