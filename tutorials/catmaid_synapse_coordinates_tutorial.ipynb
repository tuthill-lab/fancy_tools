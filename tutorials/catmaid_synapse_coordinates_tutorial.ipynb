{
 "cells": [
  {
   "cell_type": "code",
   "execution_count": null,
   "metadata": {},
   "outputs": [],
   "source": [
    "import pymaid\n",
    "import numpy as np\n",
    "from FANC_auto_recon.transforms import realignment\n",
    "import matplotlib.pyplot as plt\n",
    "from get_catmaid_synapse_coordinates import *"
   ]
  },
  {
   "cell_type": "code",
   "execution_count": null,
   "metadata": {},
   "outputs": [],
   "source": [
    "# Connect to CATMAID \n",
    "\n",
    "project_id = 13 # 13 is FANC_V3_community\n",
    "\n",
    "# Are credentials (CATMAID_SERVER, CATMAID_API_TOKEN, CATMAID_HTTP_USER, and CATMAID_HTTP_PASSWORD)\n",
    "# stored as environment variables?\n",
    "credentials_stored = True\n",
    "\n",
    "if credentials_stored:\n",
    "    catmaid_instance = pymaid.connect_catmaid(project_id=project_id)\n",
    "else:\n",
    "    # Enter credentials \n",
    "    catmaid_server = '' \n",
    "    catmaid_api_token = '' \n",
    "    catmaid_http_username = '' \n",
    "    catmaid_http_password = '' \n",
    "    \n",
    "    catmaid_instance = pymaid.CatmaidInstance(catmaid_server, \n",
    "                                              catmaid_api_token, \n",
    "                                              catmaid_http_username, \n",
    "                                              catmaid_http_password, \n",
    "                                              catmaid_project_id); \n"
   ]
  },
  {
   "cell_type": "code",
   "execution_count": null,
   "metadata": {},
   "outputs": [],
   "source": [
    "# Get neurons that match the annotation\n",
    "neuron_list = pymaid.get_neurons('annotation:chordotonal neuron') \n",
    "neuron_list"
   ]
  },
  {
   "cell_type": "code",
   "execution_count": 17,
   "metadata": {},
   "outputs": [],
   "source": [
    "# Select skeleton ID of neuron of interest   \n",
    "skeleton_id = '379369' "
   ]
  },
  {
   "cell_type": "code",
   "execution_count": null,
   "metadata": {},
   "outputs": [],
   "source": [
    "# Get coordinates of input and output synapses \n",
    "neuron = neuron_list[neuron_list.skeleton_id == skeleton_id][0]\n",
    "input_coordinates, output_coordinates = get_catmaid_synapse_coordinates(neuron)"
   ]
  },
  {
   "cell_type": "code",
   "execution_count": null,
   "metadata": {},
   "outputs": [],
   "source": [
    "# Plot coordinates of input and output synapses \n",
    "plt.scatter(output_coordinates[:,0], -output_coordinates[:,1], s=10, facecolors='k', edgecolors='k', label='Output synapses')\n",
    "plt.scatter(input_coordinates[:,0], -input_coordinates[:,1], s=10, facecolors=[.5,.5,.5], edgecolors=[.5,.5,.5], label='Input synapses')\n",
    "plt.xlabel('Lateral-medial')\n",
    "plt.ylabel('Posterior-anterior')\n",
    "plt.legend()\n",
    "plt.show()"
   ]
  }
 ],
 "metadata": {
  "kernelspec": {
   "display_name": "Python 3.8.9 64-bit",
   "language": "python",
   "name": "python3"
  },
  "language_info": {
   "codemirror_mode": {
    "name": "ipython",
    "version": 3
   },
   "file_extension": ".py",
   "mimetype": "text/x-python",
   "name": "python",
   "nbconvert_exporter": "python",
   "pygments_lexer": "ipython3",
   "version": "3.8.9"
  },
  "vscode": {
   "interpreter": {
    "hash": "31f2aee4e71d21fbe5cf8b01ff0e069b9275f58929596ceb00d14d90e3e16cd6"
   }
  }
 },
 "nbformat": 4,
 "nbformat_minor": 4
}
