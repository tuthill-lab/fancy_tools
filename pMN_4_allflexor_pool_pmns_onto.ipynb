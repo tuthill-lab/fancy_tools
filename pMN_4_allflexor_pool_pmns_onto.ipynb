{
 "cells": [
  {
   "cell_type": "code",
   "execution_count": null,
   "metadata": {},
   "outputs": [],
   "source": [
    "import os\n",
    "import utils\n",
    "import connectome_create\n",
    "# viz_method = one of ['itkwidgets', 'vtk']\n",
    "viz_method = 'vtk'\n",
    "import json\n",
    "\n",
    "\n",
    "# import some of our favorite packages\n",
    "import pandas as pd\n",
    "import numpy as np\n",
    "import os\n",
    "import matplotlib.pyplot as plt\n",
    "import seaborn as sns\n",
    "import re\n",
    "import warnings\n",
    "\n",
    "%matplotlib inline\n",
    "from sklearn.metrics.pairwise import cosine_similarity\n",
    "from sklearn.cluster import AgglomerativeClustering\n",
    "import nglui.statebuilder as ngstbld\n",
    "\n",
    "# # this is the EM specific package for querying the EM data\n",
    "from caveclient import CAVEclient\n",
    "\n",
    "# from meshparty import trimesh_io, trimesh_vtk\n",
    "# from meshparty import skeletonize, skeleton_io, skeleton\n",
    "import cloudvolume\n",
    "\n",
    "%load_ext autoreload\n",
    "%autoreload 2"
   ]
  },
  {
   "cell_type": "code",
   "execution_count": null,
   "metadata": {},
   "outputs": [],
   "source": [
    "datastack_name = 'fanc_production_mar2021'\n",
    "\n",
    "client = CAVEclient(datastack_name)"
   ]
  },
  {
   "cell_type": "markdown",
   "metadata": {
    "tags": []
   },
   "source": [
    "# Load Premotor table"
   ]
  },
  {
   "cell_type": "code",
   "execution_count": null,
   "metadata": {
    "tags": []
   },
   "outputs": [],
   "source": [
    "pre_to_df = connectome_create.load_pre_to_df(ext='ordered_no_frags')\n",
    "pre_to_df.loc['motor'].index.to_frame().set_index('preferred_pool').to_csv('./dfs_saved/mn_to_pool_match.csv')"
   ]
  },
  {
   "cell_type": "code",
   "execution_count": null,
   "metadata": {},
   "outputs": [],
   "source": [
    "pre_to_mn_df = connectome_create.load_pre_to_mn_df(ext='matched_typed_with_nt')"
   ]
  },
  {
   "cell_type": "code",
   "execution_count": null,
   "metadata": {},
   "outputs": [],
   "source": [
    "%config InlineBackend.figure_formats = ['png']\n",
    "%matplotlib inline\n",
    "\n",
    "cmap = utils.white_dense()\n",
    "def conn_heat_map(df,xticks,yticks,figsz=[16,16],savefig=False,figfilename=None,cmap=cmap):\n",
    "    fig = plt.figure(1, figsize = figsz)\n",
    "    ax = sns.heatmap(np.log10(df.T.to_numpy()+1), xticklabels=xticks, yticklabels=yticks, cmap=cmap)\n",
    "    cbar = ax.collections[0].colorbar\n",
    "    # here set the labelsize by 20\n",
    "    # cbar.ax.tick_params(labelsize=20)\n",
    "    cbar.set_label(label = 'log 10 # of synapses', size=24)\n",
    "    plt.xlabel('Onto Output neurons', fontsize =18)\n",
    "    plt.ylabel('From input neurons', fontsize =18)\n",
    "    plt.yticks(fontsize = 16)\n",
    "    plt.xticks(fontsize = 16)\n",
    "    plt.show()\n",
    "    if savefig:\n",
    "        if figfilename is None:\n",
    "            figfilename = 'flexor_pool_temp_' + (np.random.randint(10000,99999,size=None)).astype(str)\n",
    "        fig.savefig('./figpanels/' + figfilename + '.svg',format='svg')\n",
    "\n",
    "def lin_heat_map(df,xticks,yticks,figsz=[16,16],savefig=False,figfilename=None,cmap=cmap):\n",
    "    fig = plt.figure(1, figsize = figsz)\n",
    "    ax = sns.heatmap(df.T.to_numpy(), xticklabels=xticks, yticklabels=yticks, cmap=cmap)\n",
    "    cbar = ax.collections[0].colorbar\n",
    "    # here set the labelsize by 20\n",
    "    # cbar.ax.tick_params(labelsize=20)\n",
    "    cbar.set_label(label = 'linear', size=24)\n",
    "    plt.xlabel('Onto Output neurons', fontsize =18)\n",
    "    plt.ylabel('From input neurons', fontsize =18)\n",
    "    plt.yticks(fontsize = 16)\n",
    "    plt.xticks(fontsize = 16)\n",
    "    plt.show()\n",
    "    if figfilename is not None:\n",
    "        fig.savefig('./figpanels/' + figfilename + '.svg',format='svg')\n",
    "\n",
    "def keep_first_string_in_list(in_list):\n",
    "    out_list = []\n",
    "    key = None\n",
    "    for s in in_list:\n",
    "        if key is None:\n",
    "            key = s\n",
    "            out_list = out_list + [key]\n",
    "            continue\n",
    "        elif s==key:\n",
    "            out_list = out_list + ['']\n",
    "        else:\n",
    "            key = s\n",
    "            out_list = out_list + [s]\n",
    "    return out_list"
   ]
  },
  {
   "cell_type": "markdown",
   "metadata": {},
   "source": [
    "# Now look at the small slice of local premotor neurons that prefer flexors, onto everything"
   ]
  },
  {
   "cell_type": "code",
   "execution_count": null,
   "metadata": {},
   "outputs": [],
   "source": [
    "All = slice(None)\n",
    "pool_keys = [\n",
    "        'thorax_swing',\n",
    "        'thorax_stance',\n",
    "        'trochanter_extension',\n",
    "        'trochanter_flexion',\n",
    "        'femur_reductor',\n",
    "        'tibia_extensor',\n",
    "        'main_tibia_flexor',\n",
    "        # 'auxiliary_tibia_flexor_A',\n",
    "        'auxiliary_tibia_flexor_B',\n",
    "        'auxiliary_tibia_flexor_E',\n",
    "        'ltm',\n",
    "        'tarsus_depressor_med_venU',\n",
    "        'tarsus_depressor_noid',\n",
    "        ]\n",
    "\n",
    "# input: ['cell_class', 'preferred_pool', 'NT', 'classification_system', 'cell_type', 'segID']\n",
    "# output: ['cell_class', 'preferred_pool', 'NT', 'classification_system', 'cell_type', 'post_pt_root_id']"
   ]
  },
  {
   "cell_type": "code",
   "execution_count": null,
   "metadata": {},
   "outputs": [],
   "source": [
    "# first sort by synapses onto the pool\n",
    "input_tup = ('local',['tibia_extensor','main_tibia_flexor'],All,All,All,All,All)\n",
    "pre_onto_ti_ext_flex_df = pre_to_df.loc[:,input_tup]"
   ]
  },
  {
   "cell_type": "markdown",
   "metadata": {},
   "source": [
    "## Show the Motor neurons first"
   ]
  },
  {
   "cell_type": "code",
   "execution_count": null,
   "metadata": {},
   "outputs": [],
   "source": [
    "pool_list = ['tibia_extensor','main_tibia_flexor', 'auxiliary_tibia_flexor_B','auxiliary_tibia_flexor_E']\n",
    "input_tup = ('local',pool_list,All,All,All,All)\n",
    "output_tup = ('motor',pool_list,All,All,All,All,All)\n",
    "\n",
    "pre_onto_ti_mns_df = pre_to_df.loc[output_tup,input_tup]\n",
    "# weird neurons\n",
    "print('no NT: {}'.format(pre_onto_ti_mns_df.loc[:,~pre_onto_ti_mns_df.columns.get_level_values('NT').isin(['Ach','GABA','Glu'])].columns.get_level_values('segID').to_list()))\n",
    "# Get rid of the last two pMNs\n",
    "pre_onto_ti_mns_df = pre_onto_ti_mns_df.loc[:,pre_onto_ti_mns_df.columns.get_level_values('NT').isin(['Ach','GABA','Glu'])]\n",
    "\n",
    "# xticklabels = pre_onto_ti_ext_flex_df.index.get_level_values('preferred_pool')\n",
    "# yticklabels = pre_df_ti_ext_flex.columns.get_level_values('NT')\n",
    "\n",
    "# conn_heat_map(df=pre_df_ti_ext_flex, xticks=xticklabels,yticks=yticklabels,figsz=[4,16])\n",
    "\n",
    "# order by NT\n",
    "cols_ntsorted,c_array = pre_onto_ti_mns_df.columns.sortlevel(level='NT',ascending=True,sort_remaining=False)\n",
    "mn_nt_sorted = pre_onto_ti_mns_df.loc[:,cols_ntsorted]\n",
    "\n",
    "# order by pool\n",
    "cols_ntsorted,c_array = mn_nt_sorted.columns.sortlevel(level='preferred_pool',ascending=True,sort_remaining=False)\n",
    "output_tup = ('local',pool_list,All,All,All,All,All)\n",
    "mn_nt_pool_sorted = mn_nt_sorted.loc[:,output_tup]\n",
    "\n",
    "mnpoollabel = mn_nt_pool_sorted.index.get_level_values('preferred_pool')\n",
    "yticklabels = mn_nt_pool_sorted.columns.get_level_values('NT')\n",
    "\n",
    "conn_heat_map(df=mn_nt_pool_sorted, xticks=mnpoollabel,yticks=yticklabels,figsz=[4,16])"
   ]
  },
  {
   "cell_type": "markdown",
   "metadata": {},
   "source": [
    "## Onto local neurons preferring femur pools"
   ]
  },
  {
   "cell_type": "code",
   "execution_count": null,
   "metadata": {},
   "outputs": [],
   "source": [
    "pool_list = ['tibia_extensor','main_tibia_flexor', 'auxiliary_tibia_flexor_B','auxiliary_tibia_flexor_E']\n",
    "input_tup = ('local',pool_list,All,All,All,All)\n",
    "output_tup = ('local',pool_list,All,All,All,All,All)\n",
    "\n",
    "pre_onto_ti_local_df = pre_to_df.loc[output_tup,input_tup]\n",
    "\n",
    "\n",
    "# weird neurons\n",
    "print('no NT: {}'.format(pre_onto_ti_local_df.loc[:,~pre_onto_ti_local_df.columns.get_level_values('NT').isin(['Ach','GABA','Glu'])].columns.get_level_values('segID').to_list()))\n",
    "# Get rid of the last two pMNs\n",
    "pre_onto_ti_local_df = pre_onto_ti_local_df.loc[pre_onto_ti_local_df.index.get_level_values('NT').isin(['Ach','GABA','Glu']),pre_onto_ti_local_df.columns.get_level_values('NT').isin(['Ach','GABA','Glu'])]\n",
    "\n",
    "# sort by \n",
    "rows_ntsorted,array = pre_onto_ti_local_df.index.sortlevel(level='NT',ascending=True,sort_remaining=False)\n",
    "cols_ntsorted,c_array = pre_onto_ti_local_df.columns.sortlevel(level='NT',ascending=True,sort_remaining=False)\n",
    "local_nt_sorted = pre_onto_ti_local_df.loc[rows_ntsorted,cols_ntsorted]\n",
    "\n",
    "# order by pool\n",
    "local_nt_pool_sorted = local_nt_sorted.loc[output_tup,input_tup]\n",
    "\n",
    "# mnpoollabel = local_nt_pool_sorted.index.get_level_values('preferred_pool')\n",
    "yticklabels = local_nt_pool_sorted.columns.get_level_values('NT')\n",
    "\n",
    "xpool = local_nt_pool_sorted.index.get_level_values('preferred_pool')\n",
    "# pool_dict = {'tibia_extensor':'ext','main_tibia_flexor':'flex'}\n",
    "# xpool = [pool_dict[key] for key in xpool]\n",
    "\n",
    "xNT = local_nt_pool_sorted.index.get_level_values('NT').to_list()\n",
    "xpoolnt = [x + \"_\" + y for x,y in zip(xpool,xNT)]\n",
    "\n",
    "yticklabels = keep_first_string_in_list(local_nt_pool_sorted.columns.get_level_values('preferred_pool').to_list())\n",
    "xpoolnt = keep_first_string_in_list(xpoolnt)\n",
    "\n",
    "conn_heat_map(df=local_nt_pool_sorted, xticks=xpoolnt,yticks=xpoolnt,figsz=[16,16])"
   ]
  },
  {
   "cell_type": "markdown",
   "metadata": {},
   "source": [
    "# Flexor neurons onto other pools"
   ]
  },
  {
   "cell_type": "code",
   "execution_count": null,
   "metadata": {},
   "outputs": [],
   "source": [
    "pool_list = ['tibia_extensor','main_tibia_flexor', 'auxiliary_tibia_flexor_B','auxiliary_tibia_flexor_E']\n",
    "input_tup = ('local',pool_list,All,All,All,All)\n",
    "output_tup = ('local',pool_list,All,All,All,All,All)\n",
    "\n",
    "pre_onto_ti_mns_df = pre_to_df.loc[output_tup,input_tup]\n",
    "# weird neurons\n",
    "print('no NT: {}'.format(pre_onto_ti_mns_df.loc[:,~pre_onto_ti_mns_df.columns.get_level_values('NT').isin(['Ach','GABA','Glu'])].columns.get_level_values('segID').to_list()))\n",
    "# Get rid of the last two pMNs\n",
    "pre_onto_ti_mns_df = pre_onto_ti_mns_df.loc[:,pre_onto_ti_mns_df.columns.get_level_values('NT').isin(['Ach','GABA','Glu'])]\n",
    "\n",
    "# xticklabels = pre_onto_ti_ext_flex_df.index.get_level_values('preferred_pool')\n",
    "# yticklabels = pre_df_ti_ext_flex.columns.get_level_values('NT')\n",
    "\n",
    "# conn_heat_map(df=pre_df_ti_ext_flex, xticks=xticklabels,yticks=yticklabels,figsz=[4,16])\n",
    "\n",
    "# order by NT\n",
    "cols_ntsorted,c_array = pre_onto_ti_mns_df.columns.sortlevel(level='NT',ascending=True,sort_remaining=False)\n",
    "mn_nt_sorted = pre_onto_ti_mns_df.loc[:,cols_ntsorted]\n",
    "\n",
    "# order by pool\n",
    "cols_ntsorted,c_array = mn_nt_sorted.columns.sortlevel(level='preferred_pool',ascending=True,sort_remaining=False)\n",
    "output_tup = ('local',pool_list,All,All,All,All,All)\n",
    "mn_nt_pool_sorted = mn_nt_sorted.loc[output_tup,output_tup]\n",
    "\n",
    "mnpoollabel = mn_nt_pool_sorted.index.get_level_values('preferred_pool')\n",
    "yticklabels = mn_nt_pool_sorted.columns.get_level_values('NT')\n",
    "\n",
    "conn_heat_map(df=mn_nt_pool_sorted, xticks=mnpoollabel,yticks=yticklabels,figsz=[24,24])"
   ]
  },
  {
   "cell_type": "markdown",
   "metadata": {},
   "source": [
    "## Onto all other local neurons in all pools"
   ]
  },
  {
   "cell_type": "code",
   "execution_count": null,
   "metadata": {},
   "outputs": [],
   "source": [
    "input_tup = ('local',['tibia_extensor','main_tibia_flexor', 'auxiliary_tibia_flexor_B','auxiliary_tibia_flexor_E'],All,All,All,All)\n",
    "output_tup = ('local',All,All,All,All,All,All)\n",
    "\n",
    "pre_onto_ti_local_df = pre_to_df.loc[output_tup,input_tup]\n",
    "\n",
    "\n",
    "# weird neurons\n",
    "print('no NT: {}'.format(pre_onto_ti_local_df.loc[:,~pre_onto_ti_local_df.columns.get_level_values('NT').isin(['Ach','GABA','Glu'])].columns.get_level_values('segID').to_list()))\n",
    "# Get rid of the last two pMNs\n",
    "pre_onto_ti_local_df = pre_onto_ti_local_df.loc[pre_onto_ti_local_df.index.get_level_values('NT').isin(['Ach','GABA','Glu']),pre_onto_ti_local_df.columns.get_level_values('NT').isin(['Ach','GABA','Glu'])]\n",
    "\n",
    "# sort by \n",
    "rows_ntsorted,array = pre_onto_ti_local_df.index.sortlevel(level='NT',ascending=True,sort_remaining=False)\n",
    "cols_ntsorted,c_array = pre_onto_ti_local_df.columns.sortlevel(level='NT',ascending=True,sort_remaining=False)\n",
    "local_nt_sorted = pre_onto_ti_local_df.loc[rows_ntsorted,cols_ntsorted]\n",
    "\n",
    "# order by pool\n",
    "output_tup = ('local',pool_keys,All,All,All,All,All)\n",
    "local_nt_pool_sorted = local_nt_sorted.loc[output_tup,input_tup]\n",
    "\n",
    "# mnpoollabel = local_nt_pool_sorted.index.get_level_values('preferred_pool')\n",
    "yticklabels = local_nt_pool_sorted.columns.get_level_values('NT')\n",
    "\n",
    "xpool = local_nt_pool_sorted.index.get_level_values('preferred_pool')\n",
    "# pool_dict = {'tibia_extensor':'ext','main_tibia_flexor':'flex'}\n",
    "# xpool = [pool_dict[key] for key in xpool]\n",
    "\n",
    "xNT = local_nt_pool_sorted.index.get_level_values('NT').to_list()\n",
    "xpoolnt = [x + \"_\" + y for x,y in zip(xpool,xNT)]\n",
    "\n",
    "yticklabels = keep_first_string_in_list(local_nt_pool_sorted.columns.get_level_values('preferred_pool').to_list())\n",
    "xpoolnt = keep_first_string_in_list(xpoolnt)\n",
    "\n",
    "conn_heat_map(df=local_nt_pool_sorted, xticks=xpoolnt,yticks=yticklabels,figsz=[24,8])"
   ]
  },
  {
   "cell_type": "markdown",
   "metadata": {},
   "source": [
    "## Finally, all local onto all other local neurons in all pools"
   ]
  },
  {
   "cell_type": "code",
   "execution_count": null,
   "metadata": {},
   "outputs": [],
   "source": [
    "input_tup = ('local',pool_keys,All,All,All,All)\n",
    "output_tup = ('local',pool_keys,All,All,All,All,All)\n",
    "\n",
    "pre_onto_ti_local_df = pre_to_df.loc[output_tup,input_tup]\n",
    "\n",
    "\n",
    "# weird neurons\n",
    "print('no NT: {}'.format(pre_onto_ti_local_df.loc[:,~pre_onto_ti_local_df.columns.get_level_values('NT').isin(['Ach','GABA','Glu'])].columns.get_level_values('segID').to_list()))\n",
    "# Get rid of the last two pMNs\n",
    "pre_onto_ti_local_df = pre_onto_ti_local_df.loc[pre_onto_ti_local_df.index.get_level_values('NT').isin(['Ach','GABA','Glu']),pre_onto_ti_local_df.columns.get_level_values('NT').isin(['Ach','GABA','Glu'])]\n",
    "\n",
    "# sort by \n",
    "rows_ntsorted,array = pre_onto_ti_local_df.index.sortlevel(level='NT',ascending=True,sort_remaining=False)\n",
    "cols_ntsorted,c_array = pre_onto_ti_local_df.columns.sortlevel(level='NT',ascending=True,sort_remaining=False)\n",
    "local_nt_sorted = pre_onto_ti_local_df.loc[rows_ntsorted,cols_ntsorted]\n",
    "\n",
    "# order by pool\n",
    "output_tup = ('local',pool_keys,All,All,All,All,All)\n",
    "local_nt_pool_sorted = local_nt_sorted.loc[output_tup,input_tup]\n",
    "\n",
    "# mnpoollabel = local_nt_pool_sorted.index.get_level_values('preferred_pool')\n",
    "yticklabels = local_nt_pool_sorted.columns.get_level_values('NT')\n",
    "\n",
    "xpool = local_nt_pool_sorted.index.get_level_values('preferred_pool')\n",
    "# pool_dict = {'tibia_extensor':'ext','main_tibia_flexor':'flex'}\n",
    "# xpool = [pool_dict[key] for key in xpool]\n",
    "\n",
    "xNT = local_nt_pool_sorted.index.get_level_values('NT').to_list()\n",
    "xpoolnt = [x + \"_\" + y for x,y in zip(xpool,xNT)]\n",
    "\n",
    "yticklabels = keep_first_string_in_list(local_nt_pool_sorted.columns.get_level_values('preferred_pool').to_list())\n",
    "xpoolnt = keep_first_string_in_list(xpoolnt)\n",
    "\n",
    "conn_heat_map(df=local_nt_pool_sorted, xticks=xpoolnt,yticks=yticklabels,figsz=[24,24])"
   ]
  },
  {
   "cell_type": "code",
   "execution_count": null,
   "metadata": {},
   "outputs": [],
   "source": [
    "xpool"
   ]
  },
  {
   "cell_type": "code",
   "execution_count": null,
   "metadata": {},
   "outputs": [],
   "source": [
    "\n",
    "# weird neurons\n",
    "print('no NT: {}'.format(pre_onto_ti_local_df.loc[:,~pre_onto_ti_local_df.columns.get_level_values('NT').isin(['Ach','GABA','Glu'])].columns.get_level_values('segID').to_list()))\n",
    "# Get rid of the last two pMNs\n",
    "pre_onto_ti_local_df = pre_onto_ti_local_df.loc[pre_onto_ti_local_df.index.get_level_values('NT').isin(['Ach','GABA','Glu']),pre_onto_ti_local_df.columns.get_level_values('NT').isin(['Ach','GABA','Glu'])]\n",
    "\n",
    "# sort by \n",
    "rows_ntsorted,array = pre_onto_ti_local_df.index.sortlevel(level='NT',ascending=True,sort_remaining=False)\n",
    "cols_ntsorted,c_array = pre_onto_ti_local_df.columns.sortlevel(level='NT',ascending=True,sort_remaining=False)\n",
    "local_nt_sorted = pre_onto_ti_local_df.loc[rows_ntsorted,cols_ntsorted]\n",
    "\n",
    "# order by pool\n",
    "output_tup = ('local',['tibia_extensor','main_tibia_flexor'],All,All,All,All,All)\n",
    "local_nt_pool_sorted = local_nt_sorted.loc[output_tup,output_tup]\n",
    "\n",
    "# mnpoollabel = local_nt_pool_sorted.index.get_level_values('preferred_pool')\n",
    "yticklabels = local_nt_pool_sorted.columns.get_level_values('NT')\n",
    "\n",
    "xpool = local_nt_pool_sorted.index.get_level_values('preferred_pool')\n",
    "pool_dict = {'tibia_extensor':'ext','main_tibia_flexor':'flex'}\n",
    "xpool = [pool_dict[key] for key in xpool]\n",
    "\n",
    "xNT = local_nt_pool_sorted.index.get_level_values('NT').to_list()\n",
    "xpoolnt = [x + \"_\" + y for x,y in zip(xpool,xNT)]\n",
    "\n",
    "conn_heat_map(df=local_nt_pool_sorted, xticks=xpoolnt,yticks=xpoolnt,figsz=[16,16])"
   ]
  },
  {
   "cell_type": "code",
   "execution_count": null,
   "metadata": {},
   "outputs": [],
   "source": [
    "# Format a nicer figure with both plots side by side\n",
    "# do it in different colors too, then cut out different versions in illustrator\n",
    "fig, ax = plt.subplots(1, 2, figsize=(32,16),gridspec_kw={'width_ratios': [1, 3.5]})\n",
    "\n",
    "cmap = utils.white_dense()\n",
    "# cmap = sns.color_palette(\"light:seagreen\", as_cmap=True)\n",
    "\n",
    "# def conn_heat_map(df,xticks,yticks,figsz=[16,16],savefig=False,figfilename=None,cmap=cmap):\n",
    "sns.heatmap(np.log10(mn_nt_pool_sorted.T.to_numpy()+1),ax=ax[0], xticklabels=mnpoollabel, yticklabels=xpoolnt, cmap=cmap,square=True,cbar=False,vmax=np.log10(633),vmin=0)\n",
    "plt.xlabel('Onto MNs', fontsize =18)\n",
    "plt.ylabel('From input neurons', fontsize =18)\n",
    "sns.heatmap(np.log10(local_nt_pool_sorted.T.to_numpy()+1),ax=ax[1], xticklabels=xpoolnt, yticklabels=xpoolnt,square=True, cmap=cmap,vmax=np.log10(633),vmin=0)\n",
    "plt.xlabel('Onto local pmns', fontsize =18)\n",
    "\n",
    "cbar = ax[1].collections[0].colorbar\n",
    "cbar.set_label(label = 'log 10 # of synapses', size=24)\n",
    "# plt.yticks(fontsize = 16)\n",
    "# plt.xticks(fontsize = 16)\n",
    "# plt.show()\n",
    "\n",
    "fig.savefig('./figpanels/' + 'local_ti_ext_flex_by_nt' + '.svg',format='svg')\n"
   ]
  },
  {
   "cell_type": "markdown",
   "metadata": {},
   "source": [
    "# Pick out some interesting neurons\n",
    "Plot the inputs and output, synapses?"
   ]
  },
  {
   "cell_type": "code",
   "execution_count": null,
   "metadata": {},
   "outputs": [],
   "source": [
    "def build_synapses(sid,syn_df):\n",
    "\n",
    "    # variables to render in neuroglancer link\n",
    "    render_synapses = syn_df\n",
    "    render_neurons = [sid]\n",
    "\n",
    "    img_source = client.info.image_source()\n",
    "    img_layer = ngstbld.ImageLayerConfig(name='fanc_v4',\n",
    "                                 source=img_source,\n",
    "                                 )\n",
    "    seg_source = client.info.segmentation_source()\n",
    "\n",
    "    seg_layer = ngstbld.SegmentationLayerConfig(name = 'seg',\n",
    "                                        source = seg_source,\n",
    "                                        fixed_ids = render_neurons)\n",
    "    points = ngstbld.PointMapper(point_column='pre_pt_position') ######################## change this to toggle rendering of pre- or post- synaptic points\n",
    "    anno_layer = ngstbld.AnnotationLayerConfig(name='annos',\n",
    "                                       mapping_rules=points )\n",
    "\n",
    "    sb = ngstbld.StateBuilder([img_layer, seg_layer, anno_layer], resolution=[4.3,4.3,45])\n",
    "    return sb.render_state(render_synapses, return_as='json')"
   ]
  },
  {
   "cell_type": "code",
   "execution_count": null,
   "metadata": {},
   "outputs": [],
   "source": [
    "# 5) Convergent input from Glu neurons onto big 21A neuronn\n",
    "pre_mn = local_nt_pool_sorted.loc[('local','main_tibia_flexor','Glu',All,All),('local','main_tibia_flexor','Glu',All,All)].iloc[[0],:]\n",
    "onto_list = pre_mn.index.get_level_values('post_pt_root_id').to_list()\n",
    "from_list = pre_mn.columns.get_level_values('segID').to_list()\n",
    "\n",
    "timestamp = connectome_create.get_timestamp()\n",
    "iln_syn_df = client.materialize.synapse_query(post_ids = onto_list, pre_ids=from_list, timestamp=timestamp) # Takes list\n",
    "\n",
    "%matplotlib inline\n",
    "ngjson = build_synapses(onto_list[0],iln_syn_df)\n",
    "\n",
    "with open('./syn_jsons/glu_ng_json.json', 'w', encoding='utf-8') as f:\n",
    "    json.dump(ngjson, f, ensure_ascii=False, indent=4)\n",
    "\n",
    "# GABA\n",
    "pre_mn = local_nt_pool_sorted.loc[('local','main_tibia_flexor','Glu',All,All),('local','main_tibia_flexor','GABA',All,All)].iloc[[0],:]\n",
    "onto_list = pre_mn.index.get_level_values('post_pt_root_id').to_list()\n",
    "from_list = pre_mn.columns.get_level_values('segID').to_list()\n",
    "\n",
    "timestamp = connectome_create.get_timestamp()\n",
    "iln_syn_df = client.materialize.synapse_query(post_ids = onto_list, pre_ids=from_list, timestamp=timestamp) # Takes list\n",
    "\n",
    "%matplotlib inline\n",
    "ngjson = build_synapses(onto_list[0],iln_syn_df)\n",
    "ngjson\n",
    "\n",
    "# Ach\n",
    "pre_mn = local_nt_pool_sorted.loc[('local','main_tibia_flexor','Glu',All,All),('local','main_tibia_flexor','Ach',All,All)].iloc[[0],:]\n",
    "onto_list = pre_mn.index.get_level_values('post_pt_root_id').to_list()\n",
    "from_list = pre_mn.columns.get_level_values('segID').to_list()\n",
    "\n",
    "timestamp = connectome_create.get_timestamp()\n",
    "iln_syn_df = client.materialize.synapse_query(post_ids = onto_list, pre_ids=from_list, timestamp=timestamp) # Takes list\n",
    "\n",
    "ngjson = build_synapses(onto_list[0],iln_syn_df)\n",
    "ngjson\n"
   ]
  },
  {
   "cell_type": "code",
   "execution_count": null,
   "metadata": {},
   "outputs": [],
   "source": []
  }
 ],
 "metadata": {
  "kernelspec": {
   "display_name": "Python 3.7.12 ('fanc_analysis')",
   "language": "python",
   "name": "python3"
  },
  "language_info": {
   "codemirror_mode": {
    "name": "ipython",
    "version": 3
   },
   "file_extension": ".py",
   "mimetype": "text/x-python",
   "name": "python",
   "nbconvert_exporter": "python",
   "pygments_lexer": "ipython3",
   "version": "3.7.12"
  },
  "vscode": {
   "interpreter": {
    "hash": "b315cc870c8bed6572d217175f80b2213d2d88f8d1534b43b9efee2de96efaec"
   }
  }
 },
 "nbformat": 4,
 "nbformat_minor": 4
}
