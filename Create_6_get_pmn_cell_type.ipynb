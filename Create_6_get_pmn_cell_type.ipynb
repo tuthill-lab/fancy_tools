{
 "cells": [
  {
   "cell_type": "code",
   "execution_count": null,
   "metadata": {},
   "outputs": [],
   "source": [
    "import os\n",
    "import utils\n",
    "import connectome_create\n",
    "# viz_method = one of ['itkwidgets', 'vtk']\n",
    "viz_method = 'vtk'\n",
    "\n",
    "# import some of our favorite packages\n",
    "import pandas as pd\n",
    "import numpy as np\n",
    "import os\n",
    "import matplotlib.pyplot as plt\n",
    "import seaborn as sns\n",
    "import re\n",
    "import warnings\n",
    "\n",
    "%matplotlib inline\n",
    "from sklearn.metrics.pairwise import cosine_similarity\n",
    "from sklearn.cluster import AgglomerativeClustering\n",
    "# import nglui.statebuilder as ngstbld\n",
    "\n",
    "# # this is the EM specific package for querying the EM data\n",
    "from caveclient import CAVEclient\n",
    "\n",
    "\n",
    "# from meshparty import trimesh_io, trimesh_vtk\n",
    "# from meshparty import skeletonize, skeleton_io, skeleton\n",
    "# import cloudvolume\n",
    "\n",
    "%load_ext autoreload\n",
    "%autoreload 2"
   ]
  },
  {
   "cell_type": "code",
   "execution_count": null,
   "metadata": {},
   "outputs": [],
   "source": [
    "# from pathlib import Path\n",
    "# import json\n",
    "\n",
    "# with open(Path.home() / '.cloudvolume/secrets/'/'cave-secret.json') as f:\n",
    "#         tokens = json.load(f)\n",
    "        \n",
    "# seg_source = 'graphene://https://cave.fanc-fly.com/segmentation/table/mar2021_prod'\n",
    "# cv = cloudvolume.CloudVolume(cloudpath=seg_source, use_https=True, secrets=tokens)"
   ]
  },
  {
   "cell_type": "code",
   "execution_count": null,
   "metadata": {
    "tags": []
   },
   "outputs": [],
   "source": [
    "datastack_name = 'fanc_production_mar2021'\n",
    "\n",
    "client = CAVEclient(datastack_name)"
   ]
  },
  {
   "cell_type": "code",
   "execution_count": null,
   "metadata": {
    "tags": []
   },
   "outputs": [],
   "source": [
    "# client = CAVEclient()\n",
    "\n",
    "# # if not os.path.isfile(os.path.expanduser(\"~/.cloudvolume/secrets/cave-secret.json\")):\n",
    "# client.auth.get_new_token(open=True)"
   ]
  },
  {
   "cell_type": "code",
   "execution_count": null,
   "metadata": {},
   "outputs": [],
   "source": [
    "# if you have not yet setup this computer, uncomment this below line\n",
    "# paste the token from the website in, and run the line\n",
    "\n",
    "# client.auth.save_token(token=\"c14cd7a3e18a1a697716a399afbf5778\", overwrite=True)\n",
    "\n",
    "# then comment or delete the line as you don't need to run it on this computer  again"
   ]
  },
  {
   "cell_type": "code",
   "execution_count": null,
   "metadata": {},
   "outputs": [],
   "source": [
    "pre_to_mn_df = connectome_create.load_pre_to_mn_df(ext='matched_to_pool')\n",
    "pre_to_mn_df.shape"
   ]
  },
  {
   "cell_type": "markdown",
   "metadata": {},
   "source": [
    "# Add local neuron classification and hemilineage to matrix"
   ]
  },
  {
   "cell_type": "code",
   "execution_count": null,
   "metadata": {},
   "outputs": [],
   "source": [
    "timestamp = connectome_create.get_timestamp()\n",
    "\n",
    "# pmn_annotation_table = client.materialize.query_table('t1l_local_premotor_table_v0',timestamp=timestamp)\n",
    "# pmn_annotation_table = client.materialize.query_table('t1l_local_premotor_table_v1',timestamp=timestamp)\n",
    "# pmn_annotation_table = client.materialize.query_table('t1l_local_premotor_table_v2',timestamp=timestamp)\n",
    "pmn_annotation_table = client.materialize.query_table('t1l_local_premotor_table_v3',timestamp=timestamp)\n",
    "\n",
    "pmn_annotation_table.classification_system.value_counts()\n",
    "pmn_annotation_table.cell_type.value_counts()"
   ]
  },
  {
   "cell_type": "code",
   "execution_count": null,
   "metadata": {},
   "outputs": [],
   "source": [
    "utils.save_df_csv(pmn_annotation_table,'t1l_local_premotor_table_v2_current')"
   ]
  },
  {
   "cell_type": "code",
   "execution_count": null,
   "metadata": {},
   "outputs": [],
   "source": [
    "# just add classifications and hemilineage to the index, then put the index back on and reorder\n",
    "pmn_index = pre_to_mn_df.index.to_frame()\n",
    "pmn_index = pmn_index.set_index(keys=['segID'],drop=False)\n",
    "\n",
    "pmn_index['classification_system'] = None\n",
    "pmn_index['cell_type'] = None\n",
    "\n",
    "for clsys in pmn_annotation_table.classification_system.unique():\n",
    "    pmn_index.loc[pmn_index.segID.isin(pmn_annotation_table.loc[pmn_annotation_table.classification_system==clsys,'pt_root_id']),'classification_system'] = clsys\n",
    "\n",
    "for ctype in pmn_annotation_table.cell_type.unique():\n",
    "    pmn_index.loc[pmn_index.segID.isin(pmn_annotation_table.loc[pmn_annotation_table.cell_type==ctype,'pt_root_id']),'cell_type'] = ctype\n",
    "\n",
    "pre_to_mn_df.index = pd.MultiIndex.from_frame(pmn_index)\n",
    "pre_to_mn_df = pre_to_mn_df.reorder_levels(['cell_class','preferred_pool','classification_system','cell_type','segID'],'index')\n",
    "pre_to_mn_df.head()"
   ]
  },
  {
   "cell_type": "markdown",
   "metadata": {},
   "source": [
    "# Add neurotransmitters"
   ]
  },
  {
   "cell_type": "markdown",
   "metadata": {},
   "source": [
    "## Create lookuptable"
   ]
  },
  {
   "cell_type": "code",
   "execution_count": null,
   "metadata": {},
   "outputs": [],
   "source": [
    "cell_types = pre_to_mn_df.index.get_level_values('cell_type').unique().to_numpy()\n",
    "nt_table = pd.read_csv('./annotations_hl/LacinHLTable.csv')\n",
    "import re\n",
    "pattern = re.compile(\"R[0-9]\")\n",
    "\n",
    "hl_lut = {'cell_type':cell_types,'hemilineage':cell_types}\n",
    "hl_lut = pd.DataFrame(data=hl_lut)\n",
    "\n",
    "for idx,r in hl_lut.iterrows():\n",
    "    try:\n",
    "        if np.isnan(r.hemilineage):\n",
    "            continue\n",
    "    except TypeError:\n",
    "        pass\n",
    "    hl = r.hemilineage\n",
    "\n",
    "    if hl[0:2]=='RD':\n",
    "        hl = '24B'\n",
    "        # print('string was RD, now {}'.format(hl))\n",
    "\n",
    "    if pattern.match(hl) or hl=='RVD' or hl=='Rcore_':\n",
    "        # print('string was {}, now 8A'.format(hl))\n",
    "        hl = '8A'\n",
    "\n",
    "    if not hl.isalnum():\n",
    "        hl = hl[0:-1]\n",
    "        # print(hl)\n",
    "    \n",
    "    if not hl.isalnum():\n",
    "        hl=hl[0:hl.find('_')]\n",
    "        # print(hl)\n",
    "\n",
    "    if hl == '9Ac':\n",
    "        hl='9A'\n",
    "        # print(hl)\n",
    "\n",
    "    hl_lut.loc[idx,'hemilineage'] = hl\n",
    "\n",
    "# merge with neurotransmitter table to get a lookuptable\n",
    "hl_lut = hl_lut.merge(nt_table,how='outer',left_on='hemilineage',right_on='HL')\n",
    "hl_lut = hl_lut.loc[~hl_lut.hemilineage.isna(),:]\n",
    "\n",
    "hl_lut_reduced = hl_lut[['cell_type','NT']]"
   ]
  },
  {
   "cell_type": "code",
   "execution_count": null,
   "metadata": {},
   "outputs": [],
   "source": [
    "# just operate on the index, where the nt will be\n",
    "pmn_index_df = pre_to_mn_df.index.to_frame().reset_index(drop=True)\n",
    "\n",
    "# join the index on cell_type, with NT\n",
    "pmn_index_df = pmn_index_df.join(hl_lut_reduced.set_index('cell_type'),how='left',on='cell_type')\n",
    "\n",
    "# reorder the matrix\n",
    "pmn_index_df = pmn_index_df[['cell_class','preferred_pool','NT','classification_system','cell_type','segID']]\n",
    "pmn_index_df.NT.value_counts()"
   ]
  },
  {
   "cell_type": "code",
   "execution_count": null,
   "metadata": {},
   "outputs": [],
   "source": [
    "# check if there are some local neurons that don't have hemilineages\n",
    "pmn_index_df.loc[(pmn_index_df.cell_class=='local') & (pmn_index_df.classification_system.isna())].segID.values\n",
    "\n",
    "# 8/3 just updated the premotor neuron table to add the segIDs I found earlier"
   ]
  },
  {
   "cell_type": "markdown",
   "metadata": {},
   "source": [
    "# Now add the sensory neuron classifications"
   ]
  },
  {
   "cell_type": "code",
   "execution_count": null,
   "metadata": {},
   "outputs": [],
   "source": [
    "all_sensory = connectome_create.get_unduplicated_sensory_axon_table(client)\n",
    "\n",
    "all_sensory = all_sensory[['pt_root_id','classification_system','cell_type']]\n",
    "all_sensory = all_sensory.rename({'pt_root_id':'segID'},axis=1)\n",
    "\n",
    "# join the index on cell_type, with NT\n",
    "pmn_index_df = pmn_index_df.merge(all_sensory,how='left',on='segID',suffixes=['_x','_y'])\n",
    "\n",
    "sens_rows = (pmn_index_df.cell_class == 'sensory') & (pmn_index_df.classification_system_x.isna())\n",
    "pmn_index_df.loc[sens_rows,'classification_system_x'] = pmn_index_df.loc[sens_rows].classification_system_y\n",
    "pmn_index_df.loc[sens_rows,'cell_type_x'] = pmn_index_df.loc[sens_rows].cell_type_y\n",
    "\n",
    "pmn_index_df.loc[pmn_index_df.cell_class == 'sensory','NT'] = 'Ach'\n",
    "pmn_index_df = pmn_index_df.drop(['classification_system_y','cell_type_y'],axis=1)\n",
    "pmn_index_df = pmn_index_df.rename(columns={'classification_system_x':'classification_system','cell_type_x':'cell_type'})\n"
   ]
  },
  {
   "cell_type": "code",
   "execution_count": null,
   "metadata": {},
   "outputs": [],
   "source": [
    "pre_to_mn_df.index = pd.MultiIndex.from_frame(pmn_index_df)"
   ]
  },
  {
   "cell_type": "markdown",
   "metadata": {},
   "source": [
    "# Save the data frame"
   ]
  },
  {
   "cell_type": "code",
   "execution_count": null,
   "metadata": {},
   "outputs": [],
   "source": [
    "connectome_create.save_pre_to_mn_df(pre_to_mn_df,ext='matched_typed_with_nt')"
   ]
  },
  {
   "cell_type": "markdown",
   "metadata": {},
   "source": [
    "## Now print the segids for 13A as an example, then color them in neuroglancer"
   ]
  },
  {
   "cell_type": "code",
   "execution_count": null,
   "metadata": {},
   "outputs": [],
   "source": [
    "All = slice(None)\n",
    "pmn_index_df = pmn_index.set_index(keys=['cell_class','preferred_pool','classification_system','cell_type'],drop=False)\n",
    "eg13A = pmn_index_df.loc[('local',All,'D')]\n",
    "\n",
    "for pl in eg13A.preferred_pool.unique():\n",
    "    print(eg13A.loc[(All,pl,All),'segID'])\n"
   ]
  },
  {
   "cell_type": "code",
   "execution_count": null,
   "metadata": {},
   "outputs": [],
   "source": [
    "pmn_index.classification_system.value_counts()"
   ]
  },
  {
   "cell_type": "markdown",
   "metadata": {},
   "source": [
    "# Count the number of synapes from different types to MFT, SET, Aux B, Aux E"
   ]
  },
  {
   "cell_type": "code",
   "execution_count": null,
   "metadata": {},
   "outputs": [],
   "source": [
    "# mpool_dict = utils.get_motor_pool_tuple_dict()\n",
    "# pool_keys = [\n",
    "#     'thorax_swing',\n",
    "#     'tibia_extensor',\n",
    "#     'main_tibia_flexor',\n",
    "#     'auxiliary_tibia_flexor_B',\n",
    "#     'auxiliary_tibia_flexor_E',\n",
    "#     ]\n",
    "\n",
    "# local = pre_to_mn_df.loc['local']\n",
    "# for pk in pool_keys:\n",
    "#     local_to_pool = local.loc[:,mpool_dict[pk]]\n",
    "\n",
    "#     labels = sorted(local_to_pool.index.unique(level='classification_system'))\n",
    "#     sizes = []\n",
    "#     for lbl in labels:\n",
    "#         ttlsyn = local_to_pool.loc[(All,lbl),:].sum().sum()\n",
    "#         sizes = sizes+[ttlsyn]\n",
    "\n",
    "\n",
    "#     fig1, ax1 = plt.subplots()\n",
    "#     ax1.pie(sizes, explode=None, labels=labels, autopct='%1.0f%%',\n",
    "#             shadow=False, startangle=90)\n",
    "#     ax1.axis('equal')  # Equal aspect ratio ensures that pie is drawn as a circle.\n",
    "\n",
    "#     plt.show()\n",
    "\n",
    "#     fname = './figpanels/{}_hl_input_pie.svg'.format(pk)\n",
    "#     fig1.savefig(fname,format='svg')"
   ]
  },
  {
   "cell_type": "markdown",
   "metadata": {},
   "source": [
    "# Find untyped neurons to type"
   ]
  },
  {
   "cell_type": "code",
   "execution_count": null,
   "metadata": {},
   "outputs": [],
   "source": [
    "pmn_index.loc[(pmn_index.cell_class=='local') & pmn_index.classification_system.isnull()].segID.to_numpy()"
   ]
  },
  {
   "cell_type": "code",
   "execution_count": null,
   "metadata": {},
   "outputs": [],
   "source": [
    "untyped_inter = pmn_index.loc[(pmn_index.cell_class=='intersegmental') & pmn_index.classification_system.isnull()]\n",
    "utils.save_df_csv(untyped_inter,name='untyped_interstegmenal_neurons')"
   ]
  },
  {
   "cell_type": "code",
   "execution_count": null,
   "metadata": {},
   "outputs": [],
   "source": []
  }
 ],
 "metadata": {
  "kernelspec": {
   "display_name": "Python 3.7.0 ('fanc_analysis')",
   "language": "python",
   "name": "python3"
  },
  "language_info": {
   "codemirror_mode": {
    "name": "ipython",
    "version": 3
   },
   "file_extension": ".py",
   "mimetype": "text/x-python",
   "name": "python",
   "nbconvert_exporter": "python",
   "pygments_lexer": "ipython3",
   "version": "3.7.0"
  },
  "vscode": {
   "interpreter": {
    "hash": "701379af8fa9566edb753273e8a4cc72928f1706e0a9299fef0231c034742a95"
   }
  }
 },
 "nbformat": 4,
 "nbformat_minor": 4
}
