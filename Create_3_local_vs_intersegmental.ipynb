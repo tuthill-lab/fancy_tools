{
 "cells": [
  {
   "cell_type": "code",
   "execution_count": null,
   "metadata": {},
   "outputs": [],
   "source": [
    "import os\n",
    "import utils\n",
    "import connectome_create\n",
    "# viz_method = one of ['itkwidgets', 'vtk']\n",
    "viz_method = 'vtk'\n",
    "\n",
    "# import some of our favorite packages\n",
    "import pandas as pd\n",
    "import numpy as np\n",
    "import os\n",
    "import matplotlib.pyplot as plt\n",
    "import seaborn as sns\n",
    "import re\n",
    "import warnings\n",
    "\n",
    "%matplotlib inline\n",
    "from sklearn.metrics.pairwise import cosine_similarity\n",
    "from sklearn.cluster import AgglomerativeClustering\n",
    "import nglui.statebuilder as ngstbld\n",
    "\n",
    "# this is the EM specific package for querying the EM data\n",
    "from caveclient import CAVEclient\n",
    "\n",
    "\n",
    "from meshparty import trimesh_io, trimesh_vtk\n",
    "from meshparty import skeletonize, skeleton_io, skeleton\n",
    "import cloudvolume\n",
    "\n",
    "%load_ext autoreload\n",
    "%autoreload 2"
   ]
  },
  {
   "cell_type": "code",
   "execution_count": null,
   "metadata": {
    "tags": []
   },
   "outputs": [],
   "source": [
    "# client = CAVEclient()\n",
    "\n",
    "# # if not os.path.isfile(os.path.expanduser(\"~/.cloudvolume/secrets/cave-secret.json\")):\n",
    "# client.auth.get_new_token(open=True)"
   ]
  },
  {
   "cell_type": "code",
   "execution_count": null,
   "metadata": {},
   "outputs": [],
   "source": [
    "# # if you have not yet setup this computer, uncomment this below line\n",
    "# # paste the token from the website in, and run the line\n",
    "\n",
    "# client.auth.save_token(token=\"4c0043f50c4a6ec89c05957d22ab8453\", overwrite=True)\n",
    "\n",
    "# # then comment or delete the line as you don't need to run it on this computer  again"
   ]
  },
  {
   "cell_type": "code",
   "execution_count": null,
   "metadata": {},
   "outputs": [],
   "source": [
    "# from pathlib import Path\n",
    "# import json\n",
    "\n",
    "# with open(Path.home() / '.cloudvolume/secrets/'/'cave-secret.json') as f:\n",
    "#         tokens = json.load(f)\n",
    "        \n",
    "# seg_source = 'graphene://https://cave.fanc-fly.com/segmentation/table/mar2021_prod'\n",
    "# cv = cloudvolume.CloudVolume(cloudpath=seg_source, use_https=True, secrets=tokens)"
   ]
  },
  {
   "cell_type": "code",
   "execution_count": null,
   "metadata": {
    "tags": []
   },
   "outputs": [],
   "source": [
    "datastack_name = 'fanc_production_mar2021'\n",
    "\n",
    "client = CAVEclient(datastack_name)"
   ]
  },
  {
   "cell_type": "markdown",
   "metadata": {},
   "source": [
    "# Load Premotor connectivity matrix"
   ]
  },
  {
   "cell_type": "code",
   "execution_count": null,
   "metadata": {},
   "outputs": [],
   "source": [
    "pre_to_mn_df = connectome_create.load_pre_to_mn_df(ext='ordered')\n"
   ]
  },
  {
   "cell_type": "markdown",
   "metadata": {},
   "source": [
    "# Test suite"
   ]
  },
  {
   "cell_type": "code",
   "execution_count": null,
   "metadata": {},
   "outputs": [],
   "source": [
    "All = slice(None)\n",
    "\n",
    "# # How many motor neurons are presynaptic to motor neurons\n",
    "# # segID\tmotor\thas_soma\tsensory\t neck\tlocal\t\n",
    "motor = pre_to_mn_df.loc[(All,True,True,All,False,False),:]\n",
    "# descending.index.get_level_values('segID').to_list()\n",
    "motor.shape\n",
    "\n",
    "# How many sensory neurons # 94\n",
    "# segID\tmotor\thas_soma\tsensory\t neck\tlocal\t\n",
    "sensory = pre_to_mn_df.loc[(All,False,False,True,False,False),:]\n",
    "# descending.index.get_level_values('segID').to_list()\n",
    "sensory.shape\n",
    "\n",
    "# How many descending neurons # 217 214?\n",
    "# segID\tmotor\thas_soma\tsensory\t neck\tlocal\t\n",
    "descending = pre_to_mn_df.loc[(All,False,False,False,True),:]\n",
    "# descending.index.get_level_values('segID').to_list()\n",
    "descending.shape\n",
    "\n",
    "# How many motor neurons are presynaptic to motor neurons\n",
    "# segID\tmotor\thas_soma\tsensory\t neck\tlocal\t\n",
    "ascending = pre_to_mn_df.loc[(All,False,True,False,True,False),:]\n",
    "# descending.index.get_level_values('segID').to_list()\n",
    "ascending.head()\n",
    "# some ascending that should be ascending\n",
    "# 648518346507084872\n",
    "# 648518346480786912\n",
    "# 648518346490374748\n",
    "sid = 648518346504729203\n",
    "ascending.index.get_level_values('segID')==sid\n",
    "# All are here\n",
    "\n",
    "# Fragments?\n",
    "# segID\tmotor\thas_soma\tsensory\t neck\tlocal\t\n",
    "sensmns = pre_to_mn_df.loc[(All,False,True,True,False,False),:]\n",
    "sensmns.shape\n",
    "\n",
    "# Fragments?\n",
    "# segID\tmotor\thas_soma\tsensory\t neck\tlocal\t\n",
    "fragments = pre_to_mn_df.loc[(All,False,False,False,False,False),:]\n",
    "fragments.shape\n",
    "\n",
    "# Local and intersegmental? # 880\n",
    "# segID\tmotor\thas_soma\tsensory\t neck\tlocal\t\n",
    "vncns = pre_to_mn_df.loc[(All,False,True,False,False,False),:]\n",
    "# descending.index.get_level_values('segID').to_list()\n",
    "vncns.shape\n"
   ]
  },
  {
   "cell_type": "markdown",
   "metadata": {},
   "source": [
    "# Find intersegmental neurons\n",
    "Go through the vnc premotor neurons and look for a synapse outside the left hand box.\n",
    "Once you find one, move to the next premotor neuron"
   ]
  },
  {
   "cell_type": "code",
   "execution_count": null,
   "metadata": {
    "tags": []
   },
   "outputs": [],
   "source": [
    "# Soma box\n",
    "soma_table = client.materialize.query_table('soma_jan2022',timestamp=connectome_create.get_timestamp())\n",
    "soma_table.index = soma_table.pt_root_id"
   ]
  },
  {
   "cell_type": "code",
   "execution_count": null,
   "metadata": {
    "tags": []
   },
   "outputs": [],
   "source": [
    "sx = [-3000, 3000]\n",
    "sy = [-3000, 3000]\n",
    "sz = [-300, 300]\n",
    "\n",
    "# T1 bounding box, click on neuroglancer instance\n",
    "All = slice(None)\n",
    "x = [3000 , 38000]\n",
    "y = [90483, 123190] # extended the boundaries a bit 5/10/22\n",
    "z = [980, 3858]\n",
    "\n",
    "t1 = lambda b: (b[0]>=x[0]) & (b[0]<=x[1]) & (b[1]>=y[0]) & (b[1]<=y[1]) & (b[2]>=z[0]) & (b[2]<=z[1])\n",
    "\n",
    "def get_non_T1_inputs(iln_syn_df, s):\n",
    "    in_T1_box = iln_syn_df.loc[:,['post_pt_position']].applymap(t1)\n",
    "    pts_out_of_T1 = iln_syn_df.loc[~in_T1_box.post_pt_position,:]\n",
    "    pts_in_T1 = iln_syn_df.loc[in_T1_box.post_pt_position,:]\n",
    "    nearsoma = lambda b: (b[0]>=s[0]+sx[0]) & (b[0]<=s[0]+sx[1]) & (b[1]>=s[1]+sy[0]) & (b[1]<=s[1]+sy[1]) & (b[2]>=s[2]+sz[0]) & (b[2]<=s[2]+sz[1])\n",
    "    in_soma_box = pts_out_of_T1.loc[:,['post_pt_position']].applymap(nearsoma)\n",
    "    pts_out_of_T1 = pts_out_of_T1.loc[~in_soma_box.post_pt_position,:]\n",
    "    return pts_out_of_T1"
   ]
  },
  {
   "cell_type": "code",
   "execution_count": null,
   "metadata": {},
   "outputs": [],
   "source": [
    "from datetime import date\n",
    "vncnsindex = vncns.index.to_frame()\n",
    "vncnsindex.index = vncnsindex.index.get_level_values('segID')\n",
    "vncnsindex['non_T1_count'] = 0\n",
    "\n",
    "cnt = 0\n",
    "for idx,row in vncnsindex.iterrows():\n",
    "    cnt = cnt+1\n",
    "    sid = row.segID\n",
    "    loctuple = (row.segID,row.motor,row.has_soma,row.sensory,row.neck,row.local)\n",
    "    synapsecnt = vncns.loc[loctuple,:].sum()\n",
    "    iln_syn_df = client.materialize.query_table('synapses_jan2022',\n",
    "                                                filter_equal_dict = {'post_pt_root_id': sid},\n",
    "                                                select_columns=['id','post_pt_position'],\n",
    "                                                timestamp=connectome_create.get_timestamp()\n",
    "                                                   )\n",
    "    \n",
    "    try:\n",
    "        s=soma_table.loc[sid,:].pt_position\n",
    "    except KeyError:\n",
    "        if 'fraglist' not in locals():\n",
    "            today = date.today()\n",
    "            d1 = today.strftime(\"%Y%m%d\")\n",
    "            fn = './dfs_saved/' + 'frag_df' + '_' + d1 + '.pkl'\n",
    "            fraglist= pd.read_pickle(fn)\n",
    "        if sid in fraglist.pt_root_id.to_list():\n",
    "                print('{} is a known fragment of a local neuron'.format(sid))\n",
    "                vncnsindex.loc[idx,'local'] = True\n",
    "    if (type(s) is not np.ndarray) and (s.shape[0] != 3):\n",
    "        print('{} has {} somas idx'.format(sid,s.shape[0]))\n",
    "        continue\n",
    "    non_T1_inputs = get_non_T1_inputs(iln_syn_df, s)\n",
    "    if non_T1_inputs.empty:\n",
    "        #print('{} is local'.format(sid))\n",
    "        vncnsindex.loc[idx,'local'] = True\n",
    "    else: \n",
    "        #print('{} has {} inputs outside of T1'.format(sid,non_T1_inputs.shape[0]))\n",
    "        vncnsindex.loc[idx,'non_T1_count'] = non_T1_inputs.shape[0]\n",
    "    if cnt % 100 == 0:\n",
    "        print('{} of {} rows complete, idx = {}'.format(cnt,vncnsindex.shape[0],idx))\n",
    "\n",
    "vncns.index = pd.MultiIndex.from_frame(vncnsindex)"
   ]
  },
  {
   "cell_type": "markdown",
   "metadata": {},
   "source": [
    "# Reconcatenate dataframes"
   ]
  },
  {
   "cell_type": "code",
   "execution_count": null,
   "metadata": {},
   "outputs": [],
   "source": [
    "sensmns.head(15)"
   ]
  },
  {
   "cell_type": "code",
   "execution_count": null,
   "metadata": {},
   "outputs": [],
   "source": [
    "mnindex= motor.index.to_frame()\n",
    "mnindex.index = mnindex.index.get_level_values('segID')\n",
    "mnindex['non_T1_count'] = 0\n",
    "motor.index = pd.MultiIndex.from_frame(mnindex)\n",
    "\n",
    "descindex= descending.index.to_frame()\n",
    "descindex.index = descindex.index.get_level_values('segID')\n",
    "descindex['non_T1_count'] = 0\n",
    "descending.index = pd.MultiIndex.from_frame(descindex)\n",
    "\n",
    "sensoryindex= sensory.index.to_frame()\n",
    "sensoryindex.index = sensoryindex.index.get_level_values('segID')\n",
    "sensoryindex['non_T1_count'] = 0\n",
    "sensory.index = pd.MultiIndex.from_frame(sensoryindex)\n",
    "\n",
    "ascindex= ascending.index.to_frame()\n",
    "ascindex.index = ascindex.index.get_level_values('segID')\n",
    "ascindex['non_T1_count'] = 0\n",
    "ascending.index = pd.MultiIndex.from_frame(ascindex)\n",
    "\n",
    "sensmnsindex= sensmns.index.to_frame()\n",
    "sensmnsindex.index = sensmnsindex.index.get_level_values('segID')\n",
    "sensmnsindex['non_T1_count'] = 0\n",
    "sensmns.index = pd.MultiIndex.from_frame(sensmnsindex)\n",
    "\n",
    "frgindex= fragments.index.to_frame()\n",
    "frgindex.index = frgindex.index.get_level_values('segID')\n",
    "frgindex['non_T1_count'] = 0\n",
    "fragments.index = pd.MultiIndex.from_frame(frgindex)\n",
    "\n",
    "ordered_pMN_to_MN_df = pd.concat([\n",
    "    motor,\n",
    "    descending,\n",
    "    sensory,\n",
    "    vncns,\n",
    "    ascending,\n",
    "    sensmns,\n",
    "    fragments,\n",
    "])"
   ]
  },
  {
   "cell_type": "code",
   "execution_count": null,
   "metadata": {},
   "outputs": [],
   "source": [
    "# total number of neurons with somas. Does this make sense?\n",
    "# segID\tmotor\thas_soma\tsensory\t neck\tlocal\t\n",
    "print(pre_to_mn_df.loc[(All,All,True,All,All),:].shape)\n",
    "ordered_pMN_to_MN_df.loc[(All,All,True,All,All),:].shape"
   ]
  },
  {
   "cell_type": "code",
   "execution_count": null,
   "metadata": {},
   "outputs": [],
   "source": [
    "ordered_pMN_to_MN_df.head()"
   ]
  },
  {
   "cell_type": "code",
   "execution_count": null,
   "metadata": {},
   "outputs": [],
   "source": [
    "connectome_create.save_pre_to_mn_df(ordered_pMN_to_MN_df,ext='vncns_inter_vs_local')"
   ]
  },
  {
   "cell_type": "code",
   "execution_count": null,
   "metadata": {},
   "outputs": [],
   "source": [
    "# If a segID shows up later, figure out what's going on here"
   ]
  },
  {
   "cell_type": "markdown",
   "metadata": {},
   "source": [
    "# Create local vs intersegmental dfs."
   ]
  },
  {
   "cell_type": "markdown",
   "metadata": {},
   "source": [
    "# Local"
   ]
  },
  {
   "cell_type": "code",
   "execution_count": null,
   "metadata": {},
   "outputs": [],
   "source": [
    "local = vncns.loc[(All,False,True,False,False,True,0),:]\n",
    "print(local.shape)\n",
    "\n",
    "intrseg = vncns.loc[(All,False,True,False,False,False,All),:]\n",
    "print(intrseg.shape)\n",
    "utils.total_sort_save_df_csv(intrseg,'intersegmental_ns')"
   ]
  },
  {
   "cell_type": "markdown",
   "metadata": {},
   "source": [
    "### Is a segID intersegmental?"
   ]
  },
  {
   "cell_type": "code",
   "execution_count": null,
   "metadata": {},
   "outputs": [],
   "source": [
    "# def build_synapses(sid,syn_df):\n",
    "\n",
    "#     # variables to render in neuroglancer link\n",
    "#     render_synapses = syn_df\n",
    "#     render_neurons = [sid]\n",
    "\n",
    "#     img_source = client.info.image_source()\n",
    "#     img_layer = ngstbld.ImageLayerConfig(name='fanc_v4',\n",
    "#                                  source=img_source,\n",
    "#                                  )\n",
    "#     seg_source = client.info.segmentation_source()\n",
    "\n",
    "#     seg_layer = ngstbld.SegmentationLayerConfig(name = 'seg',\n",
    "#                                         source = seg_source,\n",
    "#                                         fixed_ids = render_neurons)\n",
    "#     points = ngstbld.PointMapper(point_column='post_pt_position') ######################## change this to toggle rendering of pre- or post- synaptic points\n",
    "#     anno_layer = ngstbld.AnnotationLayerConfig(name='annos',\n",
    "#                                        mapping_rules=points )\n",
    "\n",
    "#     sb = ngstbld.StateBuilder([img_layer, seg_layer, anno_layer], resolution=[4.3,4.3,45])\n",
    "#     return sb.render_state(render_synapses, return_as='html')"
   ]
  },
  {
   "cell_type": "code",
   "execution_count": null,
   "metadata": {},
   "outputs": [],
   "source": [
    "# x = [3000 , 38000]\n",
    "# y = [90483, 123190] # extended the boundaries a bit 5/10/22\n",
    "# z = [980, 3858]\n",
    "# t1 = lambda b: (b[0]>=x[0]) & (b[0]<=x[1]) & (b[1]>=y[0]) & (b[1]<=y[1]) & (b[2]>=z[0]) & (b[2]<=z[1])\n",
    "\n",
    "# sid = 648518346494207602\n",
    "# iln_syn_df = client.materialize.query_table('synapses_jan2022',\n",
    "#                                                     filter_equal_dict = {'post_pt_root_id': sid},\n",
    "#                                                     select_columns=['id','post_pt_position'],\n",
    "#                                                        )\n",
    "# in_T1_box = iln_syn_df.loc[:,['post_pt_position']].applymap(t1)\n",
    "# pts_out_of_T1 = iln_syn_df.loc[~in_T1_box.post_pt_position,:]\n",
    "# pts_in_T1 = iln_syn_df.loc[in_T1_box.post_pt_position,:]\n",
    "# s = soma_table.loc[sid,:].pt_position\n",
    "# nearsoma = lambda b: (b[0]>=s[0]+sx[0]) & (b[0]<=s[0]+sx[1]) & (b[1]>=s[1]+sy[0]) & (b[1]<=s[1]+sy[1]) & (b[2]>=s[2]+sz[0]) & (b[2]<=s[2]+sz[1])\n",
    "# in_soma_box = pts_out_of_T1.loc[:,['post_pt_position']].applymap(nearsoma)\n",
    "# pts_out_of_T1 = pts_out_of_T1.loc[~in_soma_box.post_pt_position,:]\n",
    "# if pts_out_of_T1.empty:\n",
    "#     print('{} is local'.format(sid))\n",
    "# else: \n",
    "#     print('{} has {} inputs outside of T1'.format(sid,pts_out_of_T1.shape[0]))"
   ]
  }
 ],
 "metadata": {
  "kernelspec": {
   "display_name": "Python 3.7.12 ('fanc_analysis')",
   "language": "python",
   "name": "python3"
  },
  "language_info": {
   "codemirror_mode": {
    "name": "ipython",
    "version": 3
   },
   "file_extension": ".py",
   "mimetype": "text/x-python",
   "name": "python",
   "nbconvert_exporter": "python",
   "pygments_lexer": "ipython3",
   "version": "3.7.12"
  },
  "vscode": {
   "interpreter": {
    "hash": "b315cc870c8bed6572d217175f80b2213d2d88f8d1534b43b9efee2de96efaec"
   }
  }
 },
 "nbformat": 4,
 "nbformat_minor": 4
}
