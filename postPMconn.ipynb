{
 "cells": [
  {
   "cell_type": "code",
   "execution_count": null,
   "metadata": {},
   "outputs": [],
   "source": [
    "# post premotor connectivity"
   ]
  }
 ],
 "metadata": {
  "interpreter": {
   "hash": "5352051762ca122a68ba495c500f89382b09e2bc34e32f8000bc1060b2b34fee"
  },
  "kernelspec": {
   "display_name": "Python 3.7.6 ('base')",
   "language": "python",
   "name": "python3"
  },
  "language_info": {
   "name": "python",
   "version": "3.7.6"
  },
  "orig_nbformat": 4
 },
 "nbformat": 4,
 "nbformat_minor": 2
}
