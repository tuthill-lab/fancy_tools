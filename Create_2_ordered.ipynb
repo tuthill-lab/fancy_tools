{
 "cells": [
  {
   "cell_type": "code",
   "execution_count": null,
   "metadata": {},
   "outputs": [],
   "source": [
    "import os\n",
    "import utils\n",
    "import connectome_create\n",
    "# viz_method = one of ['itkwidgets', 'vtk']\n",
    "viz_method = 'vtk'\n",
    "\n",
    "# import some of our favorite packages\n",
    "import pandas as pd\n",
    "import numpy as np\n",
    "import os\n",
    "import matplotlib.pyplot as plt\n",
    "import seaborn as sns\n",
    "import re\n",
    "import warnings\n",
    "\n",
    "%matplotlib inline\n",
    "from sklearn.metrics.pairwise import cosine_similarity\n",
    "from sklearn.cluster import AgglomerativeClustering\n",
    "import nglui.statebuilder as ngstbld\n",
    "\n",
    "# this is the EM specific package for querying the EM data\n",
    "from caveclient import CAVEclient\n",
    "\n",
    "\n",
    "from meshparty import trimesh_io, trimesh_vtk\n",
    "from meshparty import skeletonize, skeleton_io, skeleton\n",
    "import cloudvolume\n",
    "\n",
    "%load_ext autoreload\n",
    "%autoreload 2"
   ]
  },
  {
   "cell_type": "code",
   "execution_count": null,
   "metadata": {
    "tags": []
   },
   "outputs": [],
   "source": [
    "datastack_name = 'fanc_production_mar2021'\n",
    "\n",
    "client = CAVEclient(datastack_name)"
   ]
  },
  {
   "cell_type": "code",
   "execution_count": null,
   "metadata": {},
   "outputs": [],
   "source": [
    "mn_inputs = client.materialize.synapse_query(post_ids = 648518346488512137,timestamp=connectome_create.get_timestamp())"
   ]
  },
  {
   "cell_type": "code",
   "execution_count": null,
   "metadata": {},
   "outputs": [],
   "source": [
    "mn_inputs"
   ]
  },
  {
   "cell_type": "code",
   "execution_count": null,
   "metadata": {
    "tags": []
   },
   "outputs": [],
   "source": [
    "# client = CAVEclient()\n",
    "\n",
    "# # if not os.path.isfile(os.path.expanduser(\"~/.cloudvolume/secrets/cave-secret.json\")):\n",
    "# client.auth.get_new_token(open=True)"
   ]
  },
  {
   "cell_type": "code",
   "execution_count": null,
   "metadata": {},
   "outputs": [],
   "source": [
    "# if you have not yet setup this computer, uncomment this below line\n",
    "# paste the token from the website in, and run the line\n",
    "\n",
    "# client.auth.save_token(token=\"c14cd7a3e18a1a697716a399afbf5778\", overwrite=True)\n",
    "\n",
    "# then comment or delete the line as you don't need to run it on this computer  again"
   ]
  },
  {
   "cell_type": "markdown",
   "metadata": {},
   "source": [
    "# Load Motor neuron table"
   ]
  },
  {
   "cell_type": "code",
   "execution_count": null,
   "metadata": {},
   "outputs": [],
   "source": [
    "pre_to_mn_df = connectome_create.load_pre_to_mn_df(ext='edited')\n",
    "pre_to_mn_df.shape"
   ]
  },
  {
   "cell_type": "code",
   "execution_count": null,
   "metadata": {},
   "outputs": [],
   "source": [
    "cmap = utils.white_dense()\n",
    "\n",
    "mn_mi = pre_to_mn_df.columns.to_frame()\n",
    "lbls = utils.mn_labels(mn_mi,depth='rank')\n",
    "\n",
    "conn_mat = np.log10(pre_to_mn_df.to_numpy()+1)\n",
    "\n",
    "# TODO: split up the matrix on segments and types\n",
    "\n",
    "fig = plt.figure(1, figsize = [15,25])\n",
    "ax = sns.heatmap(conn_mat,xticklabels=lbls,cmap=cmap)\n",
    "cbar = ax.collections[0].colorbar\n",
    "# here set the labelsize by 20\n",
    "# cbar.ax.tick_params(labelsize=20)\n",
    "cbar.set_label(label = 'log 10 # of synapses', size=24)\n",
    "plt.xlabel('Motor Neuron SegIDS', fontsize =18)\n",
    "plt.ylabel('Intersegmental pMNs', fontsize =18)\n",
    "plt.yticks(fontsize = 16)\n",
    "plt.xticks(fontsize = 16)\n",
    "plt.show()\n",
    "\n",
    "# This is basically randomly ordered"
   ]
  },
  {
   "cell_type": "markdown",
   "metadata": {},
   "source": [
    "# Sort according to total number of inputs"
   ]
  },
  {
   "cell_type": "code",
   "execution_count": null,
   "metadata": {},
   "outputs": [],
   "source": [
    "s = pre_to_mn_df.sum(axis=0)\n",
    "pre_to_mn_df = pre_to_mn_df[s.sort_values(ascending=True).index]\n",
    "pre_to_mn_df.shape"
   ]
  },
  {
   "cell_type": "markdown",
   "metadata": {},
   "source": [
    "# Sort according to segment and function"
   ]
  },
  {
   "cell_type": "code",
   "execution_count": null,
   "metadata": {},
   "outputs": [],
   "source": [
    "new_idx = utils.sort_segment_fcn_index(pre_to_mn_df.columns)\n",
    "pre_to_mn_df = pre_to_mn_df[new_idx]\n",
    "\n",
    "mn_mi = pre_to_mn_df.columns.to_frame()\n",
    "lbls = utils.mn_labels(mn_mi,depth='rank')\n",
    "\n",
    "conn_mat = np.log10(pre_to_mn_df.to_numpy()+1)\n",
    "\n",
    "# TODO: split up the matrix on segments and types\n",
    "\n",
    "fig = plt.figure(1, figsize = [15,25])\n",
    "ax = sns.heatmap(conn_mat,xticklabels=lbls,cmap=cmap)\n",
    "cbar = ax.collections[0].colorbar\n",
    "# here set the labelsize by 20\n",
    "# cbar.ax.tick_params(labelsize=20)\n",
    "cbar.set_label(label = 'log 10 # of synapses', size=24)\n",
    "plt.xlabel('Motor Neuron SegIDS', fontsize =18)\n",
    "plt.ylabel('Intersegmental pMNs', fontsize =18)\n",
    "plt.yticks(fontsize = 16)\n",
    "plt.xticks(fontsize = 16)\n",
    "plt.show()"
   ]
  },
  {
   "cell_type": "code",
   "execution_count": null,
   "metadata": {},
   "outputs": [],
   "source": [
    "# Double check the order of the neurons\n",
    "x = utils.xticks_from_mnmi(mn_mi)\n",
    "x = utils.xticks_from_pools(mn_mi)\n",
    "lbls = utils.mn_labels(mn_mi,depth='rank')\n",
    "mat = pre_to_mn_df.to_numpy()\n",
    "y = mat.sum(axis=0)\n",
    "\n",
    "fig = plt.figure(1, figsize=(20, 6))\n",
    "ax1 = plt.subplot2grid((1,1),(0,0))\n",
    "\n",
    "ax1.scatter(x, y,marker='o')\n",
    "plt.sca(ax1)\n",
    "plt.title('Number of descending neurons connected to each MN')\n",
    "plt.xlabel('MN')\n",
    "plt.ylabel('Number of inputs')\n",
    "locs, labels = plt.xticks(ticks=x, labels=lbls, rotation=90)\n",
    "\n",
    "plt.savefig('./figpanels/total_inputs.svg',format='svg')"
   ]
  },
  {
   "cell_type": "markdown",
   "metadata": {},
   "source": [
    "## Create ordered type specific neurons"
   ]
  },
  {
   "cell_type": "code",
   "execution_count": null,
   "metadata": {},
   "outputs": [],
   "source": [
    "All = slice(None)"
   ]
  },
  {
   "cell_type": "code",
   "execution_count": null,
   "metadata": {},
   "outputs": [],
   "source": [
    "### Motor neurons\n",
    "# segID\tmotor\thas_soma\tsensory\t neck\tlocal\t\n",
    "m_r_tup = (All,True,All,All,All,All)\n",
    "mns = pre_to_mn_df.loc[m_r_tup,:]\n",
    "mns = mns.loc[mns.sum(axis=1).sort_values(ascending=False).index,:]\n",
    "print('mns shape: {}'.format(mns.shape))\n",
    "\n",
    "### sensory neurons\n",
    "# segID\tmotor\thas_soma\tsensory\t neck\tlocal\t\n",
    "s_r_tup = (All,False,False,True,False,False)\n",
    "sensory = pre_to_mn_df.loc[s_r_tup,:]\n",
    "sensory = sensory.loc[sensory.sum(axis=1).sort_values(ascending=False).index,:]\n",
    "print('sensory shape: {}'.format(sensory.shape))\n",
    "\n",
    "### descending neurons\n",
    "# segID\tmotor\thas_soma\tsensory\t neck\tlocal\t\n",
    "descending = pre_to_mn_df.loc[(All,False,False,False,True,All),:]\n",
    "descending = descending.loc[descending.sum(axis=1).sort_values(ascending=False).index,:]\n",
    "print('descending shape: {}'.format(descending.shape))\n",
    "\n",
    "### How many ascending neurons # 138\n",
    "# segID\tmotor\thas_soma\tsensory\t neck\tlocal\t\n",
    "ascending = pre_to_mn_df.loc[(All,False,True,False,True,False),:]\n",
    "ascending = ascending.loc[ascending.sum(axis=1).sort_values(ascending=False).index,:]\n",
    "print('ascending shape: {}'.format(ascending.shape))\n",
    "\n",
    "### VNC neurons\n",
    "# segID\tmotor\thas_soma\tsensory\t neck\tlocal\t\n",
    "vncns = pre_to_mn_df.loc[(All,False,True,False,False,False),:]\n",
    "vncns = vncns.loc[vncns.sum(axis=1).sort_values(ascending=False).index,:]\n",
    "print('vncns shape: {}'.format(vncns.shape))\n",
    "\n",
    "## strange motor neurons\n",
    "sensmns = pre_to_mn_df.loc[(All,False,True,True,False,False),:]\n",
    "sensmns = sensmns.loc[sensmns.sum(axis=1).sort_values(ascending=False).index,:]\n",
    "print('sensmns shape: {}'.format(sensmns.shape))\n",
    "\n",
    "(mns.shape[0]+sensory.shape[0]+descending.shape[0] + ascending.shape[0] + vncns.shape[0] + sensmns.shape[0] )"
   ]
  },
  {
   "cell_type": "code",
   "execution_count": null,
   "metadata": {},
   "outputs": [],
   "source": []
  },
  {
   "cell_type": "markdown",
   "metadata": {},
   "source": [
    "### Fragments"
   ]
  },
  {
   "cell_type": "code",
   "execution_count": null,
   "metadata": {},
   "outputs": [],
   "source": [
    "# Neurons with a soma and not ascending\n",
    "fragments = pre_to_mn_df.loc[(All,False,False,False,False,False),:].copy()\n",
    "### VNC neurons\n",
    "# segID\tmotor\thas_soma\tsensory\t neck\tlocal\t\n",
    "fragments = pre_to_mn_df.loc[(All,False,False,False,False,False),:]\n",
    "fragments = fragments.loc[fragments.sum(axis=1).sort_values(ascending=False).index,:]\n",
    "\n",
    "total = fragments.sum(axis=1)\n",
    "tot = total.cumsum()#/total.sum() # The fraction of total input from a given fragment\n",
    "n = np.array([i for i in range(len(tot))])  # assign a number to neurons\n",
    "frc = n/n.sum()\n",
    "\n",
    "fig = plt.figure(1, figsize=(8, 6))\n",
    "ax1 = plt.subplot2grid((1,1),(0,0))\n",
    "\n",
    "# ax1.scatter(x, y)\n",
    "ax1.plot(n,tot)#, marker='o')\n",
    "plt.sca(ax1)\n",
    "plt.title('Total synapses from N fragments')\n",
    "plt.ylabel('M synapses')\n",
    "plt.xlabel('N fragments')\n",
    "plt.show()\n",
    "# locs, labels = plt.xticks(ticks=x, labels=lbls, rotation=90)"
   ]
  },
  {
   "cell_type": "code",
   "execution_count": null,
   "metadata": {},
   "outputs": [],
   "source": [
    "# # idx = fragments.index.to_frame()\n",
    "utils.total_sort_save_df_csv(fragments,'fragment_list')"
   ]
  },
  {
   "cell_type": "markdown",
   "metadata": {
    "tags": []
   },
   "source": [
    "## Reassemble the connectivity matrix "
   ]
  },
  {
   "cell_type": "code",
   "execution_count": null,
   "metadata": {},
   "outputs": [],
   "source": [
    "ordered_pMN_to_MN_df = pd.concat([\n",
    "    mns,\n",
    "    descending,\n",
    "    sensory,\n",
    "    vncns,\n",
    "    ascending,\n",
    "    sensmns,\n",
    "    fragments\n",
    "])\n",
    "print(ordered_pMN_to_MN_df.shape)"
   ]
  },
  {
   "cell_type": "markdown",
   "metadata": {},
   "source": [
    "# Save the ordered_pMN_to_MN_df"
   ]
  },
  {
   "cell_type": "code",
   "execution_count": null,
   "metadata": {},
   "outputs": [],
   "source": [
    "connectome_create.save_pre_to_mn_df(ordered_pMN_to_MN_df,ext='ordered')"
   ]
  },
  {
   "cell_type": "code",
   "execution_count": null,
   "metadata": {},
   "outputs": [],
   "source": [
    "conn_mat = np.log10(ordered_pMN_to_MN_df.to_numpy()+1)\n",
    "\n",
    "# TODO: split up the matrix on segments and types\n",
    "\n",
    "fig = plt.figure(1, figsize = [15,25])\n",
    "ax = sns.heatmap(conn_mat,xticklabels=lbls,cmap=cmap)\n",
    "cbar = ax.collections[0].colorbar\n",
    "# here set the labelsize by 20\n",
    "# cbar.ax.tick_params(labelsize=20)\n",
    "cbar.set_label(label = 'log 10 # of synapses', size=24)\n",
    "plt.xlabel('Motor Neuron SegIDS', fontsize =18)\n",
    "plt.ylabel('Intersegmental pMNs', fontsize =18)\n",
    "plt.yticks(fontsize = 16)\n",
    "plt.xticks(fontsize = 16)\n",
    "plt.show()"
   ]
  },
  {
   "cell_type": "code",
   "execution_count": null,
   "metadata": {},
   "outputs": [],
   "source": []
  }
 ],
 "metadata": {
  "kernelspec": {
   "display_name": "Python 3.7.12 ('fanc_analysis')",
   "language": "python",
   "name": "python3"
  },
  "language_info": {
   "codemirror_mode": {
    "name": "ipython",
    "version": 3
   },
   "file_extension": ".py",
   "mimetype": "text/x-python",
   "name": "python",
   "nbconvert_exporter": "python",
   "pygments_lexer": "ipython3",
   "version": "3.7.12"
  },
  "vscode": {
   "interpreter": {
    "hash": "b315cc870c8bed6572d217175f80b2213d2d88f8d1534b43b9efee2de96efaec"
   }
  }
 },
 "nbformat": 4,
 "nbformat_minor": 4
}
