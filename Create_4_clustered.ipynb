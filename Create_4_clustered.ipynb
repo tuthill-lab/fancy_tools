{
 "cells": [
  {
   "cell_type": "code",
   "execution_count": null,
   "metadata": {},
   "outputs": [],
   "source": [
    "import os\n",
    "import utils\n",
    "import connectome_create\n",
    "# viz_method = one of ['itkwidgets', 'vtk']\n",
    "viz_method = 'vtk'\n",
    "\n",
    "# import some of our favorite packages\n",
    "import pandas as pd\n",
    "import numpy as np\n",
    "import os\n",
    "import matplotlib.pyplot as plt\n",
    "import seaborn as sns\n",
    "import re\n",
    "import warnings\n",
    "\n",
    "%matplotlib inline\n",
    "from sklearn.metrics.pairwise import cosine_similarity\n",
    "from sklearn.cluster import AgglomerativeClustering\n",
    "import nglui.statebuilder as ngstbld\n",
    "\n",
    "# this is the EM specific package for querying the EM data\n",
    "from caveclient import CAVEclient\n",
    "\n",
    "\n",
    "from meshparty import trimesh_io, trimesh_vtk\n",
    "from meshparty import skeletonize, skeleton_io, skeleton\n",
    "import cloudvolume\n",
    "\n",
    "%load_ext autoreload\n",
    "%autoreload 2"
   ]
  },
  {
   "cell_type": "code",
   "execution_count": null,
   "metadata": {
    "tags": []
   },
   "outputs": [],
   "source": [
    "datastack_name = 'fanc_production_mar2021'\n",
    "\n",
    "client = CAVEclient(datastack_name)"
   ]
  },
  {
   "cell_type": "code",
   "execution_count": null,
   "metadata": {
    "tags": []
   },
   "outputs": [],
   "source": [
    "# client = CAVEclient()\n",
    "\n",
    "# # if not os.path.isfile(os.path.expanduser(\"~/.cloudvolume/secrets/cave-secret.json\")):\n",
    "# client.auth.get_new_token(open=True)"
   ]
  },
  {
   "cell_type": "code",
   "execution_count": null,
   "metadata": {},
   "outputs": [],
   "source": [
    "# if you have not yet setup this computer, uncomment this below line\n",
    "# paste the token from the website in, and run the line\n",
    "\n",
    "# client.auth.save_token(token=\"c14cd7a3e18a1a697716a399afbf5778\", overwrite=True)\n",
    "\n",
    "# then comment or delete the line as you don't need to run it on this computer  again"
   ]
  },
  {
   "cell_type": "markdown",
   "metadata": {},
   "source": [
    "# Load Motor neuron table"
   ]
  },
  {
   "cell_type": "code",
   "execution_count": null,
   "metadata": {},
   "outputs": [],
   "source": [
    "pre_to_mn_df = connectome_create.load_pre_to_mn_df(ext='vncns_inter_vs_local')\n",
    "pre_to_mn_df.shape"
   ]
  },
  {
   "cell_type": "markdown",
   "metadata": {},
   "source": [
    "## Create ordered type specific neurons"
   ]
  },
  {
   "cell_type": "code",
   "execution_count": null,
   "metadata": {},
   "outputs": [],
   "source": [
    "All = slice(None)"
   ]
  },
  {
   "cell_type": "code",
   "execution_count": null,
   "metadata": {},
   "outputs": [],
   "source": [
    "# segID\tmotor\thas_soma\tsensory\t neck\tlocal\t\n",
    "m_r_tup = (All,True,All,All,All,All)\n",
    "motor = pre_to_mn_df.loc[m_r_tup,:]\n",
    "motor = motor.loc[motor.sum(axis=1).sort_values(ascending=False).index,:]\n",
    "print(motor.shape)\n",
    "\n",
    "### sensory neurons\n",
    "# segID\tmotor\thas_soma\tsensory\t neck\tlocal\t\n",
    "s_r_tup = (All,False,All,True,False,False)\n",
    "sensory = pre_to_mn_df.loc[s_r_tup,:]\n",
    "sensory = sensory.loc[sensory.sum(axis=1).sort_values(ascending=False).index,:]\n",
    "print(sensory.shape)\n",
    "\n",
    "### weird mn neurons\n",
    "# segID\tmotor\thas_soma\tsensory\t neck\tlocal\t\n",
    "w_r_tup = (All,False,True,True,False,False)\n",
    "sensmns = pre_to_mn_df.loc[w_r_tup,:]\n",
    "sensmns = sensmns.loc[sensmns.sum(axis=1).sort_values(ascending=False).index,:]\n",
    "print(sensmns.shape)\n",
    "\n",
    "### descending neurons\n",
    "# segID\tmotor\thas_soma\tsensory\t neck\tlocal\t\n",
    "descending = pre_to_mn_df.loc[(All,False,False,False,True,All),:]\n",
    "descending = descending.loc[descending.sum(axis=1).sort_values(ascending=False).index,:]\n",
    "print(descending.shape)\n",
    "\n",
    "### How many ascending neurons # 138\n",
    "# segID\tmotor\thas_soma\tsensory\t neck\tlocal\t\n",
    "ascending = pre_to_mn_df.loc[(All,False,True,False,True,False),:]\n",
    "ascending = ascending.loc[ascending.sum(axis=1).sort_values(ascending=False).index,:]\n",
    "print(ascending.shape)\n",
    "\n",
    "### VNC neurons\n",
    "# segID\tmotor\thas_soma\tsensory\t neck\tlocal\t\n",
    "vncns = pre_to_mn_df.loc[(All,False,True,False,False,All,All),:]\n",
    "vncns = vncns.loc[vncns.sum(axis=1).sort_values(ascending=False).index,:]\n",
    "print(vncns.shape)\n",
    "\n",
    "fragments = pre_to_mn_df.loc[(All,False,False,False,False,False),:]\n",
    "fragments.shape\n"
   ]
  },
  {
   "cell_type": "code",
   "execution_count": null,
   "metadata": {},
   "outputs": [],
   "source": [
    "50+117+217+104+912 #+3696"
   ]
  },
  {
   "cell_type": "markdown",
   "metadata": {},
   "source": [
    "## Separate according to local vs. intersegmental\n",
    "Should some of these be local neurons instead?"
   ]
  },
  {
   "cell_type": "code",
   "execution_count": null,
   "metadata": {},
   "outputs": [],
   "source": [
    "\n",
    "local = vncns.loc[(All,False,True,False,False,True,All),:]\n",
    "print('local shape:{}'.format(local.shape))\n",
    "\n",
    "# peel off some local neurons from the intersegmental neurons\n",
    "intrseg = vncns.loc[(All,False,True,False,False,False,All),:]\n",
    "print('inter shape:{}'.format(intrseg.shape))\n",
    "\n",
    "index = intrseg.index.to_frame()\n",
    "index.index = index.index.get_level_values('segID')\n",
    "somenonT1 = index.non_T1_count<20\n",
    "intrseg.loc[somenonT1.to_list(),:]\n",
    "\n",
    "possible_local = intrseg.loc[somenonT1.to_list(),:]\n",
    "possible_local.shape\n",
    "\n",
    "# Order local_p by numbers of synapses\n",
    "local_p = pd.concat([local,possible_local])\n",
    "local_p = local_p.loc[local_p.sum(axis=1).sort_values(ascending=False).index,:]\n",
    "\n",
    "intrseg_m = intrseg.loc[~somenonT1.to_numpy(),:]\n",
    "\n",
    "print(intrseg_m.shape)\n",
    "\n",
    "\n",
    "# Print the next tranche of neurons to see if any others should be typed and local\n",
    "mi,arr = intrseg_m.index.sortlevel(level='non_T1_count')\n",
    "mi_df = mi.to_frame()\n",
    "# .loc[].segID\n",
    "mi_df.loc[mi_df.non_T1_count<100].segID.to_list()\n",
    "utils.save_df_csv(mi_df.loc[mi_df.non_T1_count<100],name='possible_local_from_intersegmental')\n",
    "\n",
    "# Now just look for that giant 19B neuron and move it to the local stack\n",
    "pmns = pd.DataFrame()\n",
    "pmns['pt_position'] = [[52132, 120825, 1557]]\n",
    "\n",
    "# looking to add this one particular neuron:\n",
    "cv = cloudvolume.CloudVolume(client.info.get_datastack_info()['segmentation_source'], use_https=True)\n",
    "segID = utils.segIDs_from_pts_service(pmns.pt_position,cv)\n",
    "print('Moving large neuron {} from intersegmental to local group'.format(segID))\n",
    "\n",
    "local_p = pd.concat([local_p,intrseg_m.loc[segID]])\n",
    "local_p = local_p.loc[local_p.sum(axis=1).sort_values(ascending=False).index,:]\n",
    "\n",
    "locidx = local_p.index.to_frame()\n",
    "# locidx.index = locidx.index.get_level_values('segID').to_list()\n",
    "locidx.local = True\n",
    "locmi = pd.MultiIndex.from_frame(locidx)\n",
    "local_p.index = locmi\n",
    "print(local_p.shape)\n",
    "\n",
    "intrseg_m = intrseg_m.loc[mi_df.segID!=segID[0],:]\n",
    "print('local shape:{} ({})'.format(local_p.shape,locidx.local.sum()))\n",
    "print('inter shape:{}'.format(intrseg_m.shape))"
   ]
  },
  {
   "cell_type": "code",
   "execution_count": null,
   "metadata": {},
   "outputs": [],
   "source": [
    "# local = vncns.loc[(All,False,True,False,False,True,All),:]\n",
    "# local.loc[(All,False,True,False,False,True,0),:]\n",
    "# idx = local.index.to_frame()\n",
    "# idx.loc[idx.non_T1_count!=0]"
   ]
  },
  {
   "cell_type": "markdown",
   "metadata": {
    "tags": []
   },
   "source": [
    "## Sort cell classes by similarity onto mns"
   ]
  },
  {
   "cell_type": "markdown",
   "metadata": {},
   "source": [
    "### Descending neurons"
   ]
  },
  {
   "cell_type": "code",
   "execution_count": null,
   "metadata": {},
   "outputs": [],
   "source": [
    "#print(descending.shape)\n",
    "sim_mat = cosine_similarity(descending.to_numpy())\n",
    "\n",
    "# setting distance_threshold=0 ensures we compute the full tree.\n",
    "model = AgglomerativeClustering(distance_threshold=0, n_clusters=None).fit(sim_mat)\n",
    "\n",
    "# plot the top three levels of the dendrogram\n",
    "clustered_order = utils.plot_dendrogram(model, truncate_mode=\"level\", p=6000) # p truncate mode\n",
    "clustered_order = np.array(clustered_order).astype(int) # convert strins into integers\n",
    "# print(clustered_order)\n",
    "descending_clustered = descending.iloc[clustered_order,:].copy()\n",
    "descending_clustered.shape"
   ]
  },
  {
   "cell_type": "markdown",
   "metadata": {
    "tags": []
   },
   "source": [
    "### sensory neurons"
   ]
  },
  {
   "cell_type": "code",
   "execution_count": null,
   "metadata": {},
   "outputs": [],
   "source": [
    "sim_mat = cosine_similarity(sensory.to_numpy())\n",
    "\n",
    "# setting distance_threshold=0 ensures we compute the full tree.\n",
    "model = AgglomerativeClustering(distance_threshold=0, n_clusters=None).fit(sim_mat)\n",
    "\n",
    "# plot the top three levels of the dendrogram\n",
    "clustered_order = utils.plot_dendrogram(model, truncate_mode=\"level\", p=6000) # p truncate mode\n",
    "clustered_order = np.array(clustered_order).astype(int) # convert strins into integers\n",
    "# print(clustered_order)\n",
    "sensory_clustered = sensory.iloc[clustered_order,:].copy()\n",
    "sensory_clustered.shape"
   ]
  },
  {
   "cell_type": "markdown",
   "metadata": {
    "tags": []
   },
   "source": [
    "### local neurons"
   ]
  },
  {
   "cell_type": "code",
   "execution_count": null,
   "metadata": {},
   "outputs": [],
   "source": [
    "sim_mat = cosine_similarity(local_p.to_numpy())\n",
    "\n",
    "# setting distance_threshold=0 ensures we compute the full tree.\n",
    "model = AgglomerativeClustering(distance_threshold=0, n_clusters=None).fit(sim_mat)\n",
    "\n",
    "# plot the top three levels of the dendrogram\n",
    "clustered_order = utils.plot_dendrogram(model, truncate_mode=\"level\", p=6000) # p truncate mode\n",
    "clustered_order = np.array(clustered_order).astype(int) # convert strins into integers\n",
    "# print(clustered_order)\n",
    "local_clustered = local_p.iloc[clustered_order,:].copy()\n",
    "local_clustered.shape\n",
    "local_clustered"
   ]
  },
  {
   "cell_type": "markdown",
   "metadata": {
    "tags": []
   },
   "source": [
    "### intersegmental neurons"
   ]
  },
  {
   "cell_type": "code",
   "execution_count": null,
   "metadata": {},
   "outputs": [],
   "source": [
    "sim_mat = cosine_similarity(intrseg_m.to_numpy())\n",
    "\n",
    "# setting distance_threshold=0 ensures we compute the full tree.\n",
    "model = AgglomerativeClustering(distance_threshold=0, n_clusters=None).fit(sim_mat)\n",
    "\n",
    "# plot the top three levels of the dendrogram\n",
    "clustered_order = utils.plot_dendrogram(model, truncate_mode=\"level\", p=6000) # p truncate mode\n",
    "clustered_order = np.array(clustered_order).astype(int) # convert strins into integers\n",
    "# print(clustered_order)\n",
    "intrseg_clustered = intrseg_m.iloc[clustered_order,:].copy()\n",
    "intrseg_clustered.shape"
   ]
  },
  {
   "cell_type": "markdown",
   "metadata": {
    "tags": []
   },
   "source": [
    "### ascending neurons"
   ]
  },
  {
   "cell_type": "code",
   "execution_count": null,
   "metadata": {},
   "outputs": [],
   "source": [
    "sim_mat = cosine_similarity(ascending.to_numpy())\n",
    "\n",
    "# setting distance_threshold=0 ensures we compute the full tree.\n",
    "model = AgglomerativeClustering(distance_threshold=0, n_clusters=None).fit(sim_mat)\n",
    "\n",
    "# plot the top three levels of the dendrogram\n",
    "clustered_order = utils.plot_dendrogram(model, truncate_mode=\"level\", p=6000) # p truncate mode\n",
    "clustered_order = np.array(clustered_order).astype(int) # convert strins into integers\n",
    "# print(clustered_order)\n",
    "ascending_clustered = ascending.iloc[clustered_order,:].copy()\n",
    "ascending_clustered.shape"
   ]
  },
  {
   "cell_type": "code",
   "execution_count": null,
   "metadata": {},
   "outputs": [],
   "source": [
    "clustered_pMN_to_MN_df = pd.concat([\n",
    "    motor,\n",
    "    descending_clustered,\n",
    "    sensory_clustered,\n",
    "    intrseg_clustered,\n",
    "    local_p, # local_clustered,\n",
    "    ascending_clustered,\n",
    "    fragments\n",
    "])\n",
    "print(clustered_pMN_to_MN_df.shape)\n",
    "\n",
    "clustered_pMN_to_MN_df_no_frags = pd.concat([\n",
    "    descending_clustered,\n",
    "    sensory_clustered,\n",
    "    intrseg_clustered,\n",
    "    local_p, # local_clustered,\n",
    "    ascending_clustered,\n",
    "])\n",
    "print(clustered_pMN_to_MN_df_no_frags.shape)\n",
    "\n",
    "clustered_pMN_to_MN_df_with_clusteredvnc = pd.concat([\n",
    "    descending_clustered,\n",
    "    sensory_clustered,\n",
    "    intrseg_clustered,\n",
    "    local_clustered,\n",
    "    ascending_clustered,\n",
    "])\n",
    "print(clustered_pMN_to_MN_df_with_clusteredvnc.shape)\n",
    "\n",
    "# ordered_pMN_to_MN_df_no_desc = pd.concat([\n",
    "#     sensory,\n",
    "#     vncns,\n",
    "#     ascending\n",
    "# ])\n",
    "# print(ordered_pMN_to_MN_no_desc_df.shape)\n",
    "\n",
    "\n",
    "# ordered_pMN_to_MN_df_all = pd.concat([\n",
    "#     descending,\n",
    "#     sensory,\n",
    "#     vncns,\n",
    "#     ascending,\n",
    "#     fragments\n",
    "# ])\n",
    "# print(ordered_pMN_to_MN_df_all.shape)\n"
   ]
  },
  {
   "cell_type": "markdown",
   "metadata": {},
   "source": [
    "# Save the clustered_pMN_to_MN_df"
   ]
  },
  {
   "cell_type": "code",
   "execution_count": null,
   "metadata": {},
   "outputs": [],
   "source": [
    "connectome_create.save_pre_to_mn_df(clustered_pMN_to_MN_df,ext='clustered_ordered')"
   ]
  },
  {
   "cell_type": "code",
   "execution_count": null,
   "metadata": {},
   "outputs": [],
   "source": [
    "# Test\n",
    "local_p = clustered_pMN_to_MN_df.loc[(All,False,True,False,False,True,All),:]\n",
    "local_p.shape"
   ]
  },
  {
   "cell_type": "markdown",
   "metadata": {},
   "source": [
    "# Show some clusters"
   ]
  },
  {
   "cell_type": "code",
   "execution_count": null,
   "metadata": {},
   "outputs": [],
   "source": [
    "# All\n",
    "# And plot the connectivity so that you can compare clusters\n",
    "cmap = utils.white_dense()\n",
    "\n",
    "mn_mi = clustered_pMN_to_MN_df_no_frags.columns.to_frame()\n",
    "lbls = utils.mn_labels(mn_mi,depth='rank')\n",
    "\n",
    "reorder_mn_mat = np.log10(clustered_pMN_to_MN_df_no_frags.to_numpy()+1)\n",
    "# reorder_mn_mat = np.log10(vncns.to_numpy()+1)\n",
    "\n",
    "# TODO: split up the matrix on segments and types\n",
    "\n",
    "fig = plt.figure(1, figsize = [15,25])\n",
    "ax = sns.heatmap(reorder_mn_mat, xticklabels=lbls,cmap=cmap)\n",
    "cbar = ax.collections[0].colorbar\n",
    "# here set the labelsize by 20\n",
    "# cbar.ax.tick_params(labelsize=20)\n",
    "cbar.set_label(label = 'log 10 # of synapses', size=24)\n",
    "plt.xlabel('Motor Neuron SegIDS', fontsize =18)\n",
    "plt.ylabel('Local pMNs', fontsize =18)\n",
    "plt.yticks(fontsize = 16)\n",
    "plt.xticks(fontsize = 16)\n",
    "plt.show()"
   ]
  },
  {
   "cell_type": "markdown",
   "metadata": {
    "tags": []
   },
   "source": [
    "## Local"
   ]
  },
  {
   "cell_type": "code",
   "execution_count": null,
   "metadata": {},
   "outputs": [],
   "source": [
    "# Cluster according to everything but fragments\n",
    "local_clustered = clustered_pMN_to_MN_df.loc[(All,False,True,False,False,True,All),:]\n",
    "local_clustered = local_clustered.loc[local_clustered.sum(axis=1).sort_values(ascending=False).index,:]\n",
    "# motor = motor.loc[motor.sum(axis=1).sort_values(ascending=False).index,:]\n",
    "\n",
    "mn_mi = local_clustered.columns.to_frame()\n",
    "lbls = utils.mn_labels(mn_mi,depth='rank')\n",
    "sim_mat = cosine_similarity(local_clustered.to_numpy()) # pmn comparison, not transpose for mns\n",
    "\n",
    "fig = plt.figure(1, figsize = [20,18])\n",
    "ax = sns.heatmap(sim_mat)\n",
    "ax.xaxis.set_ticks_position('top')\n",
    "cbar = ax.collections[0].colorbar\n",
    "ax.set_xticklabels(ax.get_xticklabels(),rotation = 90)\n",
    "\n",
    "# here set the labelsize by 20\n",
    "cbar.ax.tick_params(labelsize=20)\n",
    "cbar.set_label(label = 'cosine similarity', size=24)\n",
    "plt.xlabel('Local Neurons', fontsize =18)\n",
    "plt.ylabel('Local Neurons', fontsize =18)\n",
    "plt.yticks(fontsize = 16)\n",
    "plt.xticks(fontsize = 16)\n",
    "plt.show()"
   ]
  },
  {
   "cell_type": "code",
   "execution_count": null,
   "metadata": {},
   "outputs": [],
   "source": [
    "# And plot the connectivity so that you can compare clusters\n",
    "cmap = utils.white_dense()\n",
    "\n",
    "mn_mi = local_clustered.columns.to_frame()\n",
    "lbls = utils.mn_labels(mn_mi,depth='rank')\n",
    "\n",
    "reorder_mn_mat = np.log10(local_clustered.to_numpy()+1)\n",
    "# reorder_mn_mat = np.log10(vncns.to_numpy()+1)\n",
    "\n",
    "# TODO: split up the matrix on segments and types\n",
    "\n",
    "fig = plt.figure(1, figsize = [15,25])\n",
    "ax = sns.heatmap(reorder_mn_mat, xticklabels=lbls,cmap=cmap)\n",
    "cbar = ax.collections[0].colorbar\n",
    "# here set the labelsize by 20\n",
    "# cbar.ax.tick_params(labelsize=20)\n",
    "cbar.set_label(label = 'log 10 # of synapses', size=24)\n",
    "plt.xlabel('Motor Neuron SegIDS', fontsize =18)\n",
    "plt.ylabel('Local pMNs', fontsize =18)\n",
    "plt.yticks(fontsize = 16)\n",
    "plt.xticks(fontsize = 16)\n",
    "plt.show()"
   ]
  },
  {
   "cell_type": "markdown",
   "metadata": {
    "tags": []
   },
   "source": [
    "## Intersegmental"
   ]
  },
  {
   "cell_type": "code",
   "execution_count": null,
   "metadata": {},
   "outputs": [],
   "source": [
    "# Cluster according to everything but fragments\n",
    "mn_mi = intrseg_clustered.columns.to_frame()\n",
    "lbls = utils.mn_labels(mn_mi,depth='rank')\n",
    "sim_mat = cosine_similarity(intrseg_clustered.to_numpy()) # pmn comparison, not transpose for mns\n",
    "\n",
    "fig = plt.figure(1, figsize = [20,18])\n",
    "ax = sns.heatmap(sim_mat)\n",
    "ax.xaxis.set_ticks_position('top')\n",
    "cbar = ax.collections[0].colorbar\n",
    "ax.set_xticklabels(ax.get_xticklabels(),rotation = 90)\n",
    "\n",
    "# here set the labelsize by 20\n",
    "cbar.ax.tick_params(labelsize=20)\n",
    "cbar.set_label(label = 'cosine similarity', size=24)\n",
    "plt.xlabel('Intr Seg Neurons', fontsize =18)\n",
    "plt.ylabel('Intr Seg Neurons', fontsize =18)\n",
    "plt.yticks(fontsize = 16)\n",
    "plt.xticks(fontsize = 16)\n",
    "plt.show()"
   ]
  },
  {
   "cell_type": "code",
   "execution_count": null,
   "metadata": {},
   "outputs": [],
   "source": [
    "# And plot the connectivity so that you can compare clusters\n",
    "cmap = utils.white_dense()\n",
    "\n",
    "mn_mi = intrseg_clustered.columns.to_frame()\n",
    "lbls = utils.mn_labels(mn_mi,depth='rank')\n",
    "\n",
    "reorder_mn_mat = np.log10(intrseg_clustered.to_numpy()+1)\n",
    "\n",
    "# TODO: split up the matrix on segments and types\n",
    "\n",
    "fig = plt.figure(1, figsize = [15,25])\n",
    "ax = sns.heatmap(reorder_mn_mat,cmap=cmap)# xticklabels=lbls,)\n",
    "cbar = ax.collections[0].colorbar\n",
    "# here set the labelsize by 20\n",
    "# cbar.ax.tick_params(labelsize=20)\n",
    "cbar.set_label(label = 'log 10 # of synapses', size=24)\n",
    "plt.xlabel('Motor Neuron SegIDS', fontsize =18)\n",
    "plt.ylabel('Intersegmental pMNs', fontsize =18)\n",
    "plt.yticks(fontsize = 16)\n",
    "plt.xticks(fontsize = 16)\n",
    "plt.show()"
   ]
  },
  {
   "cell_type": "markdown",
   "metadata": {
    "tags": []
   },
   "source": [
    "## Descending"
   ]
  },
  {
   "cell_type": "code",
   "execution_count": null,
   "metadata": {},
   "outputs": [],
   "source": [
    "# Cluster according to everything but fragments\n",
    "mn_mi = descending_clustered.columns.to_frame()\n",
    "lbls = utils.mn_labels(mn_mi,depth='rank')\n",
    "sim_mat = cosine_similarity(descending_clustered.to_numpy()) # pmn comparison, not transpose for mns\n",
    "\n",
    "fig = plt.figure(1, figsize = [20,18])\n",
    "ax = sns.heatmap(sim_mat)\n",
    "ax.xaxis.set_ticks_position('top')\n",
    "cbar = ax.collections[0].colorbar\n",
    "ax.set_xticklabels(ax.get_xticklabels(),rotation = 90)\n",
    "\n",
    "# here set the labelsize by 20\n",
    "cbar.ax.tick_params(labelsize=20)\n",
    "cbar.set_label(label = 'cosine similarity', size=24)\n",
    "plt.xlabel('Descending Neurons', fontsize =18)\n",
    "plt.ylabel('Descending Neurons', fontsize =18)\n",
    "plt.yticks(fontsize = 16)\n",
    "plt.xticks(fontsize = 16)\n",
    "plt.show()"
   ]
  },
  {
   "cell_type": "code",
   "execution_count": null,
   "metadata": {},
   "outputs": [],
   "source": [
    "mn_mi = descending_clustered.columns.to_frame()\n",
    "lbls = utils.mn_labels(mn_mi,depth='rank')\n",
    "\n",
    "reorder_mn_mat = np.log10(descending_clustered.to_numpy()+1)\n",
    "\n",
    "# TODO: split up the matrix on segments and types\n",
    "\n",
    "fig = plt.figure(1, figsize = [15,25])\n",
    "ax = sns.heatmap(reorder_mn_mat, xticklabels=lbls,)\n",
    "cbar = ax.collections[0].colorbar\n",
    "# here set the labelsize by 20\n",
    "# cbar.ax.tick_params(labelsize=20)\n",
    "cbar.set_label(label = 'log 10 # of synapses', size=24)\n",
    "plt.xlabel('Motor Neuron SegIDS', fontsize =18)\n",
    "plt.ylabel('Descending pMNs', fontsize =18)\n",
    "plt.yticks(fontsize = 16)\n",
    "plt.xticks(fontsize = 16)\n",
    "plt.show()"
   ]
  }
 ],
 "metadata": {
  "kernelspec": {
   "display_name": "Python 3.7.12 ('fanc_analysis')",
   "language": "python",
   "name": "python3"
  },
  "language_info": {
   "codemirror_mode": {
    "name": "ipython",
    "version": 3
   },
   "file_extension": ".py",
   "mimetype": "text/x-python",
   "name": "python",
   "nbconvert_exporter": "python",
   "pygments_lexer": "ipython3",
   "version": "3.7.12"
  },
  "vscode": {
   "interpreter": {
    "hash": "b315cc870c8bed6572d217175f80b2213d2d88f8d1534b43b9efee2de96efaec"
   }
  }
 },
 "nbformat": 4,
 "nbformat_minor": 4
}
