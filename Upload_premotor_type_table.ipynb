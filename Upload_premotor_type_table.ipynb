{
 "cells": [
  {
   "cell_type": "code",
   "execution_count": null,
   "id": "029c23ff",
   "metadata": {},
   "outputs": [],
   "source": [
    "from caveclient import CAVEclient\n",
    "import pandas as pd\n",
    "import numpy as np \n",
    "import os\n",
    "import cloudvolume\n",
    "import utils"
   ]
  },
  {
   "cell_type": "code",
   "execution_count": null,
   "id": "3de4e31d",
   "metadata": {},
   "outputs": [],
   "source": [
    "client = CAVEclient()\n",
    "dataset = 'fanc_production_mar2021'\n",
    "client = CAVEclient(dataset)"
   ]
  },
  {
   "cell_type": "code",
   "execution_count": null,
   "id": "7c524069",
   "metadata": {},
   "outputs": [],
   "source": [
    "pmns = pd.read_csv('~/Code/connectomics/connectomics/annotations_pMNs/pmn_ann_table.csv')"
   ]
  },
  {
   "cell_type": "code",
   "execution_count": null,
   "id": "e2a0c556",
   "metadata": {},
   "outputs": [],
   "source": [
    "print(pmns.shape)\n",
    "pmns.head()"
   ]
  },
  {
   "cell_type": "code",
   "execution_count": null,
   "id": "618a01af",
   "metadata": {},
   "outputs": [],
   "source": [
    "pt_ints = []\n",
    "for i in pmns['pt_position'].tolist():\n",
    "    #print(i)\n",
    "    i = i.split('[')[1]\n",
    "    i = i.split(']')[0].split(',')\n",
    "    i = [j for j in i if j != '']\n",
    "    \n",
    "    pt_ints.append(list(map(int, i)))\n",
    "\n",
    "print(pt_ints[0])\n",
    "type(pt_ints[0])\n",
    "pmns['pt_position'] = pt_ints\n",
    "pmns.head()"
   ]
  },
  {
   "cell_type": "code",
   "execution_count": null,
   "id": "ccc46a55",
   "metadata": {},
   "outputs": [],
   "source": [
    "pt_arr = np.array(pt_ints)\n",
    "# pt_midx = pd.MultiIndex.from_arrays([pt_arr[:,0],pt_arr[:,1],pt_arr[:,2]],names=['x','y','z'])\n",
    "pmns.index = pd.MultiIndex.from_arrays([pt_arr[:,0],pt_arr[:,1],pt_arr[:,2]],names=['x','y','z'])"
   ]
  },
  {
   "cell_type": "code",
   "execution_count": null,
   "id": "a69e5c9a",
   "metadata": {},
   "outputs": [],
   "source": [
    "pmns['classification_system'] = pmns.classification_system.fillna('unidentified')\n",
    "pmns['cell_type'] = pmns.cell_type.fillna('unidentified')\n",
    "pmns_ann_table = pmns.drop(columns=['Unnamed: 0'])\n",
    "pmns_ann_table.head()\n"
   ]
  },
  {
   "cell_type": "markdown",
   "id": "21c1d7da",
   "metadata": {},
   "source": [
    "# For the purposes of checking, get segIDs for points and create a csv file"
   ]
  },
  {
   "cell_type": "code",
   "execution_count": null,
   "id": "fc6743d9",
   "metadata": {},
   "outputs": [],
   "source": [
    "# Find segIDs from points\n",
    "cv = cloudvolume.CloudVolume(client.info.get_datastack_info()['segmentation_source'], use_https=True)\n",
    "segIDs = utils.segIDs_from_pts_service(pmns_ann_table.pt_position.values,cv)\n"
   ]
  },
  {
   "cell_type": "code",
   "execution_count": null,
   "id": "feb2a55b",
   "metadata": {},
   "outputs": [],
   "source": [
    "df3.loc[df3.index.duplicated()]\n",
    "df4 = df3[~df3.index.duplicated(keep='last')]"
   ]
  },
  {
   "cell_type": "markdown",
   "id": "d1e044de",
   "metadata": {},
   "source": [
    "# Get rid of duplicates"
   ]
  },
  {
   "cell_type": "code",
   "execution_count": null,
   "id": "bf5c8c06",
   "metadata": {},
   "outputs": [],
   "source": [
    "pmns_ann_table['pt_root_id'] = segIDs\n",
    "utils.save_df_csv(pmns_ann_table,'premotor_annotation_table')\n",
    "\n",
    "df4 = pmns_ann_table[~pmns_ann_table.index.duplicated(keep='last')]\n",
    "utils.save_df_csv(df4,'premotor_annotation_table_nodups')"
   ]
  },
  {
   "cell_type": "code",
   "execution_count": null,
   "id": "d8354a64",
   "metadata": {},
   "outputs": [],
   "source": [
    "df4.classification_system.value_counts()"
   ]
  },
  {
   "cell_type": "code",
   "execution_count": null,
   "id": "889aa1d2",
   "metadata": {},
   "outputs": [],
   "source": [
    "df5 = df4[['pt_position','classification_system','cell_type']]\n",
    "df5.iloc[280:284,:]"
   ]
  },
  {
   "cell_type": "markdown",
   "id": "1014eaed",
   "metadata": {},
   "source": []
  },
  {
   "cell_type": "code",
   "execution_count": null,
   "id": "b8fcc119",
   "metadata": {},
   "outputs": [],
   "source": [
    "description = 'Primary neurite points T1 premotor neurons. The classification_system is a place holder that indicates neurites that run through common tracts. With comprehensive confidence in hemilineages, the classification_system can used to desigate developmental origin. Cell_type currently indicates hemilineage, with _ indicating uncertainty, but can be used in the future to rank neurons with in a class. v2 updates: annotation points can be in 4x4x45nm voxels, if dropped in a ng instance from the dash app, as in v1. This leads to incorrect segids. This is corrected in v2. Maintained by Tony Azevedo.'\n",
    "client.annotation.create_table(table_name='t1l_local_premotor_table_v2',\n",
    "                            schema_name='cell_type_local',\n",
    "                            voxel_resolution=[4.3,4.3,45],\n",
    "                            description = description)"
   ]
  },
  {
   "cell_type": "code",
   "execution_count": null,
   "id": "b2b1149e",
   "metadata": {},
   "outputs": [],
   "source": [
    "client.annotation.post_annotation_df(table_name='t1l_local_premotor_table_v2',\n",
    "                                     df=df5,\n",
    "                                     position_columns=[\"pt_position\"]) "
   ]
  },
  {
   "cell_type": "markdown",
   "id": "c11b36c6",
   "metadata": {},
   "source": [
    "### Run this the next day after you upload the table"
   ]
  },
  {
   "cell_type": "code",
   "execution_count": null,
   "id": "9e8e0ba8",
   "metadata": {},
   "outputs": [],
   "source": [
    "premotor_neuron_table = client.materialize.query_table('t1l_local_premotor_table_v0')"
   ]
  },
  {
   "cell_type": "code",
   "execution_count": null,
   "id": "4444e459",
   "metadata": {},
   "outputs": [],
   "source": [
    "motor_neuron_table.head()"
   ]
  },
  {
   "cell_type": "code",
   "execution_count": null,
   "id": "bec35c3e",
   "metadata": {},
   "outputs": [],
   "source": [
    "client.materialize.get_tables()"
   ]
  },
  {
   "cell_type": "markdown",
   "id": "1b6f9668",
   "metadata": {},
   "source": [
    "# Update"
   ]
  },
  {
   "cell_type": "code",
   "execution_count": null,
   "id": "e41f74e5",
   "metadata": {},
   "outputs": [],
   "source": [
    "# Check if all of the pt_positions are the same between the tables\n",
    "unmatched_pt_position = []\n",
    "t1_pt_position_tuplelist = t1_mns_df['pt_position'].to_list()\n",
    "t1_pt_position_tuplelist = [tuple(item) for item in t1_mns_df['pt_position'].to_list()]\n",
    "    \n",
    "idx = []\n",
    "for pt_position in mns_ann_table['pt_position'].to_list():\n",
    "    if tuple(pt_position) not in t1_pt_position_tuplelist:\n",
    "        unmatched_pt_position = unmatched_pt_position + [tuple(pt_position)]\n",
    "    else:\n",
    "        idx = idx +[t1_mns_df.loc[t1_pt_position_tuplelist.index(tuple(pt_position)),'id']]\n",
    "print(unmatched_pt_position)\n",
    "mns_ann_table['id'] = idx\n",
    "mns_ann_table = mns_ann_table[['id','pt_position','classification_system','cell_type']]\n",
    "mns_ann_table"
   ]
  }
 ],
 "metadata": {
  "kernelspec": {
   "display_name": "Python 3.7.12 ('fanc_analysis')",
   "language": "python",
   "name": "python3"
  },
  "language_info": {
   "codemirror_mode": {
    "name": "ipython",
    "version": 3
   },
   "file_extension": ".py",
   "mimetype": "text/x-python",
   "name": "python",
   "nbconvert_exporter": "python",
   "pygments_lexer": "ipython3",
   "version": "3.7.12"
  },
  "vscode": {
   "interpreter": {
    "hash": "b315cc870c8bed6572d217175f80b2213d2d88f8d1534b43b9efee2de96efaec"
   }
  }
 },
 "nbformat": 4,
 "nbformat_minor": 5
}
