{
 "cells": [
  {
   "cell_type": "code",
   "execution_count": null,
   "id": "029c23ff",
   "metadata": {},
   "outputs": [],
   "source": [
    "from caveclient import CAVEclient\n",
    "import pandas as pd\n",
    "import numpy as np \n",
    "import os\n",
    "import cloudvolume\n",
    "import utils"
   ]
  },
  {
   "cell_type": "code",
   "execution_count": null,
   "id": "3de4e31d",
   "metadata": {},
   "outputs": [],
   "source": [
    "client = CAVEclient()\n",
    "dataset = 'fanc_production_mar2021'\n",
    "client = CAVEclient(dataset)"
   ]
  },
  {
   "cell_type": "code",
   "execution_count": null,
   "id": "7c524069",
   "metadata": {},
   "outputs": [],
   "source": [
    "pmns = pd.read_csv('~/Code/connectomics/connectomics/annotations_pMNs/ng_annotation_points.csv')"
   ]
  },
  {
   "cell_type": "code",
   "execution_count": null,
   "id": "e2a0c556",
   "metadata": {},
   "outputs": [],
   "source": [
    "print(pmns.shape)\n",
    "pmns.head()"
   ]
  },
  {
   "cell_type": "code",
   "execution_count": null,
   "id": "618a01af",
   "metadata": {},
   "outputs": [],
   "source": [
    "pt_ints = []\n",
    "for i in pmns['Coordinate 1'].tolist():\n",
    "    #print(i)\n",
    "    i = i.split('(')[1]\n",
    "    i = i.split(')')[0].split(',')\n",
    "    i = [j for j in i if j != '']\n",
    "    \n",
    "    pt_ints.append(list(map(int, i)))\n",
    "\n",
    "print(pt_ints[0])\n",
    "type(pt_ints[0])\n",
    "pmns['pt_position'] = pt_ints\n",
    "pmns.head()"
   ]
  },
  {
   "cell_type": "code",
   "execution_count": null,
   "id": "4116b8c9",
   "metadata": {},
   "outputs": [],
   "source": [
    "pmns['receipient_0'] = np.nan\n",
    "pmns['receipient_1'] = np.nan\n",
    "pmns['receipient_2'] = np.nan\n",
    "pmns['classification_system'] = np.nan\n",
    "pmns['cell_type'] = pmns.Description.fillna('unidentified')\n",
    "pmns['NB_name'] = np.nan\n",
    "pmns['NT']= np.nan\n",
    "\n",
    "pmns_ann_table = pmns[['pt_position','receipient_0','receipient_1','receipient_2','classification_system','cell_type','NB_name','NT']].copy()\n",
    "pmns_ann_table.head()\n"
   ]
  },
  {
   "cell_type": "markdown",
   "id": "21c1d7da",
   "metadata": {},
   "source": [
    "# For the purposes of checking, get segIDs for points and create a csv file"
   ]
  },
  {
   "cell_type": "code",
   "execution_count": null,
   "id": "fc6743d9",
   "metadata": {},
   "outputs": [],
   "source": [
    "# Find segIDs from points\n",
    "cv = cloudvolume.CloudVolume(client.info.get_datastack_info()['segmentation_source'], use_https=True)\n",
    "segIDs = utils.segIDs_from_pts_service(pmns_ann_table.pt_position,cv)"
   ]
  },
  {
   "cell_type": "code",
   "execution_count": null,
   "id": "7e85c528",
   "metadata": {},
   "outputs": [],
   "source": [
    "pmns_ann_table['pt_root_id'] = segIDs\n"
   ]
  },
  {
   "cell_type": "code",
   "execution_count": null,
   "id": "5bf1bbf1",
   "metadata": {},
   "outputs": [],
   "source": [
    "\n",
    "pmns_ann_table = pmns_ann_table[['pt_root_id','pt_position','receipient_0','receipient_1','receipient_2','classification_system','cell_type','NB_name','NT']]\n",
    "utils.save_df_csv(pmns_ann_table,'ng_annotation_points_for_import')"
   ]
  },
  {
   "cell_type": "code",
   "execution_count": null,
   "id": "5fe6ff4e",
   "metadata": {},
   "outputs": [],
   "source": [
    "pmns_ann_table"
   ]
  }
 ],
 "metadata": {
  "kernelspec": {
   "display_name": "Python 3.7.12 ('fanc_analysis')",
   "language": "python",
   "name": "python3"
  },
  "language_info": {
   "codemirror_mode": {
    "name": "ipython",
    "version": 3
   },
   "file_extension": ".py",
   "mimetype": "text/x-python",
   "name": "python",
   "nbconvert_exporter": "python",
   "pygments_lexer": "ipython3",
   "version": "3.7.12"
  },
  "vscode": {
   "interpreter": {
    "hash": "b315cc870c8bed6572d217175f80b2213d2d88f8d1534b43b9efee2de96efaec"
   }
  }
 },
 "nbformat": 4,
 "nbformat_minor": 5
}
