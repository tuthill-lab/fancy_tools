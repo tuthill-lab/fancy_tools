{
 "cells": [
  {
   "cell_type": "code",
   "execution_count": null,
   "metadata": {},
   "outputs": [],
   "source": [
    "import os\n",
    "import utils\n",
    "import connectome_create\n",
    "# viz_method = one of ['itkwidgets', 'vtk']\n",
    "viz_method = 'vtk'\n",
    "\n",
    "# import some of our favorite packages\n",
    "import pandas as pd\n",
    "import numpy as np\n",
    "import os\n",
    "import matplotlib.pyplot as plt\n",
    "import seaborn as sns\n",
    "import re\n",
    "import warnings\n",
    "\n",
    "%matplotlib inline\n",
    "from sklearn.metrics.pairwise import cosine_similarity\n",
    "from sklearn.cluster import AgglomerativeClustering\n",
    "# import nglui.statebuilder as ngstbld\n",
    "\n",
    "# # this is the EM specific package for querying the EM data\n",
    "from caveclient import CAVEclient\n",
    "\n",
    "\n",
    "# from meshparty import trimesh_io, trimesh_vtk\n",
    "# from meshparty import skeletonize, skeleton_io, skeleton\n",
    "# import cloudvolume\n",
    "\n",
    "%load_ext autoreload\n",
    "%autoreload 2"
   ]
  },
  {
   "cell_type": "code",
   "execution_count": null,
   "metadata": {},
   "outputs": [],
   "source": [
    "# from pathlib import Path\n",
    "# import json\n",
    "\n",
    "# with open(Path.home() / '.cloudvolume/secrets/'/'cave-secret.json') as f:\n",
    "#         tokens = json.load(f)\n",
    "        \n",
    "# seg_source = 'graphene://https://cave.fanc-fly.com/segmentation/table/mar2021_prod'\n",
    "# cv = cloudvolume.CloudVolume(cloudpath=seg_source, use_https=True, secrets=tokens)"
   ]
  },
  {
   "cell_type": "code",
   "execution_count": null,
   "metadata": {
    "tags": []
   },
   "outputs": [],
   "source": [
    "datastack_name = 'fanc_production_mar2021'\n",
    "\n",
    "client = CAVEclient(datastack_name)"
   ]
  },
  {
   "cell_type": "code",
   "execution_count": null,
   "metadata": {
    "tags": []
   },
   "outputs": [],
   "source": [
    "# client = CAVEclient()\n",
    "\n",
    "# # if not os.path.isfile(os.path.expanduser(\"~/.cloudvolume/secrets/cave-secret.json\")):\n",
    "# client.auth.get_new_token(open=True)"
   ]
  },
  {
   "cell_type": "code",
   "execution_count": null,
   "metadata": {},
   "outputs": [],
   "source": [
    "# if you have not yet setup this computer, uncomment this below line\n",
    "# paste the token from the website in, and run the line\n",
    "\n",
    "# client.auth.save_token(token=\"c14cd7a3e18a1a697716a399afbf5778\", overwrite=True)\n",
    "\n",
    "# then comment or delete the line as you don't need to run it on this computer  again"
   ]
  },
  {
   "cell_type": "markdown",
   "metadata": {
    "tags": []
   },
   "source": [
    "# Load premotor neuron tables"
   ]
  },
  {
   "cell_type": "code",
   "execution_count": null,
   "metadata": {
    "tags": []
   },
   "outputs": [],
   "source": [
    "try:\n",
    "    pre_to_mn_df = connectome_create.load_pre_to_mn_df(ext='matched_typed_with_nt')\n",
    "except FileNotFoundError:\n",
    "    print('Looking for an older table')\n",
    "    pre_to_mn_df = connectome_create.load_old_pre_to_mn_df(ext='matched_typed_with_nt')\n",
    "print(pre_to_mn_df.shape)\n",
    "\n",
    "pre_to_pre_df = connectome_create.load_pre_to_df(ext='_no_index')\n",
    "pre_to_pre_df.shape"
   ]
  },
  {
   "cell_type": "code",
   "execution_count": null,
   "metadata": {},
   "outputs": [],
   "source": [
    "pre_to_mn_df"
   ]
  },
  {
   "cell_type": "markdown",
   "metadata": {},
   "source": [
    "# Add the premn index to the premotor df columns!\n",
    "I would like to make this df wider than it is long, which matches the input to output type layout of pre_to_mn_df, but I think that's less efficient. So keeping it longer than it is wide until i whittle it down."
   ]
  },
  {
   "cell_type": "code",
   "execution_count": null,
   "metadata": {},
   "outputs": [],
   "source": [
    "idx_df = pre_to_mn_df.index.to_frame()\n",
    "\n",
    "# Reorder pre_to_pre by the segid\n",
    "pre_to_pre_df = pre_to_pre_df.loc[:,idx_df.segID]\n",
    "print(pre_to_pre_df.columns.values[0:15])\n",
    "print(idx_df.segID.values[0:15])"
   ]
  },
  {
   "cell_type": "code",
   "execution_count": null,
   "metadata": {},
   "outputs": [],
   "source": [
    "pre_to_pre_df.columns = pre_to_mn_df.index\n",
    "pre_to_pre_df.head()"
   ]
  },
  {
   "cell_type": "markdown",
   "metadata": {},
   "source": [
    "# Create index multiindex (post- premotor neurons)"
   ]
  },
  {
   "cell_type": "code",
   "execution_count": null,
   "metadata": {},
   "outputs": [],
   "source": [
    "timestamp = connectome_create.get_timestamp()\n",
    "\n",
    "soma_table = client.materialize.query_table('soma_jan2022',timestamp=timestamp)\n",
    "all_mns = client.materialize.query_table('all_leg_motor_neuron_table_v0',timestamp=timestamp)\n",
    "neckns_df = client.materialize.query_table('neck_connective_tag_table_v1',timestamp=timestamp)\n",
    "all_sensory = connectome_create.get_unduplicated_sensory_axon_table(client)\n",
    "\n",
    "# Get lists of segIDs to search\n",
    "motorsids = sorted(pre_to_mn_df.columns.get_level_values('segID').to_list())\n",
    "premotorsids = sorted(pre_to_mn_df.index.get_level_values('segID').to_list())\n",
    "localsids = sorted(pre_to_mn_df.loc['local'].index.get_level_values('segID').to_list())\n",
    "intrsids = sorted(pre_to_mn_df.loc['intersegmental'].index.get_level_values('segID').to_list())\n",
    "somasids = sorted(soma_table.pt_root_id.to_list())\n",
    "sensorysids = sorted(all_sensory.pt_root_id.to_list())\n",
    "necksids = sorted(neckns_df.pt_root_id.to_list())\n",
    "\n",
    "nont1_mns = all_mns[~all_mns.pt_root_id.isin(pre_to_mn_df.columns.get_level_values('segID'))]\n",
    "nont1mnsids = sorted(nont1_mns.pt_root_id.to_list())\n",
    "print('{} T1 mns, {} non T1_mns, {} total'.format(len(motorsids),len(nont1mnsids),all_mns.shape[0]))"
   ]
  },
  {
   "cell_type": "code",
   "execution_count": null,
   "metadata": {},
   "outputs": [],
   "source": [
    "# Now create an index for the parallel neurons\n",
    "data = np.full((pre_to_pre_df.shape[0], 8), False)\n",
    "row_idx = pd.DataFrame(data=data,index=pre_to_pre_df.index.to_list(),columns=['motor','has_soma','sensory','neck','local','intersegmental','premotor','non_t1_motor'])\n",
    "print(row_idx.shape)\n",
    "row_idx.head()"
   ]
  },
  {
   "cell_type": "code",
   "execution_count": null,
   "metadata": {},
   "outputs": [],
   "source": [
    "row_idx.motor = row_idx.index.isin(motorsids)\n",
    "row_idx.has_soma = row_idx.index.isin(somasids)\n",
    "row_idx.sensory = row_idx.index.isin(sensorysids)\n",
    "row_idx.neck = row_idx.index.isin(necksids)\n",
    "row_idx.local = row_idx.index.isin(localsids)\n",
    "row_idx.intersegmental = row_idx.index.isin(intrsids)\n",
    "row_idx.premotor = row_idx.index.isin(premotorsids)\n",
    "row_idx.non_t1_motor = row_idx.index.isin(nont1mnsids)\n",
    "\n",
    "row_idx.head()\n",
    "\n",
    "# Takes no time now!"
   ]
  },
  {
   "cell_type": "code",
   "execution_count": null,
   "metadata": {},
   "outputs": [],
   "source": [
    "print('{} of {} total non T1L MNs are downstream of T1L premotor neurons.'.format(row_idx.non_t1_motor.sum(),len(nont1mnsids)))"
   ]
  },
  {
   "cell_type": "code",
   "execution_count": null,
   "metadata": {},
   "outputs": [],
   "source": [
    "row_idx['post_pt_root_id'] = row_idx.index\n",
    "row_idx = row_idx[['post_pt_root_id','motor','has_soma','sensory','neck','local','intersegmental','premotor','non_t1_motor']]\n",
    "row_idx"
   ]
  },
  {
   "cell_type": "code",
   "execution_count": null,
   "metadata": {},
   "outputs": [],
   "source": [
    "# Put the new index on the pre_to_pre_df\n",
    "# pre_to_pre_df.index = pd.MultiIndex.from_frame(row_idx)\n",
    "# print(pre_to_pre_df.shape)\n",
    "# pre_to_pre_df.head()"
   ]
  },
  {
   "cell_type": "markdown",
   "metadata": {},
   "source": [
    "# Replace the logical indices with cell_class, premotor\n",
    "Work with the row_index instead of the giant matrix"
   ]
  },
  {
   "cell_type": "code",
   "execution_count": null,
   "metadata": {},
   "outputs": [],
   "source": [
    "All = slice(None)\n",
    "\n",
    "# post-pMN knives\n",
    "# FrozenList(['pt_root_id', 'motor', 'has_soma', 'sensory', 'neck', 'premotor', 'local', 'intrseg'])\n",
    "# pt_root_id,motor_t1,motor_nont1,has_soma,sensory,neck,premotor,local\n",
    "# All,motor_t1,motor_nont1,has_soma,sensory,neck,premotor,local,intrseg\n",
    "print(row_idx.columns)\n",
    "# 'post_pt_root_id', 'motor', 'has_soma', 'sensory', 'neck', 'local',  'intersegmental', 'premotor', 'non_t1_motor'],"
   ]
  },
  {
   "cell_type": "code",
   "execution_count": null,
   "metadata": {},
   "outputs": [],
   "source": [
    "row_idx.index = pd.MultiIndex.from_frame(row_idx)\n",
    "row_idx.loc[:,'cell_class'] = np.nan\n",
    "row_idx = row_idx.drop(['motor', 'has_soma', 'sensory', 'neck', 'local', 'intersegmental', 'premotor', 'non_t1_motor'],axis=1)\n",
    "row_idx"
   ]
  },
  {
   "cell_type": "code",
   "execution_count": null,
   "metadata": {},
   "outputs": [],
   "source": [
    "cumtargetsum = 0\n",
    "total_pmn_targets = row_idx.shape[0]\n",
    "\n",
    "# T1L MNs \n",
    "#           [pid, motor,  soma,   sens,   neck,   locl,   intr,   prem,   nont1\n",
    "m_r_tup =   (All, True,   True,   All,  False,  False,  False,  False,  False)\n",
    "row_idx.loc[m_r_tup,'cell_class'] = 'motor'\n",
    "print('{} T1 motor neurons'.format(row_idx.loc[m_r_tup,:].shape[0]))\n",
    "cumtargetsum = cumtargetsum + row_idx.loc[m_r_tup,:].shape[0]\n",
    "\n",
    "\n",
    "# other MNs in other segments row tuple\n",
    "#                   [pid, motor,  soma,   sens,   neck,   locl,   intr,   prem,   nont1\n",
    "mn_non_t1_r_tup =   (All, False,  True,   All,    False,  False,  False,  False,  True)\n",
    "row_idx.loc[mn_non_t1_r_tup,'cell_class'] = 'non_t1_motor'\n",
    "print('{} recipient motor neurons'.format(row_idx.loc[mn_non_t1_r_tup,:].shape[0]))\n",
    "cumtargetsum = cumtargetsum + row_idx.loc[mn_non_t1_r_tup,:].shape[0]\n",
    "\n",
    "#                   [pid, motor,  soma,   sens,   neck,   locl,   intr,   prem,   nont1\n",
    "pmn_sens_r_tup =     (All, False,  True,   True,   False,  False,  False,  True,  False)\n",
    "print('{} recipient and motor neurons with nerve annotations that are not in motor neuron table'.format(row_idx.loc[pmn_sens_r_tup,:].shape[0]))\n",
    "row_idx.loc[pmn_sens_r_tup,'cell_class'] = 'non_t1_motor'\n",
    "cumtargetsum = cumtargetsum + row_idx.loc[pmn_sens_r_tup,:].shape[0]\n",
    "\n",
    "\n",
    "# strange neuromodulatory ascending neuron\n",
    "#                   [pid, motor,  soma,   sens,   neck,   locl,   intr,   prem,   nont1\n",
    "n_r_tup =           (All, False,  True,   True,   True,  False,  False,  False,  False)\n",
    "row_idx.loc[n_r_tup,'cell_class'] = 'neurmodulatory_ascending_neuron'\n",
    "print('{} modulatory neurons'.format(row_idx.loc[n_r_tup,:].shape[0]))\n",
    "cumtargetsum = cumtargetsum + row_idx.loc[n_r_tup,:].shape[0]\n",
    "\n",
    "\n",
    "# descending, pre and _post, row tuple\n",
    "#                   [pid, motor,  soma,     sens,   neck,   locl,   intr,   prem,   nont1\n",
    "d_r_tup =           (All, False,  False,    False,  True,   False,  False,  True,  False)\n",
    "row_idx.loc[d_r_tup,'cell_class'] = 'descending'\n",
    "print('{} recipient descending neurons that are also premotor'.format(row_idx.loc[d_r_tup,:].shape[0]))\n",
    "cumtargetsum = cumtargetsum + row_idx.loc[d_r_tup,:].shape[0]\n",
    "\n",
    "#                   [pid, motor,  soma,     sens,   neck,   locl,   intr,   prem,   nont1\n",
    "d_r_tup =           (All, False,  False,    False,  True,   False,  False,  False,  False)\n",
    "row_idx.loc[d_r_tup,'cell_class'] = 'descending_post'\n",
    "print('{} recipient descending neurons that are not premotor'.format(row_idx.loc[d_r_tup,:].shape[0]))\n",
    "cumtargetsum = cumtargetsum + row_idx.loc[d_r_tup,:].shape[0]\n",
    "\n",
    "\n",
    "# ascending, pre and _post, row tuple\n",
    "#                   [pid, motor,  soma,     sens,   neck,   locl,   intr,   prem,   nont1\n",
    "a_r_tup =           (All, False,  True,     False,  True,   False,  False,  True,    False)\n",
    "row_idx.loc[a_r_tup,'cell_class'] = 'ascending'\n",
    "cumtargetsum = cumtargetsum + row_idx.loc[a_r_tup,:].shape[0]\n",
    "print('{} ascending neurons'.format(row_idx.loc[a_r_tup,:].shape[0]))\n",
    "\n",
    "a_r_tup =           (All, False,  True,     False,  True,   False,  False,  False,    False)\n",
    "row_idx.loc[a_r_tup,'cell_class'] = 'ascending_post'\n",
    "cumtargetsum = cumtargetsum + row_idx.loc[a_r_tup,:].shape[0]\n",
    "print('{} ascending_post neurons'.format(row_idx.loc[a_r_tup,:].shape[0]))\n",
    "\n",
    "\n",
    "# sensory, pre and _post, row tuple\n",
    "#                   [pid, motor,  soma,     sens,   neck,   locl,   intr,   prem,   nont1\n",
    "s_r_tup =           (All, False,  False,    True,   False,  False,  False,  True,    False)\n",
    "row_idx.loc[s_r_tup,'cell_class'] = 'sensory'\n",
    "print('{} sensory neurons'.format(row_idx.loc[s_r_tup,:].shape[0]))\n",
    "cumtargetsum = cumtargetsum + row_idx.loc[s_r_tup,:].shape[0]\n",
    "\n",
    "#                   [pid, motor,  soma,     sens,   neck,   locl,   intr,   prem,   nont1\n",
    "s_r_tup =           (All, False,  False,    True,   False,  False,  False,  False,    False)\n",
    "row_idx.loc[s_r_tup,'cell_class'] = 'sensory_post'\n",
    "print('{} sensory_post neurons'.format(row_idx.loc[s_r_tup,:].shape[0]))\n",
    "cumtargetsum = cumtargetsum + row_idx.loc[s_r_tup,:].shape[0]\n",
    "\n",
    "# local vnc premotor row tuple \n",
    "#                   [pid, motor,  soma,     sens,   neck,   locl,   intr,   prem,   nont1\n",
    "# lp_r_tup =           (All, False,  True,    False,  False,  True,   False,  True,   False)\n",
    "# print('{} local recipient neurons'.format(pre_to_pre_df.loc[lp_r_tup,:].shape[0]))\n",
    "#                   [pid, motor,  soma,     sens,   neck,   locl,   intr,   prem,   nont1\n",
    "lp_r_tup =           (All, False,  True,    False,  False,  True,   False,  True,   False)\n",
    "lp_r_tup =           (All, False,  All,     False,  False,  True,   False,  True,   False)  # There a few local neurons with no soma\n",
    "row_idx.loc[lp_r_tup,'cell_class'] = 'local'\n",
    "print('{} local recipient neurons'.format(row_idx.loc[lp_r_tup,:].shape[0]))\n",
    "cumtargetsum = cumtargetsum + row_idx.loc[lp_r_tup,:].shape[0]\n",
    "\n",
    "# intrsg vnc premotor row tuple \n",
    "#                   [pid, motor,  soma,     sens,   neck,   locl,   intr,   prem,   nont1\n",
    "ip_r_tup =          (All, False,  True,    False,  False,  False,   True,  True,   False)\n",
    "row_idx.loc[ip_r_tup,'cell_class'] = 'intersegmental'\n",
    "print('{} intersegmental recipient neurons'.format(row_idx.loc[ip_r_tup,:].shape[0]))\n",
    "cumtargetsum = cumtargetsum + row_idx.loc[ip_r_tup,:].shape[0]\n",
    "\n",
    "# vnc, but not premotor, row tuple (might be local or intersegmental)\n",
    "#                   [pid, motor,  soma,     sens,   neck,   locl,   intr,   prem,   nont1\n",
    "vnp_r_tup =          (All, False,  True,    False,  False,  False,  False,  False,   False)\n",
    "row_idx.loc[vnp_r_tup,'cell_class'] = 'vnc_non_premotor'\n",
    "print('{} vnc recipient neurons'.format(row_idx.loc[vnp_r_tup,:].shape[0]))\n",
    "cumtargetsum = cumtargetsum + row_idx.loc[vnp_r_tup,:].shape[0]\n",
    "\n",
    "# fragments\n",
    "#                   [pid, motor,  soma,     sens,   neck,   locl,   intr,   prem,   nont1\n",
    "f_r_tup =           (All, False,  False,    False,  False,  False,   False,  False,   False)\n",
    "row_idx.loc[f_r_tup,'cell_class'] = 'fragment'\n",
    "print('{} recipient fragments'.format(row_idx.loc[f_r_tup,:].shape[0]))\n",
    "cumtargetsum = cumtargetsum + row_idx.loc[f_r_tup,:].shape[0]\n",
    "\n",
    "# The rest have somas, but also have things in the nerve, i.e. false merges\n",
    "fm_r_tup =           (All, False,  True,    True,  False,  False,   False,  False,   False)\n",
    "print('{} false merges'.format(row_idx.loc[fm_r_tup,:].shape[0]))\n",
    "row_idx.loc[fm_r_tup,'cell_class'] = 'falsemerge'\n",
    "cumtargetsum = cumtargetsum + row_idx.loc[fm_r_tup,:].shape[0]\n",
    "\n",
    "print('{} of {} targets unaccounted for'.format(total_pmn_targets-cumtargetsum,total_pmn_targets))\n",
    "\n",
    "row_idx.loc[row_idx.cell_class.isna()]"
   ]
  },
  {
   "cell_type": "code",
   "execution_count": null,
   "metadata": {},
   "outputs": [],
   "source": [
    "row_idx"
   ]
  },
  {
   "cell_type": "code",
   "execution_count": null,
   "metadata": {},
   "outputs": [],
   "source": [
    "# Nothing has been done to reorder columns, but I want them with mns first, then the same order of the premotor neurons\n",
    "# First, reorder the columns of row_idx\n",
    "row_idx = row_idx[['cell_class','post_pt_root_id']]\n",
    "row_idx"
   ]
  },
  {
   "cell_type": "code",
   "execution_count": null,
   "metadata": {},
   "outputs": [],
   "source": [
    "pre_to_pre_df.index = pd.MultiIndex.from_frame(row_idx)\n",
    "pre_to_pre_df.groupby(level=[0]).size()"
   ]
  },
  {
   "cell_type": "code",
   "execution_count": null,
   "metadata": {},
   "outputs": [],
   "source": [
    "# put the fragments at the bottom\n",
    "pre_to_pre_df =  pre_to_pre_df.reindex(axis='index',level=0,labels=['motor','descending','sensory','ascending','intersegmental','local','non_t1_motor','descending_post','sensory_post','ascending_post','neurmodulatory_ascending_neuron','vnc_non_premotor','falsemerge','fragment'])\n",
    "print(pre_to_pre_df.shape)\n"
   ]
  },
  {
   "cell_type": "code",
   "execution_count": null,
   "metadata": {},
   "outputs": [],
   "source": [
    "# Save the matrix\n",
    "connectome_create.save_pre_to_df(pre_to_pre_df,ext='with_class')\n",
    "# ~3GB"
   ]
  },
  {
   "cell_type": "code",
   "execution_count": null,
   "metadata": {},
   "outputs": [],
   "source": [
    "df_no_frags = pre_to_pre_df.loc[['motor','descending','sensory','ascending','intersegmental','local','non_t1_motor','descending_post','sensory_post','ascending_post','neurmodulatory_ascending_neuron','vnc_non_premotor']]\n",
    "\n",
    "# Save the matrix\n",
    "connectome_create.save_pre_to_df(df_no_frags,ext='with_class_no_frag')"
   ]
  },
  {
   "cell_type": "code",
   "execution_count": null,
   "metadata": {},
   "outputs": [],
   "source": []
  }
 ],
 "metadata": {
  "kernelspec": {
   "display_name": "Python 3.7.0 ('fanc_analysis')",
   "language": "python",
   "name": "python3"
  },
  "language_info": {
   "codemirror_mode": {
    "name": "ipython",
    "version": 3
   },
   "file_extension": ".py",
   "mimetype": "text/x-python",
   "name": "python",
   "nbconvert_exporter": "python",
   "pygments_lexer": "ipython3",
   "version": "3.7.0"
  },
  "vscode": {
   "interpreter": {
    "hash": "701379af8fa9566edb753273e8a4cc72928f1706e0a9299fef0231c034742a95"
   }
  }
 },
 "nbformat": 4,
 "nbformat_minor": 4
}
