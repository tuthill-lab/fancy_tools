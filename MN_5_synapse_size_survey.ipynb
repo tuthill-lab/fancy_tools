{
 "cells": [
  {
   "cell_type": "code",
   "execution_count": null,
   "id": "018855ab",
   "metadata": {},
   "outputs": [],
   "source": [
    "from caveclient import CAVEclient\n",
    "import pandas as pd\n",
    "import numpy as np \n",
    "import os\n",
    "import pcg_skel\n",
    "import datetime\n",
    "import matplotlib.pyplot as plt\n",
    "import seaborn as sns\n",
    "from meshparty.meshwork import algorithms\n",
    "from meshparty import meshwork\n",
    "from meshparty import trimesh_io, trimesh_vtk, skeletonize, mesh_filters\n",
    "from nglui.statebuilder import *\n",
    "import cloudvolume as cv\n",
    "import connectome_create\n",
    "import utils\n",
    "%matplotlib inline\n",
    "%load_ext autoreload\n",
    "%autoreload 2"
   ]
  },
  {
   "cell_type": "code",
   "execution_count": null,
   "id": "1f889db4",
   "metadata": {},
   "outputs": [],
   "source": [
    "now = datetime.datetime.now()\n",
    "client = CAVEclient()\n",
    "dataset = 'fanc_production_mar2021'\n",
    "client = CAVEclient(dataset)\n",
    "\n",
    "soma_table = client.materialize.query_table('soma_jan2022', timestamp=now)\n",
    "# mn_df = client.materialize.query_table('motor_neuron_table_v7', timestamp = now)\n"
   ]
  },
  {
   "cell_type": "code",
   "execution_count": null,
   "id": "0d7b395f",
   "metadata": {},
   "outputs": [],
   "source": [
    "pre_to_mn_df = connectome_create.load_pre_to_mn_df(ext='matched_typed_with_nt')\n",
    "pre_to_mn_df.shape"
   ]
  },
  {
   "cell_type": "code",
   "execution_count": null,
   "id": "e72e739a",
   "metadata": {},
   "outputs": [],
   "source": [
    "left_mn_df = pre_to_mn_df.columns.to_frame()\n",
    "left_index = left_mn_df.index\n",
    "left_mn_df = left_mn_df.rename(columns={'segID':'pt_root_id'})\n",
    "\n",
    "#Merging with the soma table in order to include soma position\n",
    "left_mn_df = left_mn_df.merge(soma_table[['pt_root_id','pt_position']], how='left', \n",
    "                    on='pt_root_id', suffixes = ['_mn','_soma'])\n",
    "left_mn_df.index = left_index\n",
    "left_mn_df.head()\n"
   ]
  },
  {
   "cell_type": "code",
   "execution_count": null,
   "id": "4ef20964",
   "metadata": {},
   "outputs": [],
   "source": [
    "mn_ids = left_mn_df.pt_root_id.tolist()\n",
    "muscle_tuple_dict = utils.get_motor_pool_tuple_dict()\n",
    "pool_keys = [\n",
    "    'thorax_swing',\n",
    "    'thorax_stance',\n",
    "    'trochanter_extension',\n",
    "    'trochanter_flexion',\n",
    "    'femur_reductor',\n",
    "    'tibia_extensor',\n",
    "    'main_tibia_flexor',\n",
    "    # 'auxiliary_tibia_flexor_A',\n",
    "    'auxiliary_tibia_flexor_B',\n",
    "    'auxiliary_tibia_flexor_E',\n",
    "    'ltm',\n",
    "    'tarsus_depressor_med_venU',\n",
    "    'tarsus_depressor_noid',\n",
    "    ]\n",
    "\n",
    "for key in pool_keys:\n",
    "    mn_tup = muscle_tuple_dict[key]\n",
    "    left_mn_df.loc[mn_tup,'preferred_pool'] = key\n",
    "\n",
    "left_mn_df.preferred_pool = left_mn_df.preferred_pool.astype(\"category\")\n",
    "left_mn_df.preferred_pool = left_mn_df.preferred_pool.cat.set_categories(pool_keys)\n",
    "\n",
    "left_mn_df.sort_values([\"preferred_pool\"],kind='mergesort')"
   ]
  },
  {
   "cell_type": "markdown",
   "id": "2b3330c6",
   "metadata": {},
   "source": [
    "We will be using the Level 2 Cache to measure area and volume "
   ]
  },
  {
   "cell_type": "code",
   "execution_count": null,
   "id": "036c06f7",
   "metadata": {},
   "outputs": [],
   "source": [
    "client.l2cache.attributes\n"
   ]
  },
  {
   "cell_type": "markdown",
   "id": "782bb699",
   "metadata": {},
   "source": [
    "A couple helper functions for extracting features and visualizing the skeletons"
   ]
  },
  {
   "cell_type": "code",
   "execution_count": null,
   "id": "dc1cbb4b",
   "metadata": {},
   "outputs": [],
   "source": [
    "def simple_neuron_plot(nrn, projection='xy', color='k', vertices='skeleton', synapses=False, highlight_root=False):\n",
    "    \"\"\"\n",
    "    Parameters:\n",
    "    nrn : meshwork object\n",
    "    projection : one of \"xy\", \"yz\", or \"zx\" determining which projection to show in the simple plot\n",
    "    color : matplotlib-accepted color value\n",
    "    vertices : one of \"skeleton\" or \"mesh\" to determine which values are shown. Skeleton is default.\n",
    "    synapses : True to show both pre and post, False to show neither, and \"pre\" or \"post\" to show only pre or post respectively.\n",
    "    highlight_root : boolean. True if you want to show the root vertices with a big red dot.\n",
    "    \"\"\"\n",
    "    if projection=='xy' or projection==\"yx\":\n",
    "        ind1 = 0\n",
    "        ind2 = 1\n",
    "        flip = True\n",
    "    elif projection == 'yz' or projection == \"zy\":\n",
    "        ind1 = 2\n",
    "        ind2 = 1\n",
    "        flip = True\n",
    "    elif projection == 'zx' or projection == \"xz\":\n",
    "        ind1 = 0\n",
    "        ind2 = 2\n",
    "        flip = False\n",
    "    else:\n",
    "        raise ValueError('Projection must be one of \"xy\", \"yz\", or \"zx\"')\n",
    "        \n",
    "    fig, ax = plt.subplots(figsize=(4,4), dpi=150)\n",
    "    if vertices == \"skeleton\":\n",
    "        v1 = nrn.skeleton.vertices[:,ind1]\n",
    "        v2 = nrn.skeleton.vertices[:,ind2]\n",
    "        rid = nrn.skeleton.root\n",
    "    elif vertices == \"mesh\":\n",
    "        v1 = nrn.mesh.vertices[:,ind1]\n",
    "        v2 = nrn.mesh.vertices[:,ind2]\n",
    "        rid = nrn.root_region\n",
    "    else:\n",
    "        raise ValueError('vertices must be one of \"skeleton\" or \"mesh\"')\n",
    "\n",
    "    ax.scatter(\n",
    "        v1,\n",
    "        v2,\n",
    "        s=1,\n",
    "        color=color,\n",
    "    )\n",
    "    \n",
    "        \n",
    "    if synapses:\n",
    "        try:\n",
    "            v1_pre = nrn.anno.pre_syn.points[:,ind1]\n",
    "            v2_pre = nrn.anno.pre_syn.points[:,ind2]\n",
    "            v1_post = nrn.anno.post_syn.points[:,ind1]\n",
    "            v2_post = nrn.anno.post_syn.points[:,ind2]\n",
    "        except:\n",
    "            v1_pre = []\n",
    "            v1_post = []\n",
    "            v2_pre = []\n",
    "            v2_post = []\n",
    "        if synapses == True or synapses == 'pre':\n",
    "            ax.scatter(\n",
    "                v1_pre,\n",
    "                v2_pre,\n",
    "                s=2,\n",
    "                color='tomato',\n",
    "                alpha=0.7,\n",
    "            )\n",
    "        if synapses == True or synapses == \"post\":\n",
    "            ax.scatter(\n",
    "                v1_post,\n",
    "                v2_post,\n",
    "                s=2,\n",
    "                color='turquoise',\n",
    "                alpha=0.2,\n",
    "            )\n",
    "            \n",
    "    if highlight_root:\n",
    "        ax.scatter(\n",
    "            v1[rid],\n",
    "            v2[rid],\n",
    "            s=25,\n",
    "            color='violet',\n",
    "        )\n",
    "\n",
    "    ax.set_aspect('equal')\n",
    "    if flip:\n",
    "        ax.invert_yaxis()\n",
    "    return fig, ax"
   ]
  },
  {
   "cell_type": "code",
   "execution_count": null,
   "id": "6dad66a3",
   "metadata": {},
   "outputs": [],
   "source": [
    "def get_lvl2_size_metrics(segid, dataset_name = 'fanc_production_mar2021'):\n",
    "    dataset = dataset_name\n",
    "    client = CAVEclient(dataset)\n",
    "    \n",
    "    lvl2ids = client.chunkedgraph.get_leaves(segid, stop_layer=2)\n",
    "    l2attrs = client.l2cache.get_l2data(lvl2ids,['size_nm3'])\n",
    "    \n",
    "    v = []\n",
    "    for i in l2attrs.values():\n",
    "        if len(i) >0:\n",
    "            j = i['size_nm3']\n",
    "            v.append(j)\n",
    "    volumes = np.array(v)\n",
    "\n",
    "    tot_vol_um3 = np.sum(volumes)/(1000*1000*1000)\n",
    "    \n",
    "    l2attrs_area = client.l2cache.get_l2data(lvl2ids,['area_nm2'])\n",
    "    \n",
    "    v = []\n",
    "    for i in l2attrs_area.values():\n",
    "        if len(i) >0:\n",
    "            j = i['area_nm2']\n",
    "            v.append(j)\n",
    "    areas = np.array(v)\n",
    "\n",
    "    tot_area_um2 = np.sum(areas)/(1000*1000)\n",
    "    \n",
    "    return tot_vol_um3, tot_area_um2\n",
    "\n",
    "\n",
    "def get_avg_linear_density(segid, soma_loc, vxl_res = [4.3,4.3,45]):\n",
    "    nrn = pcg_skel.coord_space_meshwork(\n",
    "    root_id=segid,\n",
    "    client=client,\n",
    "    root_point=soma_loc, #sets soma point as root\n",
    "    root_point_resolution=vxl_res,\n",
    "    collapse_soma=True,\n",
    "    collapse_radius=10000,\n",
    "    synapses=\"all\",\n",
    "    synapse_table=\"synapses_jan2022\", #stores all the pre and post synapses as annotations\n",
    "    )\n",
    "    \n",
    "    input_syn = nrn.anno.post_syn.df.shape[0]\n",
    "    \n",
    "    rho = nrn.linear_density(nrn.anno.post_syn.skel_index, 100, normalize=True, exclude_root=False)\n",
    "    \n",
    "    return np.mean(rho), input_syn\n"
   ]
  },
  {
   "cell_type": "markdown",
   "id": "7cd1fc01",
   "metadata": {},
   "source": [
    "Extracting volume and surface area - these steps take a few minutes to run on all the motor neurons "
   ]
  },
  {
   "cell_type": "code",
   "execution_count": null,
   "id": "d27cfb2e",
   "metadata": {},
   "outputs": [],
   "source": [
    "mn_vols = []\n",
    "mn_areas = []\n",
    "\n",
    "for i in mn_ids:\n",
    "    print(i)\n",
    "    v, a = get_lvl2_size_metrics(i)\n",
    "    mn_vols.append(v)\n",
    "    mn_areas.append(a)\n",
    "\n",
    "left_mn_df['total_volume_um3'] = mn_vols\n",
    "left_mn_df['total_area_um2'] = mn_areas"
   ]
  },
  {
   "cell_type": "markdown",
   "id": "6a53d16c",
   "metadata": {},
   "source": [
    "# Per cell"
   ]
  },
  {
   "cell_type": "markdown",
   "id": "1d2e150f",
   "metadata": {},
   "source": [
    "## Volume"
   ]
  },
  {
   "cell_type": "code",
   "execution_count": null,
   "id": "e9c5ca82",
   "metadata": {},
   "outputs": [],
   "source": [
    "\n",
    "def xticks_from_pools(mn_mi):\n",
    "    pool_keys = [\n",
    "        'thorax_swing',\n",
    "        'thorax_stance',\n",
    "        'trochanter_extension',\n",
    "        'trochanter_flexion',\n",
    "        'femur_reductor',\n",
    "        'tibia_extensor',\n",
    "        'main_tibia_flexor',\n",
    "        # 'auxiliary_tibia_flexor_A',\n",
    "        'auxiliary_tibia_flexor_B',\n",
    "        'auxiliary_tibia_flexor_E',\n",
    "        'ltm',\n",
    "        'tarsus_depressor'\n",
    "        ]\n",
    "    muscle_tuple_dict = utils.get_motor_pool_tuple_dict()\n",
    "    x =[]\n",
    "    cnt = 0\n",
    "    curkey = ''\n",
    "\n",
    "    for pk in pool_keys:\n",
    "        x = x + [cnt + i for i in range(mn_mi.loc[muscle_tuple_dict[pk]].shape[0])]\n",
    "        cnt = x[-1] + 2\n",
    "\n",
    "    return x"
   ]
  },
  {
   "cell_type": "code",
   "execution_count": null,
   "id": "7d0e8168",
   "metadata": {},
   "outputs": [],
   "source": [
    "len(xticks_from_pools(mn_mi))\n",
    "# len(utils.xticks_from_mnmi(left_mn_df.index.to_frame()))"
   ]
  },
  {
   "cell_type": "code",
   "execution_count": null,
   "id": "bc47146a",
   "metadata": {},
   "outputs": [],
   "source": [
    "left_mn_df\n",
    "\n",
    "x = utils.xticks_from_mnmi(left_mn_df.index.to_frame())\n",
    "x = utils.xticks_from_pools(left_mn_df.index.to_frame())\n",
    "lbls = utils.mn_labels(left_mn_df.index.to_frame(),depth='rank')\n",
    "\n",
    "y = left_mn_df.total_volume_um3\n",
    "\n",
    "fig = plt.figure(1, figsize=(20, 6))\n",
    "ax1 = plt.subplot2grid((1,1),(0,0))\n",
    "\n",
    "ax1.scatter(x, y,marker='o')\n",
    "plt.sca(ax1)\n",
    "plt.title('Volume')\n",
    "plt.xlabel('MN')\n",
    "plt.ylabel('Number of inputs')\n",
    "locs, labels = plt.xticks(ticks=x, labels=lbls, rotation=90)\n",
    "plt.savefig('./figpanels/volume_per_mn.svg',format='svg')"
   ]
  },
  {
   "cell_type": "code",
   "execution_count": null,
   "id": "5fc1642d",
   "metadata": {},
   "outputs": [],
   "source": [
    "x =[]\n",
    "cnt = 0\n",
    "curkey = ''\n",
    "\n",
    "for pk in pool_keys:\n",
    "    x = x + [cnt + i for i in range(mn_mi.loc[muscle_tuple_dict[pk]].shape[0])]\n",
    "    cnt = x[-1] + 2"
   ]
  },
  {
   "cell_type": "code",
   "execution_count": null,
   "id": "12acb777",
   "metadata": {},
   "outputs": [],
   "source": [
    "xticks_from_pools(mn_mi)"
   ]
  },
  {
   "cell_type": "markdown",
   "id": "8e6d0a00",
   "metadata": {},
   "source": [
    "## Surface Area"
   ]
  },
  {
   "cell_type": "code",
   "execution_count": null,
   "id": "dd242adf",
   "metadata": {},
   "outputs": [],
   "source": [
    "x = utils.xticks_from_mnmi(left_mn_df.index.to_frame())\n",
    "lbls = utils.mn_labels(left_mn_df.index.to_frame(),depth='rank')\n",
    "\n",
    "y = left_mn_df.total_area_um2\n",
    "\n",
    "fig = plt.figure(1, figsize=(20, 6))\n",
    "ax1 = plt.subplot2grid((1,1),(0,0))\n",
    "\n",
    "ax1.scatter(x, y)\n",
    "plt.sca(ax1)\n",
    "plt.title('Surface Area')\n",
    "plt.xlabel('MN')\n",
    "plt.ylabel('surface area')\n",
    "locs, labels = plt.xticks(ticks=x, labels=lbls, rotation=90)"
   ]
  },
  {
   "cell_type": "markdown",
   "id": "35d6b5f1",
   "metadata": {},
   "source": [
    "## Linear density"
   ]
  },
  {
   "cell_type": "code",
   "execution_count": null,
   "id": "29eecf38",
   "metadata": {},
   "outputs": [],
   "source": [
    "mn_lin_densities = []\n",
    "mn_syn = []\n",
    "\n",
    "for i in mn_ids:\n",
    "    print(i)\n",
    "    soma_loc = left_mn_df.query('pt_root_id == @i').pt_position.iloc[0]\n",
    "    a,s = get_avg_linear_density(i, soma_loc)\n",
    "    mn_lin_densities.append(a)\n",
    "    mn_syn.append(s)\n",
    "\n",
    "left_mn_df['avg_linear_density'] = mn_lin_densities\n",
    "left_mn_df['input_syn_count'] = mn_syn"
   ]
  },
  {
   "cell_type": "code",
   "execution_count": null,
   "id": "a693e0a9",
   "metadata": {},
   "outputs": [],
   "source": [
    "x = utils.xticks_from_mnmi(left_mn_df.index.to_frame())\n",
    "lbls = utils.mn_labels(left_mn_df.index.to_frame(),depth='rank')\n",
    "\n",
    "y = left_mn_df.avg_linear_density\n",
    "\n",
    "fig = plt.figure(1, figsize=(20, 6))\n",
    "ax1 = plt.subplot2grid((1,1),(0,0))\n",
    "\n",
    "ax1.scatter(x, y)\n",
    "plt.sca(ax1)\n",
    "plt.title('Average linear density')\n",
    "plt.xlabel('MN')\n",
    "plt.ylabel('linear density')\n",
    "locs, labels = plt.xticks(ticks=x, labels=lbls, rotation=90)"
   ]
  },
  {
   "cell_type": "code",
   "execution_count": null,
   "id": "73455efe",
   "metadata": {},
   "outputs": [],
   "source": [
    "test_id = left_mn_df.loc[muscle_tuple_dict['tibia_extensor']]\n",
    "test_id = test_id.iloc[1].pt_root_id\n",
    "test_id\n"
   ]
  },
  {
   "cell_type": "code",
   "execution_count": null,
   "id": "b9ca5439",
   "metadata": {},
   "outputs": [],
   "source": [
    "\n",
    "single_df = left_mn_df.query('pt_root_id == @test_id')\n",
    "soma_loc = single_df.pt_position[0]"
   ]
  },
  {
   "cell_type": "code",
   "execution_count": null,
   "id": "1b624872",
   "metadata": {},
   "outputs": [],
   "source": [
    "nrn = pcg_skel.coord_space_meshwork(\n",
    "    root_id=test_id,\n",
    "    client=client,\n",
    "    root_point=soma_loc, #sets soma point as root\n",
    "    root_point_resolution=[4.3, 4.3, 45],\n",
    "    collapse_soma=True,\n",
    "    collapse_radius=10000,\n",
    "    synapses=\"all\",\n",
    "    synapse_table=\"synapses_jan2022\", #stores all the pre and post synapses as annotations\n",
    ")"
   ]
  },
  {
   "cell_type": "code",
   "execution_count": null,
   "id": "4970b5f8",
   "metadata": {},
   "outputs": [],
   "source": [
    "simple_neuron_plot(nrn, projection='yz',highlight_root=True)"
   ]
  },
  {
   "cell_type": "markdown",
   "id": "b983322e",
   "metadata": {},
   "source": [
    "# To test out and visualize one neuron"
   ]
  },
  {
   "cell_type": "code",
   "execution_count": null,
   "id": "73455efe",
   "metadata": {},
   "outputs": [],
   "source": [
    "test_id = left_mn_df.loc[muscle_tuple_dict['tibia_extensor']]\n",
    "test_id = test_id.iloc[1].pt_root_id\n",
    "test_id\n"
   ]
  },
  {
   "cell_type": "code",
   "execution_count": null,
   "id": "1044f995",
   "metadata": {},
   "outputs": [],
   "source": [
    "mn_inputs = client.materialize.synapse_query(post_ids = test_id,timestamp=connectome_create.get_timestamp())"
   ]
  },
  {
   "cell_type": "code",
   "execution_count": null,
   "id": "f4bda242",
   "metadata": {},
   "outputs": [],
   "source": [
    "single_df = left_mn_df.query('pt_root_id == @test_id')\n",
    "soma_loc = single_df.pt_position[0]\n",
    "\n",
    "nrn = pcg_skel.coord_space_meshwork(\n",
    "    root_id=test_id,\n",
    "    client=client,\n",
    "    root_point=soma_loc, #sets soma point as root\n",
    "    root_point_resolution=[4.3, 4.3, 45],\n",
    "    collapse_soma=True,\n",
    "    collapse_radius=10000,\n",
    "    synapses=\"all\",\n",
    "    synapse_table=\"synapses_jan2022\", #stores all the pre and post synapses as annotations\n",
    ")"
   ]
  },
  {
   "cell_type": "code",
   "execution_count": null,
   "id": "fe478415",
   "metadata": {},
   "outputs": [],
   "source": [
    "rho = nrn.linear_density(nrn.anno.post_syn.skel_index, 100, normalize=True, exclude_root=False)"
   ]
  },
  {
   "cell_type": "code",
   "execution_count": null,
   "id": "310fe198",
   "metadata": {},
   "outputs": [],
   "source": [
    "simple_neuron_plot(nrn, projection='yz',synapses='post', highlight_root=True)"
   ]
  },
  {
   "cell_type": "code",
   "execution_count": null,
   "id": "ecfac837",
   "metadata": {},
   "outputs": [],
   "source": [
    "plt.hist(rho, bins=100)"
   ]
  },
  {
   "cell_type": "code",
   "execution_count": null,
   "id": "f0e11199",
   "metadata": {},
   "outputs": [],
   "source": [
    "# ma = trimesh_vtk.mesh_actor(nrn.mesh, vertex_colors=(1000*rho-0.5))\n",
    "# trimesh_vtk.render_actors([ma])"
   ]
  },
  {
   "cell_type": "code",
   "execution_count": null,
   "id": "418a20ba",
   "metadata": {},
   "outputs": [],
   "source": [
    "fig, ax = plt.subplots(figsize=(4,4), dpi=150)\n",
    "\n",
    "v1 = nrn.mesh.vertices[:,2]\n",
    "v2 = nrn.mesh.vertices[:,1]\n",
    "rid = nrn.root_region\n",
    "color = rho*1000\n",
    "ax.scatter(\n",
    "    v1,\n",
    "    v2,\n",
    "    s=1,\n",
    "    c=color,\n",
    "    vmin=0.0, vmax = 0.1\n",
    ")\n",
    "\n",
    "\n",
    "ax.scatter(\n",
    "    v1[rid],\n",
    "    v2[rid],\n",
    "    s=15,\n",
    "    color='violet',\n",
    ")\n",
    "\n",
    "ax.set_aspect('equal')\n",
    "\n",
    "flip = True\n",
    "if flip:\n",
    "    ax.invert_yaxis()"
   ]
  },
  {
   "cell_type": "code",
   "execution_count": null,
   "id": "d8d1dccd",
   "metadata": {},
   "outputs": [],
   "source": [
    "bundle = [i.split('_')[0] for i in mn_df.classification_system]\n",
    "mn_df['motor_bundle'] = bundle"
   ]
  },
  {
   "cell_type": "code",
   "execution_count": null,
   "id": "1b9868e1",
   "metadata": {},
   "outputs": [],
   "source": [
    "mn_df.motor_bundle.value_counts()"
   ]
  },
  {
   "cell_type": "markdown",
   "id": "6861d3d8",
   "metadata": {},
   "source": [
    "### Figures for population wide metrics"
   ]
  },
  {
   "cell_type": "code",
   "execution_count": null,
   "id": "17496051",
   "metadata": {},
   "outputs": [],
   "source": [
    "fig = plt.figure(1, figsize =[10,6])\n",
    "\n",
    "\n",
    "sns.scatterplot('total_volume_um3', 'input_syn_count', data = mn_df,\n",
    "               hue = 'motor_bundle',alpha=0.8)\n",
    "\n",
    "plt.show()"
   ]
  },
  {
   "cell_type": "code",
   "execution_count": null,
   "id": "4122c9e8",
   "metadata": {},
   "outputs": [],
   "source": [
    "mn_df['coarse_syn_density'] = mn_df.input_syn_count/mn_df.total_volume_um3"
   ]
  },
  {
   "cell_type": "code",
   "execution_count": null,
   "id": "2c6b0a0a",
   "metadata": {},
   "outputs": [],
   "source": [
    "mn_df['soma_pt_nm'] = [i * np.array([4.3,4.3,45]) for i in mn_df.pt_position_soma]"
   ]
  },
  {
   "cell_type": "code",
   "execution_count": null,
   "id": "1286aeee",
   "metadata": {},
   "outputs": [],
   "source": [
    "fig = plt.figure(1, figsize =[10,6])\n",
    "\n",
    "\n",
    "sns.scatterplot('total_volume_um3', 'coarse_syn_density', data = mn_df,\n",
    "               hue='motor_bundle', alpha=0.8)\n",
    "\n",
    "plt.show()"
   ]
  },
  {
   "cell_type": "code",
   "execution_count": null,
   "id": "96f78203",
   "metadata": {},
   "outputs": [],
   "source": []
  }
 ],
 "metadata": {
  "kernelspec": {
   "display_name": "Python 3.7.12 ('fanc_analysis')",
   "language": "python",
   "name": "python3"
  },
  "language_info": {
   "codemirror_mode": {
    "name": "ipython",
    "version": 3
   },
   "file_extension": ".py",
   "mimetype": "text/x-python",
   "name": "python",
   "nbconvert_exporter": "python",
   "pygments_lexer": "ipython3",
   "version": "3.7.12"
  },
  "vscode": {
   "interpreter": {
    "hash": "b315cc870c8bed6572d217175f80b2213d2d88f8d1534b43b9efee2de96efaec"
   }
  }
 },
 "nbformat": 4,
 "nbformat_minor": 5
}
