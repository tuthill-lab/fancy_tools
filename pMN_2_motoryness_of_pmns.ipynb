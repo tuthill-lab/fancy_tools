{
 "cells": [
  {
   "cell_type": "code",
   "execution_count": null,
   "metadata": {},
   "outputs": [],
   "source": [
    "import os\n",
    "import utils\n",
    "import connectome_create\n",
    "# viz_method = one of ['itkwidgets', 'vtk']\n",
    "viz_method = 'vtk'\n",
    "\n",
    "# import some of our favorite packages\n",
    "import pandas as pd\n",
    "import numpy as np\n",
    "import os\n",
    "import matplotlib.pyplot as plt\n",
    "import seaborn as sns\n",
    "import re\n",
    "import warnings\n",
    "\n",
    "%matplotlib inline\n",
    "from sklearn.metrics.pairwise import cosine_similarity\n",
    "from sklearn.cluster import AgglomerativeClustering\n",
    "# import nglui.statebuilder as ngstbld\n",
    "\n",
    "# # this is the EM specific package for querying the EM data\n",
    "from caveclient import CAVEclient\n",
    "\n",
    "\n",
    "# from meshparty import trimesh_io, trimesh_vtk\n",
    "# from meshparty import skeletonize, skeleton_io, skeleton\n",
    "import cloudvolume\n",
    "\n",
    "%load_ext autoreload\n",
    "%autoreload 2"
   ]
  },
  {
   "cell_type": "code",
   "execution_count": null,
   "metadata": {},
   "outputs": [],
   "source": [
    "# from pathlib import Path\n",
    "# import json\n",
    "\n",
    "# with open(Path.home() / '.cloudvolume/secrets/'/'cave-secret.json') as f:\n",
    "#         tokens = json.load(f)\n",
    "        \n",
    "# seg_source = 'graphene://https://cave.fanc-fly.com/segmentation/table/mar2021_prod'\n",
    "# cv = cloudvolume.CloudVolume(cloudpath=seg_source, use_https=True, secrets=tokens)"
   ]
  },
  {
   "cell_type": "code",
   "execution_count": null,
   "metadata": {
    "tags": []
   },
   "outputs": [],
   "source": [
    "datastack_name = 'fanc_production_mar2021'\n",
    "\n",
    "client = CAVEclient(datastack_name)"
   ]
  },
  {
   "cell_type": "code",
   "execution_count": null,
   "metadata": {
    "tags": []
   },
   "outputs": [],
   "source": [
    "# client = CAVEclient()\n",
    "\n",
    "# # if not os.path.isfile(os.path.expanduser(\"~/.cloudvolume/secrets/cave-secret.json\")):\n",
    "# client.auth.get_new_token(open=True)"
   ]
  },
  {
   "cell_type": "code",
   "execution_count": null,
   "metadata": {},
   "outputs": [],
   "source": [
    "# if you have not yet setup this computer, uncomment this below line\n",
    "# paste the token from the website in, and run the line\n",
    "\n",
    "# client.auth.save_token(token=\"c14cd7a3e18a1a697716a399afbf5778\", overwrite=True)\n",
    "\n",
    "# then comment or delete the line as you don't need to run it on this computer  again"
   ]
  },
  {
   "cell_type": "markdown",
   "metadata": {
    "tags": []
   },
   "source": [
    "# Load Premotor table"
   ]
  },
  {
   "cell_type": "code",
   "execution_count": null,
   "metadata": {
    "tags": []
   },
   "outputs": [],
   "source": [
    "pre_to_df = connectome_create.load_pre_to_df(ext='ordered_no_frags')"
   ]
  },
  {
   "cell_type": "code",
   "execution_count": null,
   "metadata": {},
   "outputs": [],
   "source": [
    "pre_to_df"
   ]
  },
  {
   "cell_type": "code",
   "execution_count": null,
   "metadata": {
    "tags": []
   },
   "outputs": [],
   "source": [
    "pre_to_mn_df = connectome_create.load_old_pre_to_mn_df(ext='matched_typed_with_nt')"
   ]
  },
  {
   "cell_type": "code",
   "execution_count": null,
   "metadata": {},
   "outputs": [],
   "source": [
    "pre_to_mn_df.groupby(level=[2,3]).size()"
   ]
  },
  {
   "cell_type": "code",
   "execution_count": null,
   "metadata": {},
   "outputs": [],
   "source": [
    "pre_to_df"
   ]
  },
  {
   "cell_type": "markdown",
   "metadata": {},
   "source": [
    "# How motor-y are different pMNs?"
   ]
  },
  {
   "cell_type": "markdown",
   "metadata": {},
   "source": [
    "## Local vnc neurons\n",
    "This cell plots the outputs of identified local neurons. It counts the number of total synapses, it computes the fraction onto motor neurons. Then it computes the fraction onto other classes and plots the total fraction."
   ]
  },
  {
   "cell_type": "code",
   "execution_count": null,
   "metadata": {},
   "outputs": [],
   "source": [
    "print(pre_to_df.index.get_level_values('cell_class').unique())\n",
    "\n",
    "classlist = ['motor', \n",
    "                    'descending', \n",
    "                    'sensory', \n",
    "                    'ascending', \n",
    "                    'intersegmental',\n",
    "                    'local', \n",
    "                    'non_t1_motor', \n",
    "                    'descending_post', \n",
    "                    'sensory_post',\n",
    "                    'ascending_post', \n",
    "                    'neurmodulatory_ascending_neuron',\n",
    "                    'vnc_non_premotor']"
   ]
  },
  {
   "cell_type": "code",
   "execution_count": null,
   "metadata": {},
   "outputs": [],
   "source": [
    "# How many local neurons? # ~536\n",
    "# segID\tmotor\thas_soma\tsensory\t neck\tlocal\t\n",
    "All = slice(None)\n",
    "local = pre_to_df.loc[:,('local',All,All,All,All)]\n",
    "local.head()\n",
    "\n",
    "# cell_class\tpreferred_pool\tNT\tclassification_system\tcell_type\n",
    "\n"
   ]
  },
  {
   "cell_type": "code",
   "execution_count": null,
   "metadata": {},
   "outputs": [],
   "source": [
    "# How many intersegmental neurons? # ~350\n",
    "# segID\tmotor\thas_soma\tsensory\t neck\tlocal\t\n",
    "\n",
    "def get_motory_fraction(pre_df,c_tup,compress_other_classes=False,srtstr='motor'):\n",
    "    ct_df = pre_df.loc[:,c_tup] # a more generalized version of the above\n",
    "\n",
    "    # pd.Series\n",
    "\n",
    "    # pd.DataFrame of fractional inputs\n",
    "    cell_classes = ct_df.index.get_level_values('cell_class').unique()\n",
    "    frac_df = pd.DataFrame(index=cell_classes,columns=ct_df.columns)\n",
    "    for key in cell_classes:\n",
    "        frac_df.loc[key,:] = ct_df.loc[key,:].sum(axis=0)        \n",
    "\n",
    "    ct_to_all    = ct_df.loc[All,:].sum(axis=0)                         # calculate the total\n",
    "    frac_df = frac_df/ct_to_all                                         # divide by the total\n",
    "    x = [i for i in range(len(ct_df.loc['motor',:].sum(axis=0)))]   \n",
    "    frac_df.loc['x',:] = x                                              # this x is the original order of the cell_class\n",
    "    frac_df.loc['total',:] = ct_to_all\n",
    "\n",
    "    if compress_other_classes:\n",
    "        otherlist = ['non_t1_motor', \n",
    "                    'descending_post', \n",
    "                    'sensory_post',\n",
    "                    'ascending_post', \n",
    "                    'neurmodulatory_ascending_neuron',\n",
    "                    'vnc_non_premotor']\n",
    "        frac_df.loc['other',:] = frac_df.loc[otherlist,:].sum(axis=0)\n",
    "        frac_df = frac_df.drop(otherlist,axis=0)\n",
    "        \n",
    "    frac_df = frac_df.sort_values([srtstr],axis=1,ascending=False)    # sort according to how t1 motory\n",
    "    sorted_total=frac_df.loc['total',:].to_numpy()                      # keep the sorted total \n",
    "    frac_df = frac_df.drop('total',axis=0)                             # drop the total row\n",
    "    \n",
    "    return frac_df, sorted_total                                       \n",
    "\n"
   ]
  },
  {
   "cell_type": "code",
   "execution_count": null,
   "metadata": {},
   "outputs": [],
   "source": [
    "def get_cum_motor_premotor(pre_df,c_tup):\n",
    "    ct_df = pre_df.loc[:,c_tup] # a more generalized version of the above\n",
    "\n",
    "    # pd.Series\n",
    "\n",
    "    # pd.DataFrame of fractional inputs\n",
    "    cell_classes = ct_df.index.get_level_values('cell_class').unique()\n",
    "    frac_df = pd.DataFrame(index=cell_classes,columns=ct_df.columns)\n",
    "    for key in cell_classes:\n",
    "        frac_df.loc[key,:] = ct_df.loc[key,:].sum(axis=0)        \n",
    "\n",
    "    ct_to_all    = ct_df.loc[All,:].sum(axis=0)                         # calculate the total\n",
    "    x = [i for i in range(len(ct_df.loc['motor',:].sum(axis=0)))]   \n",
    "    frac_df.loc['x',:] = x                                              # this x is the original order of the cell_class\n",
    "    frac_df.loc['total',:] = ct_to_all\n",
    "\n",
    "    otherpre = ['descending', \n",
    "                'sensory', \n",
    "                'ascending', \n",
    "                'intersegmental',]\n",
    "                \n",
    "    frac_df.loc['other_pre',:] = frac_df.loc[otherpre,:].sum(axis=0)\n",
    "\n",
    "\n",
    "    otherlist = ['non_t1_motor', \n",
    "                'descending_post', \n",
    "                'sensory_post',\n",
    "                'ascending_post', \n",
    "                'neurmodulatory_ascending_neuron',\n",
    "                'vnc_non_premotor']\n",
    "    \n",
    "    frac_df.loc['other',:] = frac_df.loc[otherlist,:].sum(axis=0)\n",
    "    frac_df.loc['other_frac',:] = frac_df.loc['other',:]/ct_to_all \n",
    "    frac_df = frac_df.drop(otherlist,axis=0)\n",
    "    \n",
    "    frac_df = frac_df.sort_values(['other_frac'],axis=1,ascending=True)    # sort according to how other fraction\n",
    "    sorted_total=frac_df.loc['total',:].to_numpy()                      # keep the sorted total \n",
    "    frac_df = frac_df.drop('total',axis=0)                             # drop the total row\n",
    "\n",
    "    frac_df.loc['cum_motor',:] = frac_df.loc['motor',:].cumsum()\n",
    "    frac_df.loc['cum_motor_frac',:] = frac_df.loc['cum_motor',:]/frac_df.loc['motor',:].sum()\n",
    "\n",
    "    frac_df.loc['cum_local',:]          = frac_df.loc['local',:].cumsum()\n",
    "    frac_df.loc['cum_descending',:]     = frac_df.loc['descending',:].cumsum()\n",
    "    frac_df.loc['cum_sensory',:]        = frac_df.loc['sensory',:].cumsum()\n",
    "    frac_df.loc['cum_intersegmental',:] = frac_df.loc['intersegmental',:].cumsum()\n",
    "    frac_df.loc['cum_other_pre',:] = frac_df.loc['other_pre',:].cumsum()\n",
    "    \n",
    "\n",
    "    # clean up a little\n",
    "    frac_df.loc['cum_motor',frac_df.loc['cum_motor',:]==0] = np.nan\n",
    "    frac_df.loc['cum_local',frac_df.loc['cum_local',:]==0] = np.nan\n",
    "    frac_df.loc['cum_other_pre',frac_df.loc['cum_other_pre',:]==0] = np.nan\n",
    "\n",
    "    # frac_df.loc['cum_motor_over_pre',:] = frac_df.loc['cum_motor',:]/frac_df.loc['cum_local',:]\n",
    "    frac_df.loc['cum_local_over_motor',:] = frac_df.loc['cum_local',:]/frac_df.loc['cum_motor',:]\n",
    "    frac_df.loc['cum_other_over_motor',:] = frac_df.loc['cum_other_pre',:]/frac_df.loc['cum_motor',:]\n",
    "\n",
    "    # frac_df.loc['cum_local_over_motor',frac_df.loc['cum_local_over_motor',:]>10] = np.nan\n",
    "    # frac_df.loc['cum_other_over_motor',frac_df.loc['cum_other_over_motor',:]>10] = np.nan\n",
    "\n",
    "    return frac_df, sorted_total\n",
    "\n"
   ]
  },
  {
   "cell_type": "code",
   "execution_count": null,
   "metadata": {},
   "outputs": [],
   "source": [
    "                                       \n",
    "fig, ax = plt.subplots(3, 5, figsize=(24,10),gridspec_kw={'height_ratios': [1, 2, 3]})\n",
    "xdim = pre_to_df.loc[:,('local',All,All,All,All)].shape[1]\n",
    "\n",
    "cell_clses = ['descending','sensory','ascending','intersegmental','local']\n",
    "ax_nums = [i for i in range(len(cell_clses))]\n",
    "for cls,cnt in zip(cell_clses,ax_nums):\n",
    "    # Descending\n",
    "    # 0) plot the 'other' fraction in the top plot\n",
    "    frac_df, sorted_total = get_cum_motor_premotor(pre_to_df,(cls,All,All,All,All))\n",
    "    x = [i for i in range(len(sorted_total))]\n",
    "    ax[0,cnt].plot(x,frac_df.loc['other_frac',:],color='#000000')\n",
    "    ax[0,cnt].set_xlim(0,xdim)\n",
    "    ax[0,cnt].set_ylim(0,1.05)\n",
    "\n",
    "    # 1) plot the cumulative motor fraction\n",
    "    ax[1,cnt].plot(x,frac_df.loc['cum_motor',:],color='#910951')\n",
    "    ax[1,cnt].set_xlim(0,xdim)\n",
    "    \n",
    "\n",
    "    # 2) plot the cumulative numbers \n",
    "    ax[2,cnt].plot(x,frac_df.loc['cum_local_over_motor',:],color=\"#7D688E\",label='local')\n",
    "    ax[2,cnt].plot(x,frac_df.loc['cum_descending',:]/frac_df.loc['cum_motor',:],color=\"#79D0F7\",label='descending')\n",
    "    ax[2,cnt].plot(x,frac_df.loc['cum_sensory',:]/frac_df.loc['cum_motor',:],color=\"#93E5B6\",label='sensory')\n",
    "    ax[2,cnt].plot(x,frac_df.loc['cum_intersegmental',:]/frac_df.loc['cum_motor',:],color=\"#CC9FCC\",label='intersegmental')\n",
    "    ax[2,cnt].plot(x,frac_df.loc['cum_other_pre',:]/frac_df.loc['cum_motor',:],color=\"#000000\",label='non-local')\n",
    "    ax[2,cnt].set_xlim(0,xdim)\n",
    "    ax[2,cnt].set_ylim(0,5)\n",
    "\n",
    "    ax[0,cnt].set_title(cls)\n",
    "    ax[2,cnt].set_xlabel('N ' + cls + ' pMNs')\n",
    "\n",
    "ax[0,0].set_ylabel('% to non-pMN')\n",
    "ax[1,0].set_ylabel('cumu. MN syn.')\n",
    "ax[2,0].set_ylabel('ratio of cum. clss to mn')\n",
    "\n",
    "ax[2,0].legend()\n",
    "\n",
    "fig.savefig('./figpanels/' + 'cumulative_motoryness' + '.svg',format='svg')"
   ]
  },
  {
   "cell_type": "markdown",
   "metadata": {},
   "source": [
    "## Look at local outputs vs mn outputs for different classes"
   ]
  },
  {
   "cell_type": "markdown",
   "metadata": {},
   "source": [
    "### 3D"
   ]
  },
  {
   "cell_type": "code",
   "execution_count": null,
   "metadata": {},
   "outputs": [],
   "source": [
    "# fig, ax = plt.subplots( 1, 3, figsize=(24,8))\n",
    "fig = plt.figure(figsize=(24,8))\n",
    "ax = [fig.add_subplot(1, 3, 1, projection='3d'), fig.add_subplot(1, 3, 2, projection='3d'), fig.add_subplot(1, 3, 3, projection='3d')]\n",
    "\n",
    "\n",
    "cell_clses = ['descending','intersegmental','local']\n",
    "# cell_clses = ['descending']\n",
    "ax_nums = [i for i in range(len(cell_clses))]\n",
    "lim = [2000,2000,2000]\n",
    "\n",
    "for cls,cnt in zip(cell_clses,ax_nums):\n",
    "    # Descending\n",
    "    # 0) plot the 'other' fraction in the top plot\n",
    "    frac_df, sorted_total = get_cum_motor_premotor(pre_to_df,(cls,All,All,All,All))\n",
    "    x = [i for i in range(len(sorted_total))]\n",
    "    # ax[cnt].plot([0, frac_df.loc['motor',:].max()],[0, frac_df.loc['motor',:].max()],color='#cccccc',)\n",
    "    # ax[cnt].plot(frac_df.loc['motor',:],frac_df.loc['local',:],color='#000000',ls='None', marker='.')\n",
    "\n",
    "    \n",
    "    ax[cnt].scatter(frac_df.loc['motor',:],frac_df.loc['local',:],frac_df.loc['other',:],color='#000000',ls='None', marker='.')\n",
    "    \n",
    "    ax[cnt].set_xlim([0,lim[cnt]])\n",
    "    ax[cnt].set_ylim([0,lim[cnt]])\n",
    "    ax[cnt].set_zlim([0,lim[cnt]])\n",
    "    # ax[cnt].set_aspect('equal')\n",
    "    ax[cnt].set_xlabel('synapses onto motor')\n",
    "    ax[cnt].set_ylabel('output onto local')\n",
    "    ax[cnt].set_zlabel('output onto non-premotor (but has soma)')\n",
    "    \n",
    "    more_loc_than_motor = (frac_df.loc['local',:] > frac_df.loc['motor',:]).sum()/frac_df.loc['local',:].count()\n",
    "    print(more_loc_than_motor)\n",
    "\n"
   ]
  },
  {
   "cell_type": "code",
   "execution_count": null,
   "metadata": {},
   "outputs": [],
   "source": [
    "# Plot them all on the same plot with different colors\n",
    "fig = plt.figure(figsize=(24,14))\n",
    "ax = [fig.add_subplot(1, 1, 1, projection='3d')]\n",
    "\n",
    "cell_clses = ['descending','intersegmental','local']\n",
    "# cell_clses = ['descending']\n",
    "ax_nums = [i for i in range(len(cell_clses))]\n",
    "lim = [2000,2000,2000]\n",
    "\n",
    "classlist = ['motor', 'descending', 'sensory', 'ascending', 'intersegmental','local',   'non_t1_motor', 'descending_post',  'sensory_post','ascending_post','neurmodulatory_ascending_neuron', 'vnc_non_premotor']\n",
    "colors = [  \"#000000\",  \"#CC9FCC\",        \"#7D688E\", \"#CC4893\",      '#79D0F7',          \"#93E5B6\",      \"#6084CC\",      \"#CC4893\",                          \"#CC9FCC\"]\n",
    "cmap = sns.set_palette(sns.color_palette(colors))\n",
    "\n",
    "for cls,clr in zip(cell_clses,colors):\n",
    "    # Descending\n",
    "    # 0) plot the 'other' fraction in the top plot\n",
    "    frac_df, sorted_total = get_cum_motor_premotor(pre_to_df,(cls,All,All,All,All))\n",
    "    x = [i for i in range(len(sorted_total))]\n",
    "    # ax[cnt].plot([0, frac_df.loc['motor',:].max()],[0, frac_df.loc['motor',:].max()],color='#cccccc',)\n",
    "    # ax[cnt].plot(frac_df.loc['motor',:],frac_df.loc['local',:],color='#000000',ls='None', marker='.')\n",
    "\n",
    "    \n",
    "    ax[0].scatter(frac_df.loc['motor',:],frac_df.loc['local',:],frac_df.loc['other',:],color=clr,ls='None', marker='.')\n",
    "    \n",
    "    ax[0].set_xlim([0,lim[cnt]])\n",
    "    ax[0].set_ylim([0,lim[cnt]])\n",
    "    ax[0].set_zlim([0,lim[cnt]])\n",
    "    # ax[cnt].set_aspect('equal')\n",
    "    ax[0].set_xlabel('synapses onto motor')\n",
    "    ax[0].set_ylabel('output onto local')\n",
    "    ax[0].set_zlabel('output onto other')\n",
    "    more_loc_than_motor = (frac_df.loc['local',:] > frac_df.loc['motor',:]).sum()/frac_df.loc['local',:].count()\n",
    "    print(more_loc_than_motor)\n",
    "\n"
   ]
  },
  {
   "cell_type": "markdown",
   "metadata": {},
   "source": [
    "### 2D"
   ]
  },
  {
   "cell_type": "code",
   "execution_count": null,
   "metadata": {},
   "outputs": [],
   "source": [
    "fig, ax = plt.subplots( 1, 3, figsize=(24,8))\n",
    "# fig = plt.figure(figsize=(24,8))\n",
    "# ax = [fig.add_subplot(1, 3, 1, projection='3d'), fig.add_subplot(1, 3, 2, projection='3d'), fig.add_subplot(1, 3, 3, projection='3d')]\n",
    "\n",
    "\n",
    "cell_clses = ['descending','intersegmental','local']\n",
    "# cell_clses = ['descending']\n",
    "ax_nums = [i for i in range(len(cell_clses))]\n",
    "lim = [4000,6000,4000]\n",
    "\n",
    "for cls,cnt in zip(cell_clses,ax_nums):\n",
    "    # Descending\n",
    "    # 0) plot the 'other' fraction in the top plot\n",
    "    frac_df, sorted_total = get_cum_motor_premotor(pre_to_df,(cls,All,All,All,All))\n",
    "    x = [i for i in range(len(sorted_total))]\n",
    "    ax[cnt].plot([0, frac_df.loc['motor',:].max()],[0, frac_df.loc['motor',:].max()],color='#cccccc',)\n",
    "    ax[cnt].plot(frac_df.loc['motor',:],frac_df.loc['local',:],color='#000000',ls='None', marker='.')\n",
    "\n",
    "    \n",
    "    ax[cnt].scatter(frac_df.loc['motor',:],frac_df.loc['local',:],color='#000000',ls='None', marker='.')\n",
    "    \n",
    "    ax[cnt].set_xlim([0,lim[cnt]])\n",
    "    ax[cnt].set_ylim([0,lim[cnt]])\n",
    "    ax[cnt].set_aspect('equal')\n",
    "    \n",
    "    ax[cnt].set_xlabel('synapses onto motor')\n",
    "    ax[cnt].set_ylabel('synapses onto local')\n",
    "    \n",
    "    more_loc_than_motor = (frac_df.loc['local',:] > frac_df.loc['motor',:]).sum()/frac_df.loc['local',:].count()\n",
    "    print(more_loc_than_motor)\n",
    "    print(frac_df.loc['local',:].sum()/frac_df.loc['motor',:].sum() )\n"
   ]
  },
  {
   "cell_type": "markdown",
   "metadata": {},
   "source": [
    "### Pie chart  "
   ]
  },
  {
   "cell_type": "code",
   "execution_count": null,
   "metadata": {},
   "outputs": [],
   "source": [
    "def get_sums_for_pie(pre_df,c_tup,condense_pre=False,condense_post=False):\n",
    "    ct_df = pre_df.loc[:,c_tup] # a more generalized version of the above\n",
    "\n",
    "    cell_classes = ct_df.index.get_level_values('cell_class').unique()\n",
    "    frac_df = pd.DataFrame(index=cell_classes,columns=ct_df.columns)\n",
    "    for key in cell_classes:\n",
    "        frac_df.loc[key,:] = ct_df.loc[key,:].sum(axis=0)        \n",
    "\n",
    "    if condense_pre:\n",
    "        otherpre = ['descending', \n",
    "                'sensory', \n",
    "                'ascending', \n",
    "                'intersegmental',]\n",
    "    \n",
    "        frac_df.loc['other_pre',:] = frac_df.loc[otherpre,:].sum(axis=0)\n",
    "        frac_df = frac_df.drop(otherpre,axis=0)\n",
    "\n",
    "    if condense_post:\n",
    "        otherlist = ['non_t1_motor', \n",
    "                'descending_post', \n",
    "                'sensory_post',\n",
    "                'ascending_post', \n",
    "                'neurmodulatory_ascending_neuron',\n",
    "                'vnc_non_premotor']\n",
    "    \n",
    "        frac_df.loc['other',:] = frac_df.loc[otherlist,:].sum(axis=0)\n",
    "        frac_df = frac_df.drop(otherlist,axis=0)\n",
    "\n",
    "    return frac_df\n",
    "\n"
   ]
  },
  {
   "cell_type": "code",
   "execution_count": null,
   "metadata": {},
   "outputs": [],
   "source": [
    "fig, ax = plt.subplots( 1, 3, figsize=(24,8))\n",
    "# fig = plt.figure(figsize=(24,8))\n",
    "# ax = [fig.add_subplot(1, 3, 1, projection='3d'), fig.add_subplot(1, 3, 2, projection='3d'), fig.add_subplot(1, 3, 3, projection='3d')]\n",
    "\n",
    "\n",
    "cell_clses = ['descending','intersegmental','local']\n",
    "# cell_clses = ['descending']\n",
    "ax_nums = [i for i in range(len(cell_clses))]\n",
    "lim = [4000,6000,4000]\n",
    "\n",
    "for cls,cnt in zip(cell_clses,ax_nums):\n",
    "    pie_df = get_sums_for_pie(pre_to_df,(cls,All,All,All,All),condense_pre=False,condense_post=False)\n",
    "    \n",
    "    sizes = pie_df.sum(axis=1)\n",
    "\n",
    "    ax[cnt].pie(sizes, explode=None, labels=sizes.index, autopct='%1.0f%%',\n",
    "              shadow=False, startangle=90)\n",
    "    ax[cnt].axis('equal')  # Equal aspect ratio ensures that pie is drawn as a circle.\n",
    "\n",
    "#     plt.show()\n",
    "\n",
    "fname = './figpanels/class_input_to_class_pie.svg'\n",
    "fig.savefig(fname,format='svg')"
   ]
  },
  {
   "cell_type": "code",
   "execution_count": null,
   "metadata": {},
   "outputs": [],
   "source": [
    "sizes"
   ]
  },
  {
   "cell_type": "markdown",
   "metadata": {},
   "source": [
    "# Example neurons for figure"
   ]
  },
  {
   "cell_type": "code",
   "execution_count": null,
   "metadata": {},
   "outputs": [],
   "source": [
    "%config InlineBackend.figure_formats = ['png']\n",
    "%matplotlib inline\n",
    "\n",
    "cmap = utils.white_dense()\n",
    "def conn_heat_map(df,xticks,yticks,figsz=[16,16],savefig=False,figfilename=None,cmap=cmap):\n",
    "    fig = plt.figure(1, figsize = figsz)\n",
    "    ax = sns.heatmap(np.log10(df.T.to_numpy()+1), xticklabels=xticks, yticklabels=yticks, cmap=cmap)\n",
    "    cbar = ax.collections[0].colorbar\n",
    "    # here set the labelsize by 20\n",
    "    # cbar.ax.tick_params(labelsize=20)\n",
    "    cbar.set_label(label = 'log 10 # of synapses', size=24)\n",
    "    plt.xlabel('Onto Output neurons', fontsize =18)\n",
    "    plt.ylabel('From input neurons', fontsize =18)\n",
    "    plt.yticks(fontsize = 16)\n",
    "    plt.xticks(fontsize = 16)\n",
    "    plt.show()\n",
    "    if figfilename is not None:\n",
    "        fig.savefig('./figpanels/' + figfilename + '.svg',format='svg')\n",
    "\n",
    "def lin_heat_map(df,xticks,yticks,figsz=[16,16],savefig=False,figfilename=None,cmap=cmap):\n",
    "    fig = plt.figure(1, figsize = figsz)\n",
    "    ax = sns.heatmap(df.T.to_numpy(), xticklabels=xticks, yticklabels=yticks, cmap=cmap)\n",
    "    cbar = ax.collections[0].colorbar\n",
    "    # here set the labelsize by 20\n",
    "    # cbar.ax.tick_params(labelsize=20)\n",
    "    cbar.set_label(label = 'linear', size=24)\n",
    "    plt.xlabel('Onto Output neurons', fontsize =18)\n",
    "    plt.ylabel('From input neurons', fontsize =18)\n",
    "    plt.yticks(fontsize = 16)\n",
    "    plt.xticks(fontsize = 16)\n",
    "    plt.show()\n",
    "    if figfilename is not None:\n",
    "        fig.savefig('./figpanels/' + figfilename + '.svg',format='svg')\n",
    "\n",
    "def keep_first_string_in_list(in_list):\n",
    "    out_list = []\n",
    "    key = None\n",
    "    for s in in_list:\n",
    "        if key is None:\n",
    "            key = s\n",
    "            out_list = out_list + [key]\n",
    "            continue\n",
    "        elif s==key:\n",
    "            out_list = out_list + ['']\n",
    "        else:\n",
    "            key = s\n",
    "            out_list = out_list + [s]\n",
    "    return out_list"
   ]
  },
  {
   "cell_type": "markdown",
   "metadata": {},
   "source": [
    "## Descending neurons"
   ]
  },
  {
   "cell_type": "code",
   "execution_count": null,
   "metadata": {},
   "outputs": [],
   "source": [
    "# Descending neuron that makes most of its connections to local neurons\n",
    "frac_df, sorted_total = get_cum_motor_premotor(pre_to_df,('descending',All,All,All,All))\n",
    "print(frac_df.loc[:,frac_df.loc['local',:]>2000].columns.get_level_values('segID'))\n",
    "\n",
    "print(frac_df.loc[:,frac_df.loc['motor',:]>1000].columns.get_level_values('segID'))\n",
    "\n"
   ]
  },
  {
   "cell_type": "code",
   "execution_count": null,
   "metadata": {},
   "outputs": [],
   "source": [
    "print(frac_df.loc['motor',:].sum())\n",
    "print(frac_df.loc['motor',frac_df.loc['motor',:]>1000].sum())"
   ]
  },
  {
   "cell_type": "markdown",
   "metadata": {},
   "source": [
    "## Ascending neurons"
   ]
  },
  {
   "cell_type": "code",
   "execution_count": null,
   "metadata": {},
   "outputs": [],
   "source": [
    "# fig, ax = plt.subplots( 1, 3, figsize=(24,8))\n",
    "fig = plt.figure(figsize=(24,8))\n",
    "ax = [fig.add_subplot(1, 1, 1, projection='3d')]\n",
    "\n",
    "\n",
    "cell_clses = ['ascending']\n",
    "ax_nums = [i for i in range(len(cell_clses))]\n",
    "lim = [2000,2000,2000]\n",
    "\n",
    "for cls,cnt in zip(cell_clses,ax_nums):\n",
    "    # Descending\n",
    "    # 0) plot the 'other' fraction in the top plot\n",
    "    frac_df, sorted_total = get_cum_motor_premotor(pre_to_df,(cls,All,All,All,All))\n",
    "    x = [i for i in range(len(sorted_total))]\n",
    "    # ax[cnt].plot([0, frac_df.loc['motor',:].max()],[0, frac_df.loc['motor',:].max()],color='#cccccc',)\n",
    "    # ax[cnt].plot(frac_df.loc['motor',:],frac_df.loc['local',:],color='#000000',ls='None', marker='.')\n",
    "\n",
    "    \n",
    "    ax[cnt].scatter(frac_df.loc['motor',:],frac_df.loc['local',:],frac_df.loc['other',:],color='#000000',ls='None', marker='.')\n",
    "    \n",
    "    ax[cnt].set_xlim([0,lim[cnt]])\n",
    "    ax[cnt].set_ylim([0,lim[cnt]])\n",
    "    ax[cnt].set_zlim([0,lim[cnt]])\n",
    "    # ax[cnt].set_aspect('equal')\n",
    "    ax[cnt].set_xlabel('synapses onto motor')\n",
    "    ax[cnt].set_ylabel('output onto local')\n",
    "    ax[cnt].set_zlabel('output onto non-premotor (but has soma)')\n",
    "    \n",
    "    more_loc_than_motor = (frac_df.loc['local',:] > frac_df.loc['motor',:]).sum()/frac_df.loc['local',:].count()\n",
    "    print(more_loc_than_motor)\n"
   ]
  },
  {
   "cell_type": "code",
   "execution_count": null,
   "metadata": {},
   "outputs": [],
   "source": [
    "fig, ax = plt.subplots( 1, 3, figsize=(24,8))\n",
    "# fig = plt.figure(figsize=(24,8))\n",
    "# ax = [fig.add_subplot(1, 3, 1, projection='3d'), fig.add_subplot(1, 3, 2, projection='3d'), fig.add_subplot(1, 3, 3, projection='3d')]\n",
    "\n",
    "\n",
    "cell_clses = ['ascending']\n",
    "ax_nums = [i for i in range(len(cell_clses))]\n",
    "lim = [4000,6000,4000]\n",
    "\n",
    "for cls,cnt in zip(cell_clses,ax_nums):\n",
    "    # Descending\n",
    "    # 0) plot the 'other' fraction in the top plot\n",
    "    frac_df, sorted_total = get_cum_motor_premotor(pre_to_df,(cls,All,All,All,All))\n",
    "    x = [i for i in range(len(sorted_total))]\n",
    "    ax[cnt].plot([0, frac_df.loc['motor',:].max()],[0, frac_df.loc['motor',:].max()],color='#cccccc',)\n",
    "    ax[cnt].plot(frac_df.loc['motor',:],frac_df.loc['local',:],color='#000000',ls='None', marker='.')\n",
    "\n",
    "    \n",
    "    ax[cnt].scatter(frac_df.loc['motor',:],frac_df.loc['local',:],color='#000000',ls='None', marker='.')\n",
    "    \n",
    "    ax[cnt].set_xlim([0,lim[cnt]])\n",
    "    ax[cnt].set_ylim([0,lim[cnt]])\n",
    "    ax[cnt].set_aspect('equal')\n",
    "    \n",
    "    ax[cnt].set_xlabel('synapses onto motor')\n",
    "    ax[cnt].set_ylabel('synapses onto local')\n",
    "    \n",
    "    more_loc_than_motor = (frac_df.loc['local',:] > frac_df.loc['motor',:]).sum()/frac_df.loc['local',:].count()\n",
    "    print(more_loc_than_motor)\n",
    "    print(frac_df.loc['local',:].sum()/frac_df.loc['motor',:].sum() )\n"
   ]
  },
  {
   "cell_type": "code",
   "execution_count": null,
   "metadata": {},
   "outputs": [],
   "source": [
    "# A neuron that makes most of its connections to local neurons\n",
    "frac_df, sorted_total = get_cum_motor_premotor(pre_to_df,('ascending',All,All,All,All))\n",
    "print(frac_df.loc[:,frac_df.loc['local',:]>2000].columns.get_level_values('segID'))\n",
    "\n",
    "print(frac_df.loc[:,frac_df.loc['motor',:]>1000].columns.get_level_values('segID'))\n"
   ]
  },
  {
   "cell_type": "code",
   "execution_count": null,
   "metadata": {},
   "outputs": [],
   "source": [
    "648518346496495106\n",
    "input_tup = ('ascending',['thorax_stance','thorax_swing'],All,All,All,All)\n",
    "output_tup = ('motor',All,All,All,All,All)\n",
    "\n",
    "pre_df_slice = pre_to_df.loc[output_tup,input_tup]\n",
    "\n",
    "xticklabels = keep_first_string_in_list(pre_df_slice.index.get_level_values('preferred_pool').to_list())\n",
    "conn_heat_map(df=pre_df_slice, xticks=xticklabels,yticks =[i for i in range(pre_df_slice.shape[1])], figsz=[10,10])\n"
   ]
  },
  {
   "cell_type": "markdown",
   "metadata": {},
   "source": [
    "## Intersegmental neurons"
   ]
  },
  {
   "cell_type": "code",
   "execution_count": null,
   "metadata": {},
   "outputs": [],
   "source": [
    "\n",
    "# Intersegmental neuron that makes a lot of local connections\n",
    "frac_df, sorted_total = get_cum_motor_premotor(pre_to_df,('intersegmental',All,All,All,All))\n",
    "print(frac_df.loc[:,frac_df.loc['local',:]>2000].columns.get_level_values('segID'))\n",
    "frac_df.loc[:,frac_df.loc['other',:]>2000]\n",
    "# Just moved this one over to the local neurons (8/18)\n",
    "\n",
    "frac_df, sorted_total = get_cum_motor_premotor(pre_to_df,('local',All,All,All,All))\n",
    "print(frac_df.loc[:,frac_df.loc['local',:]>3500].columns.get_level_values('segID'))\n",
    "# frac_df.loc[:,frac_df.loc['other',:]>2000]\n"
   ]
  },
  {
   "cell_type": "markdown",
   "metadata": {},
   "source": [
    "### FETi contact intersegmental neurons"
   ]
  },
  {
   "cell_type": "code",
   "execution_count": null,
   "metadata": {},
   "outputs": [],
   "source": [
    "# cell_class\tpreferred_pool\tNT\tclassification_system\tcell_type\n",
    "\n",
    "input_tup = ('intersegmental','tibia_extensor',All,All,All,All)\n",
    "output_tup = ('motor',All,All,All,All,All)\n",
    "\n",
    "pre_df_slice = pre_to_df.loc[output_tup,input_tup]\n",
    "\n",
    "%config InlineBackend.figure_formats = ['png']\n",
    "%matplotlib inline\n",
    "\n",
    "cmap = utils.white_dense()\n",
    "\n",
    "fig = plt.figure(1, figsize = [8,16])\n",
    "ax = sns.heatmap(np.log10(pre_df_slice.T.to_numpy()+1), cmap=cmap)\n",
    "cbar = ax.collections[0].colorbar\n",
    "# here set the labelsize by 20\n",
    "# cbar.ax.tick_params(labelsize=20)\n",
    "cbar.set_label(label = 'log 10 # of synapses', size=24)\n",
    "plt.xlabel('Motor Neurons', fontsize =18)\n",
    "plt.ylabel('All to motor', fontsize =18)\n",
    "plt.yticks(fontsize = 16)\n",
    "plt.xticks(fontsize = 16)\n",
    "plt.show()\n"
   ]
  },
  {
   "cell_type": "code",
   "execution_count": null,
   "metadata": {},
   "outputs": [],
   "source": [
    "# Some of the extensor contacting MNs\n",
    "pre_df_slice.iloc[:,7:11]"
   ]
  },
  {
   "cell_type": "markdown",
   "metadata": {},
   "source": [
    "### The claw contacting intersegmental neurons"
   ]
  },
  {
   "cell_type": "code",
   "execution_count": null,
   "metadata": {},
   "outputs": [],
   "source": [
    "# cell_class\tpreferred_pool\tNT\tclassification_system\tcell_type\n",
    "\n",
    "input_tup = ('intersegmental','ltm',All,All,All,All)\n",
    "output_tup = ('motor',All,All,All,All,All)\n",
    "\n",
    "pre_df_slice = pre_to_df.loc[output_tup,input_tup]\n",
    "\n",
    "xticklabels = keep_first_string_in_list(pre_df_slice.index.get_level_values('preferred_pool').to_list())\n",
    "conn_heat_map(df=pre_df_slice, xticks=xticklabels,yticks =[i for i in range(pre_df_slice.shape[1])], figsz=[10,10])\n"
   ]
  },
  {
   "cell_type": "code",
   "execution_count": null,
   "metadata": {},
   "outputs": [],
   "source": [
    "# Some of the extensor contacting MNs\n",
    "pre_df_slice.iloc[:,[0,1,3,5,6]]"
   ]
  },
  {
   "cell_type": "markdown",
   "metadata": {},
   "source": [
    "## Local examples"
   ]
  },
  {
   "cell_type": "markdown",
   "metadata": {},
   "source": [
    "### Femur reductor example"
   ]
  },
  {
   "cell_type": "code",
   "execution_count": null,
   "metadata": {},
   "outputs": [],
   "source": [
    "# cell_class\tpreferred_pool\tNT\tclassification_system\tcell_type\n",
    "\n",
    "input_tup = ('local','femur_reductor',All,All,All,All)\n",
    "output_tup = ('motor',All,All,All,All,All)\n",
    "\n",
    "pre_df_slice = pre_to_df.loc[output_tup,input_tup]\n",
    "\n",
    "xticklabels = keep_first_string_in_list(pre_df_slice.index.get_level_values('preferred_pool').to_list())\n",
    "conn_heat_map(df=pre_df_slice, xticks=xticklabels,yticks =[i for i in range(pre_df_slice.shape[1])], figsz=[10,10])\n"
   ]
  },
  {
   "cell_type": "code",
   "execution_count": null,
   "metadata": {},
   "outputs": [],
   "source": [
    "# Some of the extensor contacting MNs\n",
    "pre_df_slice.iloc[:,[1,2,3]]"
   ]
  },
  {
   "cell_type": "markdown",
   "metadata": {},
   "source": [
    "### R neurons"
   ]
  },
  {
   "cell_type": "code",
   "execution_count": null,
   "metadata": {},
   "outputs": [],
   "source": [
    "# cell_class\tpreferred_pool\tNT\tclassification_system\tcell_type\n",
    "\n",
    "input_tup = ('local',All,All,'R',All,All)\n",
    "output_tup = ('motor',All,All,All,All,All)\n",
    "\n",
    "pre_df_slice = pre_to_df.loc[output_tup,input_tup]\n",
    "\n",
    "xticklabels = keep_first_string_in_list(pre_df_slice.index.get_level_values('preferred_pool').to_list())\n",
    "conn_heat_map(df=pre_df_slice, xticks=xticklabels,yticks =[i for i in range(pre_df_slice.shape[1])], figsz=[10,10])\n"
   ]
  },
  {
   "cell_type": "code",
   "execution_count": null,
   "metadata": {},
   "outputs": [],
   "source": [
    "# Some of the extensor contacting MNs\n",
    "pre_df_slice.iloc[:,[0,2,3,8,13]]\n",
    "pre_df_slice.columns.get_level_values('segID').to_list()\n",
    "pre_df_slice"
   ]
  },
  {
   "cell_type": "markdown",
   "metadata": {},
   "source": [
    "# Now that preferred pools and all have been added to the index, groupby HL and preferred pool"
   ]
  },
  {
   "cell_type": "code",
   "execution_count": null,
   "metadata": {},
   "outputs": [],
   "source": []
  },
  {
   "cell_type": "markdown",
   "metadata": {},
   "source": [
    "# Plot bar plots"
   ]
  },
  {
   "cell_type": "code",
   "execution_count": null,
   "metadata": {},
   "outputs": [],
   "source": [
    "\n",
    "# # locs, labels = plt.xticks(ticks=x, labels=lbls, rotation=90)\n",
    "          #'motor', 'nont1',    'desc',     'sens',     'ascend',   'local',    'intr',     'vnc',      'fragments'\n",
    "classlist = ['motor', 'descending', 'sensory', 'ascending', 'intersegmental','local',   'non_t1_motor', 'descending_post',  'sensory_post','ascending_post','neurmodulatory_ascending_neuron', 'vnc_non_premotor']\n",
    "colors = [\"#910951\",  \"#79D0F7\",    \"#93E5B6\",  \"#6084CC\",  \"#CC9FCC\",        \"#7D688E\", \"#CC4893\",      '#79D0F7',          \"#93E5B6\",      \"#6084CC\",      \"#CC4893\",                          \"#CC9FCC\"]\n",
    "cmap = sns.set_palette(sns.color_palette(colors))"
   ]
  },
  {
   "cell_type": "code",
   "execution_count": null,
   "metadata": {},
   "outputs": [],
   "source": [
    "# ax = frac_df.T.plot(x='x',kind='barh', stacked=True, legend = True,align='edge') \n",
    "local_target_frac_df, sorted_total = get_motory_fraction(pre_to_df,('local',All,All,All,All),compress_other_classes=True,srtstr='other')\n",
    "ax = local_target_frac_df.T.plot(x='x',kind='barh', stacked=True, legend = True,width=1,cmap=cmap,figsize=(4,10)) \n",
    "# Most of them are pretty close to 1"
   ]
  },
  {
   "cell_type": "code",
   "execution_count": null,
   "metadata": {},
   "outputs": [],
   "source": []
  }
 ],
 "metadata": {
  "kernelspec": {
   "display_name": "Python 3.7.12 ('fanc_analysis')",
   "language": "python",
   "name": "python3"
  },
  "language_info": {
   "codemirror_mode": {
    "name": "ipython",
    "version": 3
   },
   "file_extension": ".py",
   "mimetype": "text/x-python",
   "name": "python",
   "nbconvert_exporter": "python",
   "pygments_lexer": "ipython3",
   "version": "3.7.12"
  },
  "vscode": {
   "interpreter": {
    "hash": "b315cc870c8bed6572d217175f80b2213d2d88f8d1534b43b9efee2de96efaec"
   }
  }
 },
 "nbformat": 4,
 "nbformat_minor": 4
}
